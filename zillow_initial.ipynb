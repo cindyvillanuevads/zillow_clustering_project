{
 "cells": [
  {
   "cell_type": "code",
   "execution_count": 6,
   "metadata": {},
   "outputs": [],
   "source": [
    "import seaborn as sns\n",
    "import pandas as pd\n",
    "import scipy.stats as stats\n",
    "import matplotlib.pyplot as plt\n",
    "from sklearn.linear_model import LinearRegression, LassoLars, TweedieRegressor\n",
    "from sklearn.preprocessing import PolynomialFeatures\n",
    "from IPython.display import display, HTML\n",
    "\n",
    "#import my modules\n",
    "import acquire as a\n",
    "import prepare as p\n",
    "import wrangle_zillow as w\n",
    "\n",
    "from sklearn.preprocessing import MinMaxScaler, RobustScaler"
   ]
  },
  {
   "cell_type": "markdown",
   "metadata": {},
   "source": [
    "# Acquire"
   ]
  },
  {
   "cell_type": "code",
   "execution_count": 7,
   "metadata": {},
   "outputs": [],
   "source": [
    "df = a.get_zillow()"
   ]
  },
  {
   "cell_type": "code",
   "execution_count": 8,
   "metadata": {
    "scrolled": true
   },
   "outputs": [
    {
     "data": {
      "text/html": [
       "<div>\n",
       "<style scoped>\n",
       "    .dataframe tbody tr th:only-of-type {\n",
       "        vertical-align: middle;\n",
       "    }\n",
       "\n",
       "    .dataframe tbody tr th {\n",
       "        vertical-align: top;\n",
       "    }\n",
       "\n",
       "    .dataframe thead th {\n",
       "        text-align: right;\n",
       "    }\n",
       "</style>\n",
       "<table border=\"1\" class=\"dataframe\">\n",
       "  <thead>\n",
       "    <tr style=\"text-align: right;\">\n",
       "      <th></th>\n",
       "      <th>parcelid</th>\n",
       "      <th>basementsqft</th>\n",
       "      <th>bathroomcnt</th>\n",
       "      <th>bedroomcnt</th>\n",
       "      <th>decktypeid</th>\n",
       "      <th>calculatedfinishedsquarefeet</th>\n",
       "      <th>fips</th>\n",
       "      <th>fireplacecnt</th>\n",
       "      <th>garagecarcnt</th>\n",
       "      <th>hashottuborspa</th>\n",
       "      <th>...</th>\n",
       "      <th>regionidcounty</th>\n",
       "      <th>regionidzip</th>\n",
       "      <th>typeconstructiondesc</th>\n",
       "      <th>unitcnt</th>\n",
       "      <th>structuretaxvaluedollarcnt</th>\n",
       "      <th>landtaxvaluedollarcnt</th>\n",
       "      <th>taxvaluedollarcnt</th>\n",
       "      <th>taxamount</th>\n",
       "      <th>logerror</th>\n",
       "      <th>transactiondate</th>\n",
       "    </tr>\n",
       "  </thead>\n",
       "  <tbody>\n",
       "    <tr>\n",
       "      <th>0</th>\n",
       "      <td>14297519</td>\n",
       "      <td>NaN</td>\n",
       "      <td>3.5</td>\n",
       "      <td>4.0</td>\n",
       "      <td>NaN</td>\n",
       "      <td>3100.0</td>\n",
       "      <td>6059.0</td>\n",
       "      <td>NaN</td>\n",
       "      <td>2.0</td>\n",
       "      <td>NaN</td>\n",
       "      <td>...</td>\n",
       "      <td>1286.0</td>\n",
       "      <td>96978.0</td>\n",
       "      <td>NaN</td>\n",
       "      <td>NaN</td>\n",
       "      <td>485713.0</td>\n",
       "      <td>537569.0</td>\n",
       "      <td>1023282.0</td>\n",
       "      <td>11013.72</td>\n",
       "      <td>0.025595</td>\n",
       "      <td>2017-01-01</td>\n",
       "    </tr>\n",
       "    <tr>\n",
       "      <th>1</th>\n",
       "      <td>17052889</td>\n",
       "      <td>NaN</td>\n",
       "      <td>1.0</td>\n",
       "      <td>2.0</td>\n",
       "      <td>NaN</td>\n",
       "      <td>1465.0</td>\n",
       "      <td>6111.0</td>\n",
       "      <td>1.0</td>\n",
       "      <td>1.0</td>\n",
       "      <td>NaN</td>\n",
       "      <td>...</td>\n",
       "      <td>2061.0</td>\n",
       "      <td>97099.0</td>\n",
       "      <td>NaN</td>\n",
       "      <td>NaN</td>\n",
       "      <td>88000.0</td>\n",
       "      <td>376000.0</td>\n",
       "      <td>464000.0</td>\n",
       "      <td>5672.48</td>\n",
       "      <td>0.055619</td>\n",
       "      <td>2017-01-01</td>\n",
       "    </tr>\n",
       "    <tr>\n",
       "      <th>2</th>\n",
       "      <td>14186244</td>\n",
       "      <td>NaN</td>\n",
       "      <td>2.0</td>\n",
       "      <td>3.0</td>\n",
       "      <td>NaN</td>\n",
       "      <td>1243.0</td>\n",
       "      <td>6059.0</td>\n",
       "      <td>NaN</td>\n",
       "      <td>2.0</td>\n",
       "      <td>NaN</td>\n",
       "      <td>...</td>\n",
       "      <td>1286.0</td>\n",
       "      <td>97078.0</td>\n",
       "      <td>NaN</td>\n",
       "      <td>NaN</td>\n",
       "      <td>85289.0</td>\n",
       "      <td>479489.0</td>\n",
       "      <td>564778.0</td>\n",
       "      <td>6488.30</td>\n",
       "      <td>0.005383</td>\n",
       "      <td>2017-01-01</td>\n",
       "    </tr>\n",
       "    <tr>\n",
       "      <th>3</th>\n",
       "      <td>12177905</td>\n",
       "      <td>NaN</td>\n",
       "      <td>3.0</td>\n",
       "      <td>4.0</td>\n",
       "      <td>NaN</td>\n",
       "      <td>2376.0</td>\n",
       "      <td>6037.0</td>\n",
       "      <td>NaN</td>\n",
       "      <td>NaN</td>\n",
       "      <td>NaN</td>\n",
       "      <td>...</td>\n",
       "      <td>3101.0</td>\n",
       "      <td>96330.0</td>\n",
       "      <td>NaN</td>\n",
       "      <td>1.0</td>\n",
       "      <td>108918.0</td>\n",
       "      <td>36225.0</td>\n",
       "      <td>145143.0</td>\n",
       "      <td>1777.51</td>\n",
       "      <td>-0.103410</td>\n",
       "      <td>2017-01-01</td>\n",
       "    </tr>\n",
       "    <tr>\n",
       "      <th>4</th>\n",
       "      <td>10887214</td>\n",
       "      <td>NaN</td>\n",
       "      <td>3.0</td>\n",
       "      <td>3.0</td>\n",
       "      <td>NaN</td>\n",
       "      <td>1312.0</td>\n",
       "      <td>6037.0</td>\n",
       "      <td>NaN</td>\n",
       "      <td>NaN</td>\n",
       "      <td>NaN</td>\n",
       "      <td>...</td>\n",
       "      <td>3101.0</td>\n",
       "      <td>96451.0</td>\n",
       "      <td>NaN</td>\n",
       "      <td>1.0</td>\n",
       "      <td>73681.0</td>\n",
       "      <td>45726.0</td>\n",
       "      <td>119407.0</td>\n",
       "      <td>1533.89</td>\n",
       "      <td>0.006940</td>\n",
       "      <td>2017-01-01</td>\n",
       "    </tr>\n",
       "  </tbody>\n",
       "</table>\n",
       "<p>5 rows × 36 columns</p>\n",
       "</div>"
      ],
      "text/plain": [
       "   parcelid  basementsqft  bathroomcnt  bedroomcnt  decktypeid  \\\n",
       "0  14297519           NaN          3.5         4.0         NaN   \n",
       "1  17052889           NaN          1.0         2.0         NaN   \n",
       "2  14186244           NaN          2.0         3.0         NaN   \n",
       "3  12177905           NaN          3.0         4.0         NaN   \n",
       "4  10887214           NaN          3.0         3.0         NaN   \n",
       "\n",
       "   calculatedfinishedsquarefeet    fips  fireplacecnt  garagecarcnt  \\\n",
       "0                        3100.0  6059.0           NaN           2.0   \n",
       "1                        1465.0  6111.0           1.0           1.0   \n",
       "2                        1243.0  6059.0           NaN           2.0   \n",
       "3                        2376.0  6037.0           NaN           NaN   \n",
       "4                        1312.0  6037.0           NaN           NaN   \n",
       "\n",
       "   hashottuborspa  ...  regionidcounty  regionidzip  typeconstructiondesc  \\\n",
       "0             NaN  ...          1286.0      96978.0                   NaN   \n",
       "1             NaN  ...          2061.0      97099.0                   NaN   \n",
       "2             NaN  ...          1286.0      97078.0                   NaN   \n",
       "3             NaN  ...          3101.0      96330.0                   NaN   \n",
       "4             NaN  ...          3101.0      96451.0                   NaN   \n",
       "\n",
       "   unitcnt  structuretaxvaluedollarcnt  landtaxvaluedollarcnt  \\\n",
       "0      NaN                    485713.0               537569.0   \n",
       "1      NaN                     88000.0               376000.0   \n",
       "2      NaN                     85289.0               479489.0   \n",
       "3      1.0                    108918.0                36225.0   \n",
       "4      1.0                     73681.0                45726.0   \n",
       "\n",
       "   taxvaluedollarcnt taxamount  logerror transactiondate  \n",
       "0          1023282.0  11013.72  0.025595      2017-01-01  \n",
       "1           464000.0   5672.48  0.055619      2017-01-01  \n",
       "2           564778.0   6488.30  0.005383      2017-01-01  \n",
       "3           145143.0   1777.51 -0.103410      2017-01-01  \n",
       "4           119407.0   1533.89  0.006940      2017-01-01  \n",
       "\n",
       "[5 rows x 36 columns]"
      ]
     },
     "execution_count": 8,
     "metadata": {},
     "output_type": "execute_result"
    }
   ],
   "source": [
    "df.head()"
   ]
  },
  {
   "cell_type": "code",
   "execution_count": 9,
   "metadata": {},
   "outputs": [
    {
     "data": {
      "text/plain": [
       "(77579, 36)"
      ]
     },
     "execution_count": 9,
     "metadata": {},
     "output_type": "execute_result"
    }
   ],
   "source": [
    "df.shape"
   ]
  },
  {
   "cell_type": "code",
   "execution_count": 10,
   "metadata": {},
   "outputs": [],
   "source": [
    "#getting the latest transactions \n",
    "df = df.sort_values(by ='transactiondate', ascending=True).drop_duplicates( subset = 'parcelid' ,keep= 'last')\n",
    "  "
   ]
  },
  {
   "cell_type": "code",
   "execution_count": 11,
   "metadata": {},
   "outputs": [
    {
     "data": {
      "text/plain": [
       "(77381, 36)"
      ]
     },
     "execution_count": 11,
     "metadata": {},
     "output_type": "execute_result"
    }
   ],
   "source": [
    "df.shape"
   ]
  },
  {
   "cell_type": "code",
   "execution_count": 12,
   "metadata": {},
   "outputs": [],
   "source": [
    "#this list has all types of single unit properties\n",
    "single= ['Single Family Residential',' Mobile Home' , 'Townhouse ', 'Manufactured, Modular, Prefabricated Homes'  ]"
   ]
  },
  {
   "cell_type": "code",
   "execution_count": 13,
   "metadata": {},
   "outputs": [],
   "source": [
    "#create a mask\n",
    "single_mask = df['propertylandusedesc'].isin(single)"
   ]
  },
  {
   "cell_type": "code",
   "execution_count": 14,
   "metadata": {},
   "outputs": [],
   "source": [
    "#if unitcnt == that's means is is a single property but if it is null we can compare with our list of single"
   ]
  },
  {
   "cell_type": "code",
   "execution_count": 15,
   "metadata": {},
   "outputs": [],
   "source": [
    "#using that mask and also add  a condition\n",
    "df_single = df[single_mask & ((df['unitcnt'] == 1) | (df['unitcnt'].isnull()))]\n",
    "    "
   ]
  },
  {
   "cell_type": "code",
   "execution_count": 16,
   "metadata": {},
   "outputs": [
    {
     "data": {
      "text/plain": [
       "(52350, 36)"
      ]
     },
     "execution_count": 16,
     "metadata": {},
     "output_type": "execute_result"
    }
   ],
   "source": [
    "#this df contains all single unit homes of 2017 with the latest transaction\n",
    "df_single.shape"
   ]
  },
  {
   "cell_type": "code",
   "execution_count": 17,
   "metadata": {
    "scrolled": false
   },
   "outputs": [
    {
     "name": "stdout",
     "output_type": "stream",
     "text": [
      "=====================================================\n",
      "Dataframe shape: \n",
      "(52350, 36)\n",
      "=====================================================\n",
      "Dataframe head: \n",
      "   parcelid  basementsqft  bathroomcnt  bedroomcnt  decktypeid  \\\n",
      "0  14297519           NaN          3.5         4.0         NaN   \n",
      "1  17052889           NaN          1.0         2.0         NaN   \n",
      "2  14186244           NaN          2.0         3.0         NaN   \n",
      "\n",
      "   calculatedfinishedsquarefeet    fips  fireplacecnt  garagecarcnt  \\\n",
      "0                        3100.0  6059.0           NaN           2.0   \n",
      "1                        1465.0  6111.0           1.0           1.0   \n",
      "2                        1243.0  6059.0           NaN           2.0   \n",
      "\n",
      "   hashottuborspa  ...  regionidcounty  regionidzip  typeconstructiondesc  \\\n",
      "0             NaN  ...          1286.0      96978.0                   NaN   \n",
      "1             NaN  ...          2061.0      97099.0                   NaN   \n",
      "2             NaN  ...          1286.0      97078.0                   NaN   \n",
      "\n",
      "   unitcnt  structuretaxvaluedollarcnt  landtaxvaluedollarcnt  \\\n",
      "0      NaN                    485713.0               537569.0   \n",
      "1      NaN                     88000.0               376000.0   \n",
      "2      NaN                     85289.0               479489.0   \n",
      "\n",
      "   taxvaluedollarcnt taxamount  logerror transactiondate  \n",
      "0          1023282.0  11013.72  0.025595      2017-01-01  \n",
      "1           464000.0   5672.48  0.055619      2017-01-01  \n",
      "2           564778.0   6488.30  0.005383      2017-01-01  \n",
      "\n",
      "[3 rows x 36 columns]\n",
      "=====================================================\n",
      "Dataframe info: \n",
      "<class 'pandas.core.frame.DataFrame'>\n",
      "Int64Index: 52350 entries, 0 to 77578\n",
      "Data columns (total 36 columns):\n",
      " #   Column                        Non-Null Count  Dtype  \n",
      "---  ------                        --------------  -----  \n",
      " 0   parcelid                      52350 non-null  int64  \n",
      " 1   basementsqft                  47 non-null     float64\n",
      " 2   bathroomcnt                   52350 non-null  float64\n",
      " 3   bedroomcnt                    52350 non-null  float64\n",
      " 4   decktypeid                    390 non-null    float64\n",
      " 5   calculatedfinishedsquarefeet  52262 non-null  float64\n",
      " 6   fips                          52350 non-null  float64\n",
      " 7   fireplacecnt                  7230 non-null   float64\n",
      " 8   garagecarcnt                  18017 non-null  float64\n",
      " 9   hashottuborspa                1514 non-null   float64\n",
      " 10  latitude                      52350 non-null  float64\n",
      " 11  longitude                     52350 non-null  float64\n",
      " 12  lotsizesquarefeet             51984 non-null  float64\n",
      " 13  poolcnt                       11072 non-null  float64\n",
      " 14  yearbuilt                     52230 non-null  float64\n",
      " 15  numberofstories               14531 non-null  float64\n",
      " 16  airconditioningtypeid         13610 non-null  float64\n",
      " 17  airconditioningdesc           13610 non-null  object \n",
      " 18  architecturalstyletypeid      70 non-null     float64\n",
      " 19  architecturalstyledesc        70 non-null     object \n",
      " 20  storytypeid                   47 non-null     float64\n",
      " 21  storydesc                     47 non-null     object \n",
      " 22  propertylandusetypeid         52350 non-null  float64\n",
      " 23  propertylandusedesc           52350 non-null  object \n",
      " 24  typeconstructiontypeid        76 non-null     float64\n",
      " 25  regionidcity                  51314 non-null  float64\n",
      " 26  regionidcounty                52350 non-null  float64\n",
      " 27  regionidzip                   52323 non-null  float64\n",
      " 28  typeconstructiondesc          76 non-null     object \n",
      " 29  unitcnt                       33734 non-null  float64\n",
      " 30  structuretaxvaluedollarcnt    52261 non-null  float64\n",
      " 31  landtaxvaluedollarcnt         52349 non-null  float64\n",
      " 32  taxvaluedollarcnt             52349 non-null  float64\n",
      " 33  taxamount                     52346 non-null  float64\n",
      " 34  logerror                      52350 non-null  float64\n",
      " 35  transactiondate               52350 non-null  object \n",
      "dtypes: float64(29), int64(1), object(6)\n",
      "memory usage: 14.8+ MB\n",
      "None\n",
      "=====================================================\n",
      "Dataframe Description: \n",
      "                                count          mean           std  \\\n",
      "parcelid                      52350.0  1.300170e+07  3.352540e+06   \n",
      "basementsqft                     47.0  6.789787e+02  7.118252e+02   \n",
      "bathroomcnt                   52350.0  2.298166e+00  1.020791e+00   \n",
      "bedroomcnt                    52350.0  3.297994e+00  9.476073e-01   \n",
      "decktypeid                      390.0  6.600000e+01  0.000000e+00   \n",
      "calculatedfinishedsquarefeet  52262.0  1.921948e+03  1.000498e+03   \n",
      "fips                          52350.0  6.049206e+03  2.111676e+01   \n",
      "fireplacecnt                   7230.0  1.209682e+00  5.129560e-01   \n",
      "garagecarcnt                  18017.0  1.949215e+00  5.494291e-01   \n",
      "hashottuborspa                 1514.0  1.000000e+00  0.000000e+00   \n",
      "latitude                      52350.0  3.402273e+07  2.740187e+05   \n",
      "longitude                     52350.0 -1.181950e+08  3.577449e+05   \n",
      "lotsizesquarefeet             51984.0  1.130779e+04  8.670670e+04   \n",
      "poolcnt                       11072.0  1.000000e+00  0.000000e+00   \n",
      "yearbuilt                     52230.0  1.963453e+03  2.311081e+01   \n",
      "numberofstories               14531.0  1.414011e+00  5.405324e-01   \n",
      "airconditioningtypeid         13610.0  2.440118e+00  3.848533e+00   \n",
      "architecturalstyletypeid         70.0  7.100000e+00  2.665670e+00   \n",
      "storytypeid                      47.0  7.000000e+00  0.000000e+00   \n",
      "propertylandusetypeid         52350.0  2.610155e+02  4.657438e-01   \n",
      "typeconstructiontypeid           76.0  5.973684e+00  2.294157e-01   \n",
      "regionidcity                  51314.0  3.349296e+04  4.907606e+04   \n",
      "regionidcounty                52350.0  2.523593e+03  8.038950e+02   \n",
      "regionidzip                   52323.0  9.663688e+04  4.609110e+03   \n",
      "unitcnt                       33734.0  1.000000e+00  0.000000e+00   \n",
      "structuretaxvaluedollarcnt    52261.0  1.964632e+05  2.542117e+05   \n",
      "landtaxvaluedollarcnt         52349.0  3.320823e+05  5.283058e+05   \n",
      "taxvaluedollarcnt             52349.0  5.282153e+05  7.203655e+05   \n",
      "taxamount                     52346.0  6.435407e+03  8.367895e+03   \n",
      "logerror                      52350.0  1.813059e-02  1.767137e-01   \n",
      "\n",
      "                                       min           25%           50%  \\\n",
      "parcelid                      1.071186e+07  1.151107e+07  1.258261e+07   \n",
      "basementsqft                  3.800000e+01  2.635000e+02  5.120000e+02   \n",
      "bathroomcnt                   0.000000e+00  2.000000e+00  2.000000e+00   \n",
      "bedroomcnt                    0.000000e+00  3.000000e+00  3.000000e+00   \n",
      "decktypeid                    6.600000e+01  6.600000e+01  6.600000e+01   \n",
      "calculatedfinishedsquarefeet  1.280000e+02  1.268000e+03  1.658000e+03   \n",
      "fips                          6.037000e+03  6.037000e+03  6.037000e+03   \n",
      "fireplacecnt                  1.000000e+00  1.000000e+00  1.000000e+00   \n",
      "garagecarcnt                  0.000000e+00  2.000000e+00  2.000000e+00   \n",
      "hashottuborspa                1.000000e+00  1.000000e+00  1.000000e+00   \n",
      "latitude                      3.334062e+07  3.382702e+07  3.402413e+07   \n",
      "longitude                    -1.194754e+08 -1.184017e+08 -1.181534e+08   \n",
      "lotsizesquarefeet             2.360000e+02  5.577750e+03  6.840000e+03   \n",
      "poolcnt                       1.000000e+00  1.000000e+00  1.000000e+00   \n",
      "yearbuilt                     1.878000e+03  1.950000e+03  1.961000e+03   \n",
      "numberofstories               1.000000e+00  1.000000e+00  1.000000e+00   \n",
      "airconditioningtypeid         1.000000e+00  1.000000e+00  1.000000e+00   \n",
      "architecturalstyletypeid      2.000000e+00  7.000000e+00  7.000000e+00   \n",
      "storytypeid                   7.000000e+00  7.000000e+00  7.000000e+00   \n",
      "propertylandusetypeid         2.610000e+02  2.610000e+02  2.610000e+02   \n",
      "typeconstructiontypeid        4.000000e+00  6.000000e+00  6.000000e+00   \n",
      "regionidcity                  3.491000e+03  1.244700e+04  2.481200e+04   \n",
      "regionidcounty                1.286000e+03  1.286000e+03  3.101000e+03   \n",
      "regionidzip                   9.598200e+04  9.620600e+04  9.641400e+04   \n",
      "unitcnt                       1.000000e+00  1.000000e+00  1.000000e+00   \n",
      "structuretaxvaluedollarcnt    1.290000e+02  7.703200e+04  1.317790e+05   \n",
      "landtaxvaluedollarcnt         1.610000e+02  7.614300e+04  2.179280e+05   \n",
      "taxvaluedollarcnt             1.000000e+03  1.936450e+05  3.733790e+05   \n",
      "taxamount                     4.918000e+01  2.653938e+03  4.644620e+03   \n",
      "logerror                     -4.655420e+00 -2.471233e-02  6.947985e-03   \n",
      "\n",
      "                                       75%           max  \n",
      "parcelid                      1.413323e+07  1.676878e+08  \n",
      "basementsqft                  8.095000e+02  3.560000e+03  \n",
      "bathroomcnt                   3.000000e+00  1.300000e+01  \n",
      "bedroomcnt                    4.000000e+00  1.100000e+01  \n",
      "decktypeid                    6.600000e+01  6.600000e+01  \n",
      "calculatedfinishedsquarefeet  2.304000e+03  2.192900e+04  \n",
      "fips                          6.059000e+03  6.111000e+03  \n",
      "fireplacecnt                  1.000000e+00  5.000000e+00  \n",
      "garagecarcnt                  2.000000e+00  1.400000e+01  \n",
      "hashottuborspa                1.000000e+00  1.000000e+00  \n",
      "latitude                      3.418780e+07  3.481877e+07  \n",
      "longitude                    -1.179291e+08 -1.175546e+08  \n",
      "lotsizesquarefeet             8.795000e+03  6.971010e+06  \n",
      "poolcnt                       1.000000e+00  1.000000e+00  \n",
      "yearbuilt                     1.979000e+03  2.016000e+03  \n",
      "numberofstories               2.000000e+00  6.000000e+00  \n",
      "airconditioningtypeid         1.000000e+00  1.300000e+01  \n",
      "architecturalstyletypeid      7.000000e+00  2.100000e+01  \n",
      "storytypeid                   7.000000e+00  7.000000e+00  \n",
      "propertylandusetypeid         2.610000e+02  2.750000e+02  \n",
      "typeconstructiontypeid        6.000000e+00  6.000000e+00  \n",
      "regionidcity                  4.022700e+04  3.965560e+05  \n",
      "regionidcounty                3.101000e+03  3.101000e+03  \n",
      "regionidzip                   9.699500e+04  3.996750e+05  \n",
      "unitcnt                       1.000000e+00  1.000000e+00  \n",
      "structuretaxvaluedollarcnt    2.262630e+05  9.164901e+06  \n",
      "landtaxvaluedollarcnt         4.083090e+05  2.233550e+07  \n",
      "taxvaluedollarcnt             6.189660e+05  2.538125e+07  \n",
      "taxamount                     7.373073e+03  2.909981e+05  \n",
      "logerror                      4.062342e-02  5.262999e+00  \n",
      "=====================================================\n",
      "**parcelid**\n",
      "Unique Values :  52350\n",
      " \n",
      "=====================================================\n",
      "**basementsqft**\n",
      "Unique Values :  41\n",
      " \n",
      "(34.477000000000004, 390.2]    20\n",
      "(390.2, 742.4]                 13\n",
      "(742.4, 1094.6]                 7\n",
      "(1094.6, 1446.8]                3\n",
      "(1446.8, 1799.0]                0\n",
      "(1799.0, 2151.2]                2\n",
      "(2151.2, 2503.4]                0\n",
      "(2503.4, 2855.6]                0\n",
      "(2855.6, 3207.8]                1\n",
      "(3207.8, 3560.0]                1\n",
      "Name: basementsqft, dtype: int64\n",
      "=====================================================\n",
      "**bathroomcnt**\n",
      "Unique Values :  21\n",
      " \n",
      "0.0       141\n",
      "1.0      9534\n",
      "1.5       839\n",
      "2.0     21867\n",
      "2.5      3932\n",
      "3.0     10643\n",
      "3.5       916\n",
      "4.0      2219\n",
      "4.5       685\n",
      "5.0       803\n",
      "5.5       224\n",
      "6.0       318\n",
      "6.5        47\n",
      "7.0        88\n",
      "7.5        16\n",
      "8.0        53\n",
      "8.5         3\n",
      "9.0        13\n",
      "10.0        5\n",
      "11.0        3\n",
      "13.0        1\n",
      "Name: bathroomcnt, dtype: int64\n",
      "=====================================================\n",
      "**bedroomcnt**\n"
     ]
    },
    {
     "name": "stdout",
     "output_type": "stream",
     "text": [
      "Unique Values :  12\n",
      " \n",
      "0.0       157\n",
      "1.0       610\n",
      "2.0      8343\n",
      "3.0     23302\n",
      "4.0     15202\n",
      "5.0      3964\n",
      "6.0       633\n",
      "7.0       105\n",
      "8.0        23\n",
      "9.0         8\n",
      "10.0        2\n",
      "11.0        1\n",
      "Name: bedroomcnt, dtype: int64\n",
      "=====================================================\n",
      "**decktypeid**\n",
      "Unique Values :  1\n",
      " \n",
      "66.0    390\n",
      "Name: decktypeid, dtype: int64\n",
      "=====================================================\n",
      "**calculatedfinishedsquarefeet**\n",
      "Unique Values :  4721\n",
      " \n",
      "=====================================================\n",
      "**fips**\n",
      "Unique Values :  3\n",
      " \n",
      "6037.0    33800\n",
      "6059.0    14110\n",
      "6111.0     4440\n",
      "Name: fips, dtype: int64\n",
      "=====================================================\n",
      "**fireplacecnt**\n",
      "Unique Values :  5\n",
      " \n",
      "1.0    6022\n",
      "2.0     941\n",
      "3.0     229\n",
      "4.0      35\n",
      "5.0       3\n",
      "Name: fireplacecnt, dtype: int64\n",
      "=====================================================\n",
      "**garagecarcnt**\n",
      "Unique Values :  14\n",
      " \n",
      "0.0        65\n",
      "1.0      2196\n",
      "2.0     14811\n",
      "3.0       621\n",
      "4.0       253\n",
      "5.0        45\n",
      "6.0        13\n",
      "7.0         3\n",
      "8.0         2\n",
      "9.0         2\n",
      "10.0        3\n",
      "11.0        1\n",
      "13.0        1\n",
      "14.0        1\n",
      "Name: garagecarcnt, dtype: int64\n",
      "=====================================================\n",
      "**hashottuborspa**\n",
      "Unique Values :  1\n",
      " \n",
      "1.0    1514\n",
      "Name: hashottuborspa, dtype: int64\n",
      "=====================================================\n",
      "**latitude**\n",
      "Unique Values :  50502\n",
      " \n",
      "=====================================================\n",
      "**longitude**\n",
      "Unique Values :  50788\n",
      " \n",
      "=====================================================\n",
      "**lotsizesquarefeet**\n",
      "Unique Values :  14295\n",
      " \n",
      "=====================================================\n",
      "**poolcnt**\n",
      "Unique Values :  1\n",
      " \n",
      "1.0    11072\n",
      "Name: poolcnt, dtype: int64\n",
      "=====================================================\n",
      "**yearbuilt**\n",
      "Unique Values :  133\n",
      " \n",
      "(1877.861, 1891.8]       22\n",
      "(1891.8, 1905.6]        166\n",
      "(1905.6, 1919.4]       1020\n",
      "(1919.4, 1933.2]       4068\n",
      "(1933.2, 1947.0]       4890\n",
      "(1947.0, 1960.8]      15889\n",
      "(1960.8, 1974.6]      10221\n",
      "(1974.6, 1988.4]       6971\n",
      "(1988.4, 2002.2]       5925\n",
      "(2002.2, 2016.0]       3058\n",
      "Name: yearbuilt, dtype: int64\n",
      "=====================================================\n",
      "**numberofstories**\n",
      "Unique Values :  4\n",
      " \n",
      "1.0    8869\n",
      "2.0    5311\n",
      "3.0     350\n",
      "6.0       1\n",
      "Name: numberofstories, dtype: int64\n",
      "=====================================================\n",
      "**airconditioningtypeid**\n",
      "Unique Values :  4\n",
      " \n",
      "1.0     11868\n",
      "5.0       159\n",
      "11.0       16\n",
      "13.0     1567\n",
      "Name: airconditioningtypeid, dtype: int64\n",
      "=====================================================\n",
      "**airconditioningdesc**\n",
      "Unique Values :  4\n",
      " \n",
      "Central      11868\n",
      "Yes           1567\n",
      "None           159\n",
      "Wall Unit       16\n",
      "Name: airconditioningdesc, dtype: int64\n",
      "=====================================================\n",
      "**architecturalstyletypeid**\n",
      "Unique Values :  5\n",
      " \n",
      "2.0      2\n",
      "3.0      3\n",
      "7.0     62\n",
      "8.0      1\n",
      "21.0     2\n",
      "Name: architecturalstyletypeid, dtype: int64\n",
      "=====================================================\n",
      "**architecturalstyledesc**\n",
      "Unique Values :  5\n",
      " \n",
      "Contemporary     62\n",
      "Cape Cod          3\n",
      "Ranch/Rambler     2\n",
      "Bungalow          2\n",
      "Conventional      1\n",
      "Name: architecturalstyledesc, dtype: int64\n",
      "=====================================================\n",
      "**storytypeid**\n",
      "Unique Values :  1\n",
      " \n",
      "7.0    47\n",
      "Name: storytypeid, dtype: int64\n",
      "=====================================================\n",
      "**storydesc**\n",
      "Unique Values :  1\n",
      " \n",
      "Basement    47\n",
      "Name: storydesc, dtype: int64\n",
      "=====================================================\n",
      "**propertylandusetypeid**\n",
      "Unique Values :  2\n",
      " \n",
      "261.0    52292\n",
      "275.0       58\n",
      "Name: propertylandusetypeid, dtype: int64\n",
      "=====================================================\n",
      "**propertylandusedesc**\n",
      "Unique Values :  2\n",
      " \n",
      "Single Family Residential                     52292\n",
      "Manufactured, Modular, Prefabricated Homes       58\n",
      "Name: propertylandusedesc, dtype: int64\n",
      "=====================================================\n",
      "**typeconstructiontypeid**\n",
      "Unique Values :  2\n",
      " \n",
      "4.0     1\n",
      "6.0    75\n",
      "Name: typeconstructiontypeid, dtype: int64\n",
      "=====================================================\n",
      "**regionidcity**\n",
      "Unique Values :  175\n",
      " \n",
      "(3097.9339999999997, 7421.65]     2617\n",
      "(7421.65, 11352.3]                1633\n",
      "(11352.3, 15282.95]              15619\n",
      "(15282.95, 19213.6]               2921\n",
      "(19213.6, 23144.25]               1243\n",
      "                                 ...  \n",
      "(376902.75, 380833.4]                0\n",
      "(380833.4, 384764.05]                0\n",
      "(384764.05, 388694.7]                0\n",
      "(388694.7, 392625.35]                0\n",
      "(392625.35, 396556.0]              779\n",
      "Name: regionidcity, Length: 100, dtype: int64\n",
      "=====================================================\n",
      "**regionidcounty**\n",
      "Unique Values :  3\n",
      " \n",
      "1286.0    14110\n",
      "2061.0     4440\n",
      "3101.0    33800\n",
      "Name: regionidcounty, dtype: int64\n",
      "=====================================================\n",
      "**regionidzip**\n",
      "Unique Values :  381\n",
      " \n",
      "(95678.306, 99018.93]     52311\n",
      "(99018.93, 102055.86]         0\n",
      "(102055.86, 105092.79]        0\n",
      "(105092.79, 108129.72]        0\n",
      "(108129.72, 111166.65]        0\n",
      "                          ...  \n",
      "(384490.35, 387527.28]        0\n",
      "(387527.28, 390564.21]        0\n",
      "(390564.21, 393601.14]        0\n",
      "(393601.14, 396638.07]        0\n",
      "(396638.07, 399675.0]        12\n",
      "Name: regionidzip, Length: 100, dtype: int64\n",
      "=====================================================\n",
      "**typeconstructiondesc**\n",
      "Unique Values :  2\n",
      " \n",
      "Frame       75\n",
      "Concrete     1\n",
      "Name: typeconstructiondesc, dtype: int64\n",
      "=====================================================\n",
      "**unitcnt**\n",
      "Unique Values :  1\n",
      " \n",
      "1.0    33734\n",
      "Name: unitcnt, dtype: int64\n",
      "=====================================================\n",
      "**structuretaxvaluedollarcnt**\n",
      "Unique Values :  37357\n",
      " \n",
      "=====================================================\n",
      "**landtaxvaluedollarcnt**\n",
      "Unique Values :  36932\n",
      " \n",
      "=====================================================\n",
      "**taxvaluedollarcnt**\n",
      "Unique Values :  38959\n",
      " \n",
      "=====================================================\n",
      "**taxamount**\n",
      "Unique Values :  50859\n",
      " \n",
      "=====================================================\n",
      "**logerror**\n",
      "Unique Values :  52091\n",
      " \n",
      "=====================================================\n",
      "**transactiondate**\n",
      "Unique Values :  257\n",
      " \n",
      "=====================================================\n"
     ]
    }
   ],
   "source": [
    "a.summarize(df_single)"
   ]
  },
  {
   "cell_type": "markdown",
   "metadata": {},
   "source": [
    "**takeaways**\n",
    "- numberofstories there is one property with 6 stories , I would drop it!\n",
    "- unitcnt is not needed any more. I would drop it\n",
    "- there are a lot of nulls so in preparation step I will handle them"
   ]
  },
  {
   "cell_type": "markdown",
   "metadata": {},
   "source": [
    "# Preparation"
   ]
  },
  {
   "cell_type": "code",
   "execution_count": 18,
   "metadata": {
    "scrolled": true
   },
   "outputs": [
    {
     "name": "stdout",
     "output_type": "stream",
     "text": [
      "Your selected dataframe has 36 columns.\n",
      "There are 25 columns that have missing values.\n",
      "  \n",
      "** There are 0 duplicate rows that represents 0.0% of total Values**\n"
     ]
    },
    {
     "data": {
      "text/html": [
       "<div>\n",
       "<style scoped>\n",
       "    .dataframe tbody tr th:only-of-type {\n",
       "        vertical-align: middle;\n",
       "    }\n",
       "\n",
       "    .dataframe tbody tr th {\n",
       "        vertical-align: top;\n",
       "    }\n",
       "\n",
       "    .dataframe thead th {\n",
       "        text-align: right;\n",
       "    }\n",
       "</style>\n",
       "<table border=\"1\" class=\"dataframe\">\n",
       "  <thead>\n",
       "    <tr style=\"text-align: right;\">\n",
       "      <th></th>\n",
       "      <th>Missing Values</th>\n",
       "      <th>% of Total Values</th>\n",
       "    </tr>\n",
       "  </thead>\n",
       "  <tbody>\n",
       "    <tr>\n",
       "      <th>basementsqft</th>\n",
       "      <td>52303</td>\n",
       "      <td>99.9</td>\n",
       "    </tr>\n",
       "    <tr>\n",
       "      <th>storydesc</th>\n",
       "      <td>52303</td>\n",
       "      <td>99.9</td>\n",
       "    </tr>\n",
       "    <tr>\n",
       "      <th>storytypeid</th>\n",
       "      <td>52303</td>\n",
       "      <td>99.9</td>\n",
       "    </tr>\n",
       "    <tr>\n",
       "      <th>architecturalstyledesc</th>\n",
       "      <td>52280</td>\n",
       "      <td>99.9</td>\n",
       "    </tr>\n",
       "    <tr>\n",
       "      <th>architecturalstyletypeid</th>\n",
       "      <td>52280</td>\n",
       "      <td>99.9</td>\n",
       "    </tr>\n",
       "    <tr>\n",
       "      <th>typeconstructiontypeid</th>\n",
       "      <td>52274</td>\n",
       "      <td>99.9</td>\n",
       "    </tr>\n",
       "    <tr>\n",
       "      <th>typeconstructiondesc</th>\n",
       "      <td>52274</td>\n",
       "      <td>99.9</td>\n",
       "    </tr>\n",
       "    <tr>\n",
       "      <th>decktypeid</th>\n",
       "      <td>51960</td>\n",
       "      <td>99.3</td>\n",
       "    </tr>\n",
       "    <tr>\n",
       "      <th>hashottuborspa</th>\n",
       "      <td>50836</td>\n",
       "      <td>97.1</td>\n",
       "    </tr>\n",
       "    <tr>\n",
       "      <th>fireplacecnt</th>\n",
       "      <td>45120</td>\n",
       "      <td>86.2</td>\n",
       "    </tr>\n",
       "    <tr>\n",
       "      <th>poolcnt</th>\n",
       "      <td>41278</td>\n",
       "      <td>78.9</td>\n",
       "    </tr>\n",
       "    <tr>\n",
       "      <th>airconditioningtypeid</th>\n",
       "      <td>38740</td>\n",
       "      <td>74.0</td>\n",
       "    </tr>\n",
       "    <tr>\n",
       "      <th>airconditioningdesc</th>\n",
       "      <td>38740</td>\n",
       "      <td>74.0</td>\n",
       "    </tr>\n",
       "    <tr>\n",
       "      <th>numberofstories</th>\n",
       "      <td>37819</td>\n",
       "      <td>72.2</td>\n",
       "    </tr>\n",
       "    <tr>\n",
       "      <th>garagecarcnt</th>\n",
       "      <td>34333</td>\n",
       "      <td>65.6</td>\n",
       "    </tr>\n",
       "    <tr>\n",
       "      <th>unitcnt</th>\n",
       "      <td>18616</td>\n",
       "      <td>35.6</td>\n",
       "    </tr>\n",
       "    <tr>\n",
       "      <th>regionidcity</th>\n",
       "      <td>1036</td>\n",
       "      <td>2.0</td>\n",
       "    </tr>\n",
       "    <tr>\n",
       "      <th>lotsizesquarefeet</th>\n",
       "      <td>366</td>\n",
       "      <td>0.7</td>\n",
       "    </tr>\n",
       "    <tr>\n",
       "      <th>yearbuilt</th>\n",
       "      <td>120</td>\n",
       "      <td>0.2</td>\n",
       "    </tr>\n",
       "    <tr>\n",
       "      <th>structuretaxvaluedollarcnt</th>\n",
       "      <td>89</td>\n",
       "      <td>0.2</td>\n",
       "    </tr>\n",
       "    <tr>\n",
       "      <th>calculatedfinishedsquarefeet</th>\n",
       "      <td>88</td>\n",
       "      <td>0.2</td>\n",
       "    </tr>\n",
       "    <tr>\n",
       "      <th>regionidzip</th>\n",
       "      <td>27</td>\n",
       "      <td>0.1</td>\n",
       "    </tr>\n",
       "    <tr>\n",
       "      <th>taxamount</th>\n",
       "      <td>4</td>\n",
       "      <td>0.0</td>\n",
       "    </tr>\n",
       "    <tr>\n",
       "      <th>landtaxvaluedollarcnt</th>\n",
       "      <td>1</td>\n",
       "      <td>0.0</td>\n",
       "    </tr>\n",
       "    <tr>\n",
       "      <th>taxvaluedollarcnt</th>\n",
       "      <td>1</td>\n",
       "      <td>0.0</td>\n",
       "    </tr>\n",
       "  </tbody>\n",
       "</table>\n",
       "</div>"
      ],
      "text/plain": [
       "                              Missing Values  % of Total Values\n",
       "basementsqft                           52303               99.9\n",
       "storydesc                              52303               99.9\n",
       "storytypeid                            52303               99.9\n",
       "architecturalstyledesc                 52280               99.9\n",
       "architecturalstyletypeid               52280               99.9\n",
       "typeconstructiontypeid                 52274               99.9\n",
       "typeconstructiondesc                   52274               99.9\n",
       "decktypeid                             51960               99.3\n",
       "hashottuborspa                         50836               97.1\n",
       "fireplacecnt                           45120               86.2\n",
       "poolcnt                                41278               78.9\n",
       "airconditioningtypeid                  38740               74.0\n",
       "airconditioningdesc                    38740               74.0\n",
       "numberofstories                        37819               72.2\n",
       "garagecarcnt                           34333               65.6\n",
       "unitcnt                                18616               35.6\n",
       "regionidcity                            1036                2.0\n",
       "lotsizesquarefeet                        366                0.7\n",
       "yearbuilt                                120                0.2\n",
       "structuretaxvaluedollarcnt                89                0.2\n",
       "calculatedfinishedsquarefeet              88                0.2\n",
       "regionidzip                               27                0.1\n",
       "taxamount                                  4                0.0\n",
       "landtaxvaluedollarcnt                      1                0.0\n",
       "taxvaluedollarcnt                          1                0.0"
      ]
     },
     "execution_count": 18,
     "metadata": {},
     "output_type": "execute_result"
    }
   ],
   "source": [
    "p.miss_dup_values(df_single)"
   ]
  },
  {
   "cell_type": "code",
   "execution_count": 19,
   "metadata": {},
   "outputs": [
    {
     "data": {
      "text/plain": [
       "(52350, 36)"
      ]
     },
     "execution_count": 19,
     "metadata": {},
     "output_type": "execute_result"
    }
   ],
   "source": [
    "df_single.shape"
   ]
  },
  {
   "cell_type": "code",
   "execution_count": 20,
   "metadata": {},
   "outputs": [],
   "source": [
    "# I will drop columns and rows with a lot of null values \n",
    "#here I will include unitcnt because the value is 1 for all the properties . as it is the next to 65.6% \n",
    "#I can include it in my function\n",
    "df_single= p.handle_missing_values(df_single, prop_required_columns=0.75, prop_required_row=0.75)"
   ]
  },
  {
   "cell_type": "code",
   "execution_count": 21,
   "metadata": {},
   "outputs": [
    {
     "data": {
      "text/plain": [
       "(52348, 20)"
      ]
     },
     "execution_count": 21,
     "metadata": {},
     "output_type": "execute_result"
    }
   ],
   "source": [
    "df_single.shape"
   ]
  },
  {
   "cell_type": "code",
   "execution_count": 22,
   "metadata": {
    "scrolled": false
   },
   "outputs": [
    {
     "name": "stdout",
     "output_type": "stream",
     "text": [
      "Your selected dataframe has 20 columns.\n",
      "There are 9 columns that have missing values.\n",
      "  \n",
      "** There are 0 duplicate rows that represents 0.0% of total Values**\n"
     ]
    },
    {
     "data": {
      "text/html": [
       "<div>\n",
       "<style scoped>\n",
       "    .dataframe tbody tr th:only-of-type {\n",
       "        vertical-align: middle;\n",
       "    }\n",
       "\n",
       "    .dataframe tbody tr th {\n",
       "        vertical-align: top;\n",
       "    }\n",
       "\n",
       "    .dataframe thead th {\n",
       "        text-align: right;\n",
       "    }\n",
       "</style>\n",
       "<table border=\"1\" class=\"dataframe\">\n",
       "  <thead>\n",
       "    <tr style=\"text-align: right;\">\n",
       "      <th></th>\n",
       "      <th>Missing Values</th>\n",
       "      <th>% of Total Values</th>\n",
       "    </tr>\n",
       "  </thead>\n",
       "  <tbody>\n",
       "    <tr>\n",
       "      <th>regionidcity</th>\n",
       "      <td>1034</td>\n",
       "      <td>2.0</td>\n",
       "    </tr>\n",
       "    <tr>\n",
       "      <th>lotsizesquarefeet</th>\n",
       "      <td>364</td>\n",
       "      <td>0.7</td>\n",
       "    </tr>\n",
       "    <tr>\n",
       "      <th>yearbuilt</th>\n",
       "      <td>118</td>\n",
       "      <td>0.2</td>\n",
       "    </tr>\n",
       "    <tr>\n",
       "      <th>structuretaxvaluedollarcnt</th>\n",
       "      <td>87</td>\n",
       "      <td>0.2</td>\n",
       "    </tr>\n",
       "    <tr>\n",
       "      <th>calculatedfinishedsquarefeet</th>\n",
       "      <td>86</td>\n",
       "      <td>0.2</td>\n",
       "    </tr>\n",
       "    <tr>\n",
       "      <th>regionidzip</th>\n",
       "      <td>25</td>\n",
       "      <td>0.0</td>\n",
       "    </tr>\n",
       "    <tr>\n",
       "      <th>taxamount</th>\n",
       "      <td>4</td>\n",
       "      <td>0.0</td>\n",
       "    </tr>\n",
       "    <tr>\n",
       "      <th>landtaxvaluedollarcnt</th>\n",
       "      <td>1</td>\n",
       "      <td>0.0</td>\n",
       "    </tr>\n",
       "    <tr>\n",
       "      <th>taxvaluedollarcnt</th>\n",
       "      <td>1</td>\n",
       "      <td>0.0</td>\n",
       "    </tr>\n",
       "  </tbody>\n",
       "</table>\n",
       "</div>"
      ],
      "text/plain": [
       "                              Missing Values  % of Total Values\n",
       "regionidcity                            1034                2.0\n",
       "lotsizesquarefeet                        364                0.7\n",
       "yearbuilt                                118                0.2\n",
       "structuretaxvaluedollarcnt                87                0.2\n",
       "calculatedfinishedsquarefeet              86                0.2\n",
       "regionidzip                               25                0.0\n",
       "taxamount                                  4                0.0\n",
       "landtaxvaluedollarcnt                      1                0.0\n",
       "taxvaluedollarcnt                          1                0.0"
      ]
     },
     "execution_count": 22,
     "metadata": {},
     "output_type": "execute_result"
    }
   ],
   "source": [
    "p.miss_dup_values(df_single)"
   ]
  },
  {
   "cell_type": "code",
   "execution_count": 23,
   "metadata": {},
   "outputs": [],
   "source": [
    "\n",
    "#all these  columns represent a minimun amount so I can drop them \n",
    "df_single= p.drop_low_missing_values(df_single, per= 3 )"
   ]
  },
  {
   "cell_type": "code",
   "execution_count": 24,
   "metadata": {},
   "outputs": [
    {
     "data": {
      "text/plain": [
       "(50819, 20)"
      ]
     },
     "execution_count": 24,
     "metadata": {},
     "output_type": "execute_result"
    }
   ],
   "source": [
    "df_single.shape"
   ]
  },
  {
   "cell_type": "code",
   "execution_count": 25,
   "metadata": {
    "scrolled": true
   },
   "outputs": [
    {
     "name": "stdout",
     "output_type": "stream",
     "text": [
      "Your selected dataframe has 20 columns.\n",
      "There are 0 columns that have missing values.\n",
      "  \n",
      "** There are 0 duplicate rows that represents 0.0% of total Values**\n"
     ]
    },
    {
     "data": {
      "text/html": [
       "<div>\n",
       "<style scoped>\n",
       "    .dataframe tbody tr th:only-of-type {\n",
       "        vertical-align: middle;\n",
       "    }\n",
       "\n",
       "    .dataframe tbody tr th {\n",
       "        vertical-align: top;\n",
       "    }\n",
       "\n",
       "    .dataframe thead th {\n",
       "        text-align: right;\n",
       "    }\n",
       "</style>\n",
       "<table border=\"1\" class=\"dataframe\">\n",
       "  <thead>\n",
       "    <tr style=\"text-align: right;\">\n",
       "      <th></th>\n",
       "      <th>Missing Values</th>\n",
       "      <th>% of Total Values</th>\n",
       "    </tr>\n",
       "  </thead>\n",
       "  <tbody>\n",
       "  </tbody>\n",
       "</table>\n",
       "</div>"
      ],
      "text/plain": [
       "Empty DataFrame\n",
       "Columns: [Missing Values, % of Total Values]\n",
       "Index: []"
      ]
     },
     "execution_count": 25,
     "metadata": {},
     "output_type": "execute_result"
    }
   ],
   "source": [
    "p.miss_dup_values(df_single)"
   ]
  },
  {
   "cell_type": "code",
   "execution_count": 26,
   "metadata": {
    "scrolled": false
   },
   "outputs": [
    {
     "name": "stdout",
     "output_type": "stream",
     "text": [
      "=====================================================\n",
      "Dataframe shape: \n",
      "(50819, 20)\n",
      "=====================================================\n",
      "Dataframe head: \n",
      "   parcelid  bathroomcnt  bedroomcnt  calculatedfinishedsquarefeet    fips  \\\n",
      "0  14297519          3.5         4.0                        3100.0  6059.0   \n",
      "1  17052889          1.0         2.0                        1465.0  6111.0   \n",
      "2  14186244          2.0         3.0                        1243.0  6059.0   \n",
      "\n",
      "     latitude    longitude  lotsizesquarefeet  yearbuilt  \\\n",
      "0  33634931.0 -117869207.0             4506.0     1998.0   \n",
      "1  34449266.0 -119281531.0            12647.0     1967.0   \n",
      "2  33886168.0 -117823170.0             8432.0     1962.0   \n",
      "\n",
      "   propertylandusetypeid        propertylandusedesc  regionidcity  \\\n",
      "0                  261.0  Single Family Residential       53571.0   \n",
      "1                  261.0  Single Family Residential       13091.0   \n",
      "2                  261.0  Single Family Residential       21412.0   \n",
      "\n",
      "   regionidcounty  regionidzip  structuretaxvaluedollarcnt  \\\n",
      "0          1286.0      96978.0                    485713.0   \n",
      "1          2061.0      97099.0                     88000.0   \n",
      "2          1286.0      97078.0                     85289.0   \n",
      "\n",
      "   landtaxvaluedollarcnt  taxvaluedollarcnt  taxamount  logerror  \\\n",
      "0               537569.0          1023282.0   11013.72  0.025595   \n",
      "1               376000.0           464000.0    5672.48  0.055619   \n",
      "2               479489.0           564778.0    6488.30  0.005383   \n",
      "\n",
      "  transactiondate  \n",
      "0      2017-01-01  \n",
      "1      2017-01-01  \n",
      "2      2017-01-01  \n",
      "=====================================================\n",
      "Dataframe info: \n",
      "<class 'pandas.core.frame.DataFrame'>\n",
      "Int64Index: 50819 entries, 0 to 77578\n",
      "Data columns (total 20 columns):\n",
      " #   Column                        Non-Null Count  Dtype  \n",
      "---  ------                        --------------  -----  \n",
      " 0   parcelid                      50819 non-null  int64  \n",
      " 1   bathroomcnt                   50819 non-null  float64\n",
      " 2   bedroomcnt                    50819 non-null  float64\n",
      " 3   calculatedfinishedsquarefeet  50819 non-null  float64\n",
      " 4   fips                          50819 non-null  float64\n",
      " 5   latitude                      50819 non-null  float64\n",
      " 6   longitude                     50819 non-null  float64\n",
      " 7   lotsizesquarefeet             50819 non-null  float64\n",
      " 8   yearbuilt                     50819 non-null  float64\n",
      " 9   propertylandusetypeid         50819 non-null  float64\n",
      " 10  propertylandusedesc           50819 non-null  object \n",
      " 11  regionidcity                  50819 non-null  float64\n",
      " 12  regionidcounty                50819 non-null  float64\n",
      " 13  regionidzip                   50819 non-null  float64\n",
      " 14  structuretaxvaluedollarcnt    50819 non-null  float64\n",
      " 15  landtaxvaluedollarcnt         50819 non-null  float64\n",
      " 16  taxvaluedollarcnt             50819 non-null  float64\n",
      " 17  taxamount                     50819 non-null  float64\n",
      " 18  logerror                      50819 non-null  float64\n",
      " 19  transactiondate               50819 non-null  object \n",
      "dtypes: float64(17), int64(1), object(2)\n",
      "memory usage: 8.1+ MB\n",
      "None\n",
      "=====================================================\n",
      "Dataframe Description: \n",
      "                                count          mean           std  \\\n",
      "parcelid                      50819.0  1.296844e+07  2.195958e+06   \n",
      "bathroomcnt                   50819.0  2.288819e+00  1.006699e+00   \n",
      "bedroomcnt                    50819.0  3.299002e+00  9.322314e-01   \n",
      "calculatedfinishedsquarefeet  50819.0  1.909686e+03  9.900678e+02   \n",
      "fips                          50819.0  6.049299e+03  2.123255e+01   \n",
      "latitude                      50819.0  3.402088e+07  2.720360e+05   \n",
      "longitude                     50819.0 -1.181949e+08  3.569119e+05   \n",
      "lotsizesquarefeet             50819.0  1.109532e+04  8.724931e+04   \n",
      "yearbuilt                     50819.0  1.963018e+03  2.281285e+01   \n",
      "propertylandusetypeid         50819.0  2.610113e+02  3.974989e-01   \n",
      "regionidcity                  50819.0  3.349493e+04  4.911873e+04   \n",
      "regionidcounty                50819.0  2.522646e+03  8.036144e+02   \n",
      "regionidzip                   50819.0  9.663387e+04  4.479027e+03   \n",
      "structuretaxvaluedollarcnt    50819.0  1.931185e+05  2.507213e+05   \n",
      "landtaxvaluedollarcnt         50819.0  3.292795e+05  5.200440e+05   \n",
      "taxvaluedollarcnt             50819.0  5.223980e+05  7.127052e+05   \n",
      "taxamount                     50819.0  6.350406e+03  8.258329e+03   \n",
      "logerror                      50819.0  1.815892e-02  1.765192e-01   \n",
      "\n",
      "                                       min           25%           50%  \\\n",
      "parcelid                      1.071186e+07  1.153214e+07  1.259377e+07   \n",
      "bathroomcnt                   0.000000e+00  2.000000e+00  2.000000e+00   \n",
      "bedroomcnt                    0.000000e+00  3.000000e+00  3.000000e+00   \n",
      "calculatedfinishedsquarefeet  1.280000e+02  1.265000e+03  1.650000e+03   \n",
      "fips                          6.037000e+03  6.037000e+03  6.037000e+03   \n",
      "latitude                      3.334085e+07  3.382731e+07  3.402067e+07   \n",
      "longitude                    -1.194753e+08 -1.183981e+08 -1.181526e+08   \n",
      "lotsizesquarefeet             2.360000e+02  5.568000e+03  6.822000e+03   \n",
      "yearbuilt                     1.878000e+03  1.950000e+03  1.960000e+03   \n",
      "propertylandusetypeid         2.610000e+02  2.610000e+02  2.610000e+02   \n",
      "regionidcity                  3.491000e+03  1.244700e+04  2.481200e+04   \n",
      "regionidcounty                1.286000e+03  1.286000e+03  3.101000e+03   \n",
      "regionidzip                   9.598200e+04  9.620400e+04  9.641500e+04   \n",
      "structuretaxvaluedollarcnt    1.290000e+02  7.660700e+04  1.304330e+05   \n",
      "landtaxvaluedollarcnt         1.610000e+02  7.421900e+04  2.165590e+05   \n",
      "taxvaluedollarcnt             3.254000e+03  1.917005e+05  3.696340e+05   \n",
      "taxamount                     4.918000e+01  2.633000e+03  4.596480e+03   \n",
      "logerror                     -4.655420e+00 -2.483251e-02  6.872644e-03   \n",
      "\n",
      "                                       75%           max  \n",
      "parcelid                      1.413462e+07  1.629608e+08  \n",
      "bathroomcnt                   3.000000e+00  1.300000e+01  \n",
      "bedroomcnt                    4.000000e+00  1.100000e+01  \n",
      "calculatedfinishedsquarefeet  2.284000e+03  2.192900e+04  \n",
      "fips                          6.059000e+03  6.111000e+03  \n",
      "latitude                      3.418539e+07  3.481877e+07  \n",
      "longitude                    -1.179297e+08 -1.175723e+08  \n",
      "lotsizesquarefeet             8.750000e+03  6.971010e+06  \n",
      "yearbuilt                     1.978000e+03  2.016000e+03  \n",
      "propertylandusetypeid         2.610000e+02  2.750000e+02  \n",
      "regionidcity                  4.022700e+04  3.965560e+05  \n",
      "regionidcounty                3.101000e+03  3.101000e+03  \n",
      "regionidzip                   9.699600e+04  3.996750e+05  \n",
      "structuretaxvaluedollarcnt    2.213380e+05  9.164901e+06  \n",
      "landtaxvaluedollarcnt         4.069315e+05  2.233550e+07  \n",
      "taxvaluedollarcnt             6.114780e+05  2.538125e+07  \n",
      "taxamount                     7.260900e+03  2.909981e+05  \n",
      "logerror                      4.057761e-02  5.262999e+00  \n",
      "=====================================================\n",
      "**parcelid**\n",
      "Unique Values :  50819\n",
      " \n",
      "=====================================================\n",
      "**bathroomcnt**\n",
      "Unique Values :  21\n",
      " \n",
      "0.0        46\n",
      "1.0      9318\n",
      "1.5       821\n",
      "2.0     21547\n",
      "2.5      3873\n",
      "3.0     10142\n",
      "3.5       884\n",
      "4.0      2066\n",
      "4.5       658\n",
      "5.0       741\n",
      "5.5       222\n",
      "6.0       283\n",
      "6.5        45\n",
      "7.0        85\n",
      "7.5        16\n",
      "8.0        49\n",
      "8.5         2\n",
      "9.0        12\n",
      "10.0        5\n",
      "11.0        3\n",
      "13.0        1\n",
      "Name: bathroomcnt, dtype: int64\n",
      "=====================================================\n",
      "**bedroomcnt**\n",
      "Unique Values :  12\n",
      " \n",
      "0.0        58\n",
      "1.0       562\n",
      "2.0      8137\n",
      "3.0     22850\n",
      "4.0     14712\n",
      "5.0      3763\n",
      "6.0       604\n",
      "7.0       100\n",
      "8.0        22\n",
      "9.0         8\n",
      "10.0        2\n",
      "11.0        1\n",
      "Name: bedroomcnt, dtype: int64\n",
      "=====================================================\n",
      "**calculatedfinishedsquarefeet**\n",
      "Unique Values :  4665\n",
      " \n",
      "=====================================================\n",
      "**fips**\n",
      "Unique Values :  3\n",
      " \n",
      "6037.0    32756\n",
      "6059.0    13685\n",
      "6111.0     4378\n",
      "Name: fips, dtype: int64\n",
      "=====================================================\n",
      "**latitude**\n",
      "Unique Values :  49105\n",
      " \n",
      "=====================================================\n",
      "**longitude**\n",
      "Unique Values :  49378\n",
      " \n",
      "=====================================================\n",
      "**lotsizesquarefeet**\n"
     ]
    },
    {
     "name": "stdout",
     "output_type": "stream",
     "text": [
      "Unique Values :  14037\n",
      " \n",
      "=====================================================\n",
      "**yearbuilt**\n",
      "Unique Values :  133\n",
      " \n",
      "(1877.861, 1891.8]       21\n",
      "(1891.8, 1905.6]        165\n",
      "(1905.6, 1919.4]       1001\n",
      "(1919.4, 1933.2]       3979\n",
      "(1933.2, 1947.0]       4787\n",
      "(1947.0, 1960.8]      15667\n",
      "(1960.8, 1974.6]      10098\n",
      "(1974.6, 1988.4]       6814\n",
      "(1988.4, 2002.2]       5595\n",
      "(2002.2, 2016.0]       2692\n",
      "Name: yearbuilt, dtype: int64\n",
      "=====================================================\n",
      "**propertylandusetypeid**\n",
      "Unique Values :  2\n",
      " \n",
      "261.0    50778\n",
      "275.0       41\n",
      "Name: propertylandusetypeid, dtype: int64\n",
      "=====================================================\n",
      "**propertylandusedesc**\n",
      "Unique Values :  2\n",
      " \n",
      "Single Family Residential                     50778\n",
      "Manufactured, Modular, Prefabricated Homes       41\n",
      "Name: propertylandusedesc, dtype: int64\n",
      "=====================================================\n",
      "**regionidcity**\n",
      "Unique Values :  175\n",
      " \n",
      "(3097.9339999999997, 7421.65]     2589\n",
      "(7421.65, 11352.3]                1628\n",
      "(11352.3, 15282.95]              15449\n",
      "(15282.95, 19213.6]               2899\n",
      "(19213.6, 23144.25]               1236\n",
      "                                 ...  \n",
      "(376902.75, 380833.4]                0\n",
      "(380833.4, 384764.05]                0\n",
      "(384764.05, 388694.7]                0\n",
      "(388694.7, 392625.35]                0\n",
      "(392625.35, 396556.0]              773\n",
      "Name: regionidcity, Length: 100, dtype: int64\n",
      "=====================================================\n",
      "**regionidcounty**\n",
      "Unique Values :  3\n",
      " \n",
      "1286.0    13685\n",
      "2061.0     4378\n",
      "3101.0    32756\n",
      "Name: regionidcounty, dtype: int64\n",
      "=====================================================\n",
      "**regionidzip**\n",
      "Unique Values :  378\n",
      " \n",
      "(95678.306, 99018.93]     50808\n",
      "(99018.93, 102055.86]         0\n",
      "(102055.86, 105092.79]        0\n",
      "(105092.79, 108129.72]        0\n",
      "(108129.72, 111166.65]        0\n",
      "                          ...  \n",
      "(384490.35, 387527.28]        0\n",
      "(387527.28, 390564.21]        0\n",
      "(390564.21, 393601.14]        0\n",
      "(393601.14, 396638.07]        0\n",
      "(396638.07, 399675.0]        11\n",
      "Name: regionidzip, Length: 100, dtype: int64\n",
      "=====================================================\n",
      "**structuretaxvaluedollarcnt**\n",
      "Unique Values :  36381\n",
      " \n",
      "=====================================================\n",
      "**landtaxvaluedollarcnt**\n",
      "Unique Values :  35969\n",
      " \n",
      "=====================================================\n",
      "**taxvaluedollarcnt**\n",
      "Unique Values :  37987\n",
      " \n",
      "=====================================================\n",
      "**taxamount**\n",
      "Unique Values :  49402\n",
      " \n",
      "=====================================================\n",
      "**logerror**\n",
      "Unique Values :  50576\n",
      " \n",
      "=====================================================\n",
      "**transactiondate**\n",
      "Unique Values :  257\n",
      " \n",
      "=====================================================\n"
     ]
    }
   ],
   "source": [
    "a.summarize(df_single)"
   ]
  },
  {
   "cell_type": "code",
   "execution_count": 27,
   "metadata": {
    "scrolled": true
   },
   "outputs": [
    {
     "data": {
      "image/png": "[encoded data removed]",
      "text/plain": [
       "<Figure size 432x288 with 1 Axes>"
      ]
     },
     "metadata": {
      "needs_background": "light"
     },
     "output_type": "display_data"
    },
    {
     "data": {
      "image/png": "[encoded data removed]",
      "text/plain": [
       "<Figure size 432x288 with 1 Axes>"
      ]
     },
     "metadata": {
      "needs_background": "light"
     },
     "output_type": "display_data"
    },
    {
     "data": {
      "image/png": "[encoded data removed]",
      "text/plain": [
       "<Figure size 432x288 with 1 Axes>"
      ]
     },
     "metadata": {
      "needs_background": "light"
     },
     "output_type": "display_data"
    },
    {
     "data": {
      "image/png": "[encoded data removed]",
      "text/plain": [
       "<Figure size 432x288 with 1 Axes>"
      ]
     },
     "metadata": {
      "needs_background": "light"
     },
     "output_type": "display_data"
    },
    {
     "data": {
      "image/png": "[encoded data removed]",
      "text/plain": [
       "<Figure size 432x288 with 1 Axes>"
      ]
     },
     "metadata": {
      "needs_background": "light"
     },
     "output_type": "display_data"
    },
    {
     "data": {
      "image/png": "[encoded data removed]",
      "text/plain": [
       "<Figure size 432x288 with 1 Axes>"
      ]
     },
     "metadata": {
      "needs_background": "light"
     },
     "output_type": "display_data"
    },
    {
     "data": {
      "image/png": "[encoded data removed]",
      "text/plain": [
       "<Figure size 432x288 with 1 Axes>"
      ]
     },
     "metadata": {
      "needs_background": "light"
     },
     "output_type": "display_data"
    },
    {
     "data": {
      "image/png": "[encoded data removed]",
      "text/plain": [
       "<Figure size 432x288 with 1 Axes>"
      ]
     },
     "metadata": {
      "needs_background": "light"
     },
     "output_type": "display_data"
    },
    {
     "data": {
      "image/png": "[encoded data removed]",
      "text/plain": [
       "<Figure size 432x288 with 1 Axes>"
      ]
     },
     "metadata": {
      "needs_background": "light"
     },
     "output_type": "display_data"
    },
    {
     "data": {
      "image/png": "[encoded data removed]",
      "text/plain": [
       "<Figure size 432x288 with 1 Axes>"
      ]
     },
     "metadata": {
      "needs_background": "light"
     },
     "output_type": "display_data"
    },
    {
     "data": {
      "image/png": "[encoded data removed]",
      "text/plain": [
       "<Figure size 432x288 with 1 Axes>"
      ]
     },
     "metadata": {
      "needs_background": "light"
     },
     "output_type": "display_data"
    },
    {
     "data": {
      "image/png": "[encoded data removed]",
      "text/plain": [
       "<Figure size 432x288 with 1 Axes>"
      ]
     },
     "metadata": {
      "needs_background": "light"
     },
     "output_type": "display_data"
    },
    {
     "data": {
      "image/png": "[encoded data removed]",
      "text/plain": [
       "<Figure size 432x288 with 1 Axes>"
      ]
     },
     "metadata": {
      "needs_background": "light"
     },
     "output_type": "display_data"
    },
    {
     "data": {
      "image/png": "[encoded data removed]",
      "text/plain": [
       "<Figure size 432x288 with 1 Axes>"
      ]
     },
     "metadata": {
      "needs_background": "light"
     },
     "output_type": "display_data"
    },
    {
     "data": {
      "image/png": "[encoded data removed]",
      "text/plain": [
       "<Figure size 432x288 with 1 Axes>"
      ]
     },
     "metadata": {
      "needs_background": "light"
     },
     "output_type": "display_data"
    },
    {
     "data": {
      "image/png": "[encoded data removed]",
      "text/plain": [
       "<Figure size 432x288 with 1 Axes>"
      ]
     },
     "metadata": {
      "needs_background": "light"
     },
     "output_type": "display_data"
    },
    {
     "data": {
      "image/png": "[encoded data removed]",
      "text/plain": [
       "<Figure size 432x288 with 1 Axes>"
      ]
     },
     "metadata": {
      "needs_background": "light"
     },
     "output_type": "display_data"
    },
    {
     "data": {
      "image/png": "[encoded data removed]",
      "text/plain": [
       "<Figure size 432x288 with 1 Axes>"
      ]
     },
     "metadata": {
      "needs_background": "light"
     },
     "output_type": "display_data"
    }
   ],
   "source": [
    "p.distribution(df_single)"
   ]
  },
  {
   "cell_type": "markdown",
   "metadata": {},
   "source": [
    "### get county names and create dummy variables with those"
   ]
  },
  {
   "cell_type": "code",
   "execution_count": 28,
   "metadata": {},
   "outputs": [],
   "source": [
    "# create dummy vars of fips id\n",
    "county_df = pd.get_dummies(df_single.fips)"
   ]
  },
  {
   "cell_type": "code",
   "execution_count": 29,
   "metadata": {
    "scrolled": true
   },
   "outputs": [
    {
     "data": {
      "text/html": [
       "<div>\n",
       "<style scoped>\n",
       "    .dataframe tbody tr th:only-of-type {\n",
       "        vertical-align: middle;\n",
       "    }\n",
       "\n",
       "    .dataframe tbody tr th {\n",
       "        vertical-align: top;\n",
       "    }\n",
       "\n",
       "    .dataframe thead th {\n",
       "        text-align: right;\n",
       "    }\n",
       "</style>\n",
       "<table border=\"1\" class=\"dataframe\">\n",
       "  <thead>\n",
       "    <tr style=\"text-align: right;\">\n",
       "      <th></th>\n",
       "      <th>6037.0</th>\n",
       "      <th>6059.0</th>\n",
       "      <th>6111.0</th>\n",
       "    </tr>\n",
       "  </thead>\n",
       "  <tbody>\n",
       "    <tr>\n",
       "      <th>0</th>\n",
       "      <td>0</td>\n",
       "      <td>1</td>\n",
       "      <td>0</td>\n",
       "    </tr>\n",
       "    <tr>\n",
       "      <th>1</th>\n",
       "      <td>0</td>\n",
       "      <td>0</td>\n",
       "      <td>1</td>\n",
       "    </tr>\n",
       "    <tr>\n",
       "      <th>2</th>\n",
       "      <td>0</td>\n",
       "      <td>1</td>\n",
       "      <td>0</td>\n",
       "    </tr>\n",
       "    <tr>\n",
       "      <th>3</th>\n",
       "      <td>1</td>\n",
       "      <td>0</td>\n",
       "      <td>0</td>\n",
       "    </tr>\n",
       "    <tr>\n",
       "      <th>6</th>\n",
       "      <td>1</td>\n",
       "      <td>0</td>\n",
       "      <td>0</td>\n",
       "    </tr>\n",
       "  </tbody>\n",
       "</table>\n",
       "</div>"
      ],
      "text/plain": [
       "   6037.0  6059.0  6111.0\n",
       "0       0       1       0\n",
       "1       0       0       1\n",
       "2       0       1       0\n",
       "3       1       0       0\n",
       "6       1       0       0"
      ]
     },
     "execution_count": 29,
     "metadata": {},
     "output_type": "execute_result"
    }
   ],
   "source": [
    "county_df.head()"
   ]
  },
  {
   "cell_type": "markdown",
   "metadata": {},
   "source": [
    "- county # 6037 -----> Los Angeles\n",
    "- county # 6059 -----> Orange\n",
    "- county # 6111 -----> Ventura"
   ]
  },
  {
   "cell_type": "code",
   "execution_count": 33,
   "metadata": {},
   "outputs": [],
   "source": [
    "#df_single = p.get_counties(df_single)"
   ]
  },
  {
   "cell_type": "code",
   "execution_count": 34,
   "metadata": {},
   "outputs": [],
   "source": [
    "# print(\"LA County Verified: \", df_single[df_single.fips==6037]['fips'].count() == df_single.los_angeles.sum())\n",
    "# print(\"Orange County Verified: \", df_single[df_single.fips==6059]['fips'].count() == df_single.orange.sum())\n",
    "# print(\"Ventura County Verified: \", df_single[df_single.fips==6111]['fips'].count() == df_single.ventura.sum())"
   ]
  },
  {
   "cell_type": "code",
   "execution_count": 35,
   "metadata": {},
   "outputs": [],
   "source": [
    "#now in my function I can drop fips"
   ]
  },
  {
   "cell_type": "markdown",
   "metadata": {},
   "source": [
    "###  Compute new features out of existing features in order to reduce noise, capture signals, and reduce collinearity, or dependence between independent variables."
   ]
  },
  {
   "cell_type": "markdown",
   "metadata": {},
   "source": [
    "**- age**"
   ]
  },
  {
   "cell_type": "code",
   "execution_count": 36,
   "metadata": {},
   "outputs": [],
   "source": [
    "df_single['age'] = 2017 - df.yearbuilt"
   ]
  },
  {
   "cell_type": "code",
   "execution_count": 37,
   "metadata": {
    "scrolled": true
   },
   "outputs": [
    {
     "data": {
      "text/html": [
       "<div>\n",
       "<style scoped>\n",
       "    .dataframe tbody tr th:only-of-type {\n",
       "        vertical-align: middle;\n",
       "    }\n",
       "\n",
       "    .dataframe tbody tr th {\n",
       "        vertical-align: top;\n",
       "    }\n",
       "\n",
       "    .dataframe thead th {\n",
       "        text-align: right;\n",
       "    }\n",
       "</style>\n",
       "<table border=\"1\" class=\"dataframe\">\n",
       "  <thead>\n",
       "    <tr style=\"text-align: right;\">\n",
       "      <th></th>\n",
       "      <th>parcelid</th>\n",
       "      <th>bathroomcnt</th>\n",
       "      <th>bedroomcnt</th>\n",
       "      <th>calculatedfinishedsquarefeet</th>\n",
       "      <th>fips</th>\n",
       "      <th>latitude</th>\n",
       "      <th>longitude</th>\n",
       "      <th>lotsizesquarefeet</th>\n",
       "      <th>yearbuilt</th>\n",
       "      <th>propertylandusetypeid</th>\n",
       "      <th>...</th>\n",
       "      <th>regionidcounty</th>\n",
       "      <th>regionidzip</th>\n",
       "      <th>structuretaxvaluedollarcnt</th>\n",
       "      <th>landtaxvaluedollarcnt</th>\n",
       "      <th>taxvaluedollarcnt</th>\n",
       "      <th>taxamount</th>\n",
       "      <th>logerror</th>\n",
       "      <th>transactiondate</th>\n",
       "      <th>county_name</th>\n",
       "      <th>age</th>\n",
       "    </tr>\n",
       "  </thead>\n",
       "  <tbody>\n",
       "    <tr>\n",
       "      <th>0</th>\n",
       "      <td>14297519</td>\n",
       "      <td>3.5</td>\n",
       "      <td>4.0</td>\n",
       "      <td>3100.0</td>\n",
       "      <td>6059.0</td>\n",
       "      <td>33634931.0</td>\n",
       "      <td>-117869207.0</td>\n",
       "      <td>4506.0</td>\n",
       "      <td>1998.0</td>\n",
       "      <td>261.0</td>\n",
       "      <td>...</td>\n",
       "      <td>1286.0</td>\n",
       "      <td>96978.0</td>\n",
       "      <td>485713.0</td>\n",
       "      <td>537569.0</td>\n",
       "      <td>1023282.0</td>\n",
       "      <td>11013.72</td>\n",
       "      <td>0.025595</td>\n",
       "      <td>2017-01-01</td>\n",
       "      <td>Orange</td>\n",
       "      <td>19.0</td>\n",
       "    </tr>\n",
       "    <tr>\n",
       "      <th>1</th>\n",
       "      <td>17052889</td>\n",
       "      <td>1.0</td>\n",
       "      <td>2.0</td>\n",
       "      <td>1465.0</td>\n",
       "      <td>6111.0</td>\n",
       "      <td>34449266.0</td>\n",
       "      <td>-119281531.0</td>\n",
       "      <td>12647.0</td>\n",
       "      <td>1967.0</td>\n",
       "      <td>261.0</td>\n",
       "      <td>...</td>\n",
       "      <td>2061.0</td>\n",
       "      <td>97099.0</td>\n",
       "      <td>88000.0</td>\n",
       "      <td>376000.0</td>\n",
       "      <td>464000.0</td>\n",
       "      <td>5672.48</td>\n",
       "      <td>0.055619</td>\n",
       "      <td>2017-01-01</td>\n",
       "      <td>Ventura</td>\n",
       "      <td>50.0</td>\n",
       "    </tr>\n",
       "    <tr>\n",
       "      <th>2</th>\n",
       "      <td>14186244</td>\n",
       "      <td>2.0</td>\n",
       "      <td>3.0</td>\n",
       "      <td>1243.0</td>\n",
       "      <td>6059.0</td>\n",
       "      <td>33886168.0</td>\n",
       "      <td>-117823170.0</td>\n",
       "      <td>8432.0</td>\n",
       "      <td>1962.0</td>\n",
       "      <td>261.0</td>\n",
       "      <td>...</td>\n",
       "      <td>1286.0</td>\n",
       "      <td>97078.0</td>\n",
       "      <td>85289.0</td>\n",
       "      <td>479489.0</td>\n",
       "      <td>564778.0</td>\n",
       "      <td>6488.30</td>\n",
       "      <td>0.005383</td>\n",
       "      <td>2017-01-01</td>\n",
       "      <td>Orange</td>\n",
       "      <td>55.0</td>\n",
       "    </tr>\n",
       "    <tr>\n",
       "      <th>3</th>\n",
       "      <td>12177905</td>\n",
       "      <td>3.0</td>\n",
       "      <td>4.0</td>\n",
       "      <td>2376.0</td>\n",
       "      <td>6037.0</td>\n",
       "      <td>34245180.0</td>\n",
       "      <td>-118240722.0</td>\n",
       "      <td>13038.0</td>\n",
       "      <td>1970.0</td>\n",
       "      <td>261.0</td>\n",
       "      <td>...</td>\n",
       "      <td>3101.0</td>\n",
       "      <td>96330.0</td>\n",
       "      <td>108918.0</td>\n",
       "      <td>36225.0</td>\n",
       "      <td>145143.0</td>\n",
       "      <td>1777.51</td>\n",
       "      <td>-0.103410</td>\n",
       "      <td>2017-01-01</td>\n",
       "      <td>Los Angeles</td>\n",
       "      <td>47.0</td>\n",
       "    </tr>\n",
       "    <tr>\n",
       "      <th>6</th>\n",
       "      <td>12095076</td>\n",
       "      <td>3.0</td>\n",
       "      <td>4.0</td>\n",
       "      <td>2962.0</td>\n",
       "      <td>6037.0</td>\n",
       "      <td>34145202.0</td>\n",
       "      <td>-118179824.0</td>\n",
       "      <td>63000.0</td>\n",
       "      <td>1950.0</td>\n",
       "      <td>261.0</td>\n",
       "      <td>...</td>\n",
       "      <td>3101.0</td>\n",
       "      <td>96293.0</td>\n",
       "      <td>276684.0</td>\n",
       "      <td>496619.0</td>\n",
       "      <td>773303.0</td>\n",
       "      <td>9516.26</td>\n",
       "      <td>-0.001011</td>\n",
       "      <td>2017-01-01</td>\n",
       "      <td>Los Angeles</td>\n",
       "      <td>67.0</td>\n",
       "    </tr>\n",
       "  </tbody>\n",
       "</table>\n",
       "<p>5 rows × 22 columns</p>\n",
       "</div>"
      ],
      "text/plain": [
       "   parcelid  bathroomcnt  bedroomcnt  calculatedfinishedsquarefeet    fips  \\\n",
       "0  14297519          3.5         4.0                        3100.0  6059.0   \n",
       "1  17052889          1.0         2.0                        1465.0  6111.0   \n",
       "2  14186244          2.0         3.0                        1243.0  6059.0   \n",
       "3  12177905          3.0         4.0                        2376.0  6037.0   \n",
       "6  12095076          3.0         4.0                        2962.0  6037.0   \n",
       "\n",
       "     latitude    longitude  lotsizesquarefeet  yearbuilt  \\\n",
       "0  33634931.0 -117869207.0             4506.0     1998.0   \n",
       "1  34449266.0 -119281531.0            12647.0     1967.0   \n",
       "2  33886168.0 -117823170.0             8432.0     1962.0   \n",
       "3  34245180.0 -118240722.0            13038.0     1970.0   \n",
       "6  34145202.0 -118179824.0            63000.0     1950.0   \n",
       "\n",
       "   propertylandusetypeid  ... regionidcounty  regionidzip  \\\n",
       "0                  261.0  ...         1286.0      96978.0   \n",
       "1                  261.0  ...         2061.0      97099.0   \n",
       "2                  261.0  ...         1286.0      97078.0   \n",
       "3                  261.0  ...         3101.0      96330.0   \n",
       "6                  261.0  ...         3101.0      96293.0   \n",
       "\n",
       "   structuretaxvaluedollarcnt  landtaxvaluedollarcnt  taxvaluedollarcnt  \\\n",
       "0                    485713.0               537569.0          1023282.0   \n",
       "1                     88000.0               376000.0           464000.0   \n",
       "2                     85289.0               479489.0           564778.0   \n",
       "3                    108918.0                36225.0           145143.0   \n",
       "6                    276684.0               496619.0           773303.0   \n",
       "\n",
       "   taxamount  logerror  transactiondate  county_name   age  \n",
       "0   11013.72  0.025595       2017-01-01       Orange  19.0  \n",
       "1    5672.48  0.055619       2017-01-01      Ventura  50.0  \n",
       "2    6488.30  0.005383       2017-01-01       Orange  55.0  \n",
       "3    1777.51 -0.103410       2017-01-01  Los Angeles  47.0  \n",
       "6    9516.26 -0.001011       2017-01-01  Los Angeles  67.0  \n",
       "\n",
       "[5 rows x 22 columns]"
      ]
     },
     "execution_count": 37,
     "metadata": {},
     "output_type": "execute_result"
    }
   ],
   "source": [
    "df_single.head()"
   ]
  },
  {
   "cell_type": "code",
   "execution_count": 38,
   "metadata": {
    "scrolled": true
   },
   "outputs": [
    {
     "data": {
      "text/html": [
       "<div>\n",
       "<style scoped>\n",
       "    .dataframe tbody tr th:only-of-type {\n",
       "        vertical-align: middle;\n",
       "    }\n",
       "\n",
       "    .dataframe tbody tr th {\n",
       "        vertical-align: top;\n",
       "    }\n",
       "\n",
       "    .dataframe thead th {\n",
       "        text-align: right;\n",
       "    }\n",
       "</style>\n",
       "<table border=\"1\" class=\"dataframe\">\n",
       "  <thead>\n",
       "    <tr style=\"text-align: right;\">\n",
       "      <th></th>\n",
       "      <th>age</th>\n",
       "    </tr>\n",
       "  </thead>\n",
       "  <tbody>\n",
       "    <tr>\n",
       "      <th>count</th>\n",
       "      <td>50819.000000</td>\n",
       "    </tr>\n",
       "    <tr>\n",
       "      <th>mean</th>\n",
       "      <td>53.981523</td>\n",
       "    </tr>\n",
       "    <tr>\n",
       "      <th>std</th>\n",
       "      <td>22.812845</td>\n",
       "    </tr>\n",
       "    <tr>\n",
       "      <th>min</th>\n",
       "      <td>1.000000</td>\n",
       "    </tr>\n",
       "    <tr>\n",
       "      <th>25%</th>\n",
       "      <td>39.000000</td>\n",
       "    </tr>\n",
       "    <tr>\n",
       "      <th>50%</th>\n",
       "      <td>57.000000</td>\n",
       "    </tr>\n",
       "    <tr>\n",
       "      <th>75%</th>\n",
       "      <td>67.000000</td>\n",
       "    </tr>\n",
       "    <tr>\n",
       "      <th>max</th>\n",
       "      <td>139.000000</td>\n",
       "    </tr>\n",
       "  </tbody>\n",
       "</table>\n",
       "</div>"
      ],
      "text/plain": [
       "                age\n",
       "count  50819.000000\n",
       "mean      53.981523\n",
       "std       22.812845\n",
       "min        1.000000\n",
       "25%       39.000000\n",
       "50%       57.000000\n",
       "75%       67.000000\n",
       "max      139.000000"
      ]
     },
     "execution_count": 38,
     "metadata": {},
     "output_type": "execute_result"
    }
   ],
   "source": [
    "df_single[['age']].describe()"
   ]
  },
  {
   "cell_type": "code",
   "execution_count": 39,
   "metadata": {},
   "outputs": [],
   "source": [
    "# I can drop yearbuilt"
   ]
  },
  {
   "cell_type": "markdown",
   "metadata": {},
   "source": [
    "**- taxrate**\n"
   ]
  },
  {
   "cell_type": "code",
   "execution_count": 40,
   "metadata": {},
   "outputs": [],
   "source": [
    "df_single['taxrate'] = df_single.taxamount/df_single.taxvaluedollarcnt*100"
   ]
  },
  {
   "cell_type": "code",
   "execution_count": 41,
   "metadata": {
    "scrolled": true
   },
   "outputs": [
    {
     "data": {
      "text/html": [
       "<div>\n",
       "<style scoped>\n",
       "    .dataframe tbody tr th:only-of-type {\n",
       "        vertical-align: middle;\n",
       "    }\n",
       "\n",
       "    .dataframe tbody tr th {\n",
       "        vertical-align: top;\n",
       "    }\n",
       "\n",
       "    .dataframe thead th {\n",
       "        text-align: right;\n",
       "    }\n",
       "</style>\n",
       "<table border=\"1\" class=\"dataframe\">\n",
       "  <thead>\n",
       "    <tr style=\"text-align: right;\">\n",
       "      <th></th>\n",
       "      <th>taxrate</th>\n",
       "    </tr>\n",
       "  </thead>\n",
       "  <tbody>\n",
       "    <tr>\n",
       "      <th>count</th>\n",
       "      <td>50819.000000</td>\n",
       "    </tr>\n",
       "    <tr>\n",
       "      <th>mean</th>\n",
       "      <td>1.332409</td>\n",
       "    </tr>\n",
       "    <tr>\n",
       "      <th>std</th>\n",
       "      <td>0.563718</td>\n",
       "    </tr>\n",
       "    <tr>\n",
       "      <th>min</th>\n",
       "      <td>0.009372</td>\n",
       "    </tr>\n",
       "    <tr>\n",
       "      <th>25%</th>\n",
       "      <td>1.163323</td>\n",
       "    </tr>\n",
       "    <tr>\n",
       "      <th>50%</th>\n",
       "      <td>1.231985</td>\n",
       "    </tr>\n",
       "    <tr>\n",
       "      <th>75%</th>\n",
       "      <td>1.365681</td>\n",
       "    </tr>\n",
       "    <tr>\n",
       "      <th>max</th>\n",
       "      <td>49.364739</td>\n",
       "    </tr>\n",
       "  </tbody>\n",
       "</table>\n",
       "</div>"
      ],
      "text/plain": [
       "            taxrate\n",
       "count  50819.000000\n",
       "mean       1.332409\n",
       "std        0.563718\n",
       "min        0.009372\n",
       "25%        1.163323\n",
       "50%        1.231985\n",
       "75%        1.365681\n",
       "max       49.364739"
      ]
     },
     "execution_count": 41,
     "metadata": {},
     "output_type": "execute_result"
    }
   ],
   "source": [
    "df_single[['taxrate']].describe()"
   ]
  },
  {
   "cell_type": "code",
   "execution_count": 42,
   "metadata": {},
   "outputs": [],
   "source": [
    "# I will drop taxamount and taxvaluedollarcnt"
   ]
  },
  {
   "cell_type": "markdown",
   "metadata": {},
   "source": [
    "**- transactiondate**\n"
   ]
  },
  {
   "cell_type": "code",
   "execution_count": 43,
   "metadata": {
    "scrolled": false
   },
   "outputs": [
    {
     "data": {
      "text/html": [
       "<div>\n",
       "<style scoped>\n",
       "    .dataframe tbody tr th:only-of-type {\n",
       "        vertical-align: middle;\n",
       "    }\n",
       "\n",
       "    .dataframe tbody tr th {\n",
       "        vertical-align: top;\n",
       "    }\n",
       "\n",
       "    .dataframe thead th {\n",
       "        text-align: right;\n",
       "    }\n",
       "</style>\n",
       "<table border=\"1\" class=\"dataframe\">\n",
       "  <thead>\n",
       "    <tr style=\"text-align: right;\">\n",
       "      <th></th>\n",
       "      <th>transactiondate</th>\n",
       "    </tr>\n",
       "  </thead>\n",
       "  <tbody>\n",
       "    <tr>\n",
       "      <th>0</th>\n",
       "      <td>2017-01-01</td>\n",
       "    </tr>\n",
       "    <tr>\n",
       "      <th>1</th>\n",
       "      <td>2017-01-01</td>\n",
       "    </tr>\n",
       "    <tr>\n",
       "      <th>2</th>\n",
       "      <td>2017-01-01</td>\n",
       "    </tr>\n",
       "    <tr>\n",
       "      <th>3</th>\n",
       "      <td>2017-01-01</td>\n",
       "    </tr>\n",
       "    <tr>\n",
       "      <th>6</th>\n",
       "      <td>2017-01-01</td>\n",
       "    </tr>\n",
       "  </tbody>\n",
       "</table>\n",
       "</div>"
      ],
      "text/plain": [
       "  transactiondate\n",
       "0      2017-01-01\n",
       "1      2017-01-01\n",
       "2      2017-01-01\n",
       "3      2017-01-01\n",
       "6      2017-01-01"
      ]
     },
     "execution_count": 43,
     "metadata": {},
     "output_type": "execute_result"
    }
   ],
   "source": [
    "df_single[['transactiondate']].head()"
   ]
  },
  {
   "cell_type": "code",
   "execution_count": 44,
   "metadata": {},
   "outputs": [],
   "source": [
    "#I decided to convert transaction date to int so in the future can make groups"
   ]
  },
  {
   "cell_type": "code",
   "execution_count": 45,
   "metadata": {},
   "outputs": [],
   "source": [
    "df_single['transactiondate']=(df_single['transactiondate'].str.replace(' ','').str.replace('-',''))"
   ]
  },
  {
   "cell_type": "code",
   "execution_count": 46,
   "metadata": {},
   "outputs": [],
   "source": [
    "df_single['transactiondate'] = df_single['transactiondate'].astype('int')"
   ]
  },
  {
   "cell_type": "code",
   "execution_count": 49,
   "metadata": {},
   "outputs": [],
   "source": [
    "#df_single[(df_single.transactiondate >= 20170101) &  (df_single.transactiondate < 20170501)]"
   ]
  },
  {
   "cell_type": "code",
   "execution_count": 52,
   "metadata": {},
   "outputs": [],
   "source": [
    "#try to bin transaction date\n",
    "df_single['quadrimester'] = pd.cut(df_single.transactiondate, bins = [ 20170100, 20170500, 20170900, 20171230])"
   ]
  },
  {
   "cell_type": "code",
   "execution_count": 53,
   "metadata": {},
   "outputs": [
    {
     "data": {
      "text/plain": [
       "(20170500, 20170900]    27284\n",
       "(20170100, 20170500]    20418\n",
       "(20170900, 20171230]     3117\n",
       "Name: quadrimester, dtype: int64"
      ]
     },
     "execution_count": 53,
     "metadata": {},
     "output_type": "execute_result"
    }
   ],
   "source": [
    "df_single['quadrimester'].value_counts()"
   ]
  },
  {
   "cell_type": "code",
   "execution_count": 54,
   "metadata": {},
   "outputs": [
    {
     "data": {
      "text/plain": [
       "20418"
      ]
     },
     "execution_count": 54,
     "metadata": {},
     "output_type": "execute_result"
    }
   ],
   "source": [
    "#this is just to check if bins are correct\n",
    "#this is the fist quadrimester\n",
    "(df_single['transactiondate']<20170501).sum()"
   ]
  },
  {
   "cell_type": "code",
   "execution_count": 55,
   "metadata": {},
   "outputs": [
    {
     "data": {
      "text/plain": [
       "27284"
      ]
     },
     "execution_count": 55,
     "metadata": {},
     "output_type": "execute_result"
    }
   ],
   "source": [
    "#this is the second quadrimester\n",
    "((df_single['transactiondate']>= 20170501)  & (df_single['transactiondate']<20170901)).sum()"
   ]
  },
  {
   "cell_type": "code",
   "execution_count": 57,
   "metadata": {},
   "outputs": [
    {
     "data": {
      "text/plain": [
       "3117"
      ]
     },
     "execution_count": 57,
     "metadata": {},
     "output_type": "execute_result"
    }
   ],
   "source": [
    "#this is the third quadrimester\n",
    "((df_single['transactiondate']>= 20170901)  & (df_single['transactiondate']<20171232)).sum()"
   ]
  },
  {
   "cell_type": "code",
   "execution_count": 58,
   "metadata": {},
   "outputs": [],
   "source": [
    "#try to bin transaction date\n",
    "df_single['quadrimester'] = pd.cut(df_single.transactiondate, bins = [ 20170100, 20170500, 20170900, 20171230],\n",
    "                                 labels = [1,2,3])"
   ]
  },
  {
   "cell_type": "code",
   "execution_count": 59,
   "metadata": {},
   "outputs": [
    {
     "data": {
      "text/plain": [
       "2    27284\n",
       "1    20418\n",
       "3     3117\n",
       "Name: quadrimester, dtype: int64"
      ]
     },
     "execution_count": 59,
     "metadata": {},
     "output_type": "execute_result"
    }
   ],
   "source": [
    "df_single['quadrimester'].value_counts()"
   ]
  },
  {
   "cell_type": "code",
   "execution_count": 60,
   "metadata": {},
   "outputs": [
    {
     "data": {
      "text/html": [
       "<div>\n",
       "<style scoped>\n",
       "    .dataframe tbody tr th:only-of-type {\n",
       "        vertical-align: middle;\n",
       "    }\n",
       "\n",
       "    .dataframe tbody tr th {\n",
       "        vertical-align: top;\n",
       "    }\n",
       "\n",
       "    .dataframe thead th {\n",
       "        text-align: right;\n",
       "    }\n",
       "</style>\n",
       "<table border=\"1\" class=\"dataframe\">\n",
       "  <thead>\n",
       "    <tr style=\"text-align: right;\">\n",
       "      <th></th>\n",
       "      <th>transactiondate</th>\n",
       "      <th>quadrimester</th>\n",
       "    </tr>\n",
       "  </thead>\n",
       "  <tbody>\n",
       "    <tr>\n",
       "      <th>25069</th>\n",
       "      <td>20170410</td>\n",
       "      <td>1</td>\n",
       "    </tr>\n",
       "    <tr>\n",
       "      <th>31931</th>\n",
       "      <td>20170501</td>\n",
       "      <td>2</td>\n",
       "    </tr>\n",
       "    <tr>\n",
       "      <th>67502</th>\n",
       "      <td>20170817</td>\n",
       "      <td>2</td>\n",
       "    </tr>\n",
       "    <tr>\n",
       "      <th>36875</th>\n",
       "      <td>20170517</td>\n",
       "      <td>2</td>\n",
       "    </tr>\n",
       "    <tr>\n",
       "      <th>7204</th>\n",
       "      <td>20170201</td>\n",
       "      <td>1</td>\n",
       "    </tr>\n",
       "    <tr>\n",
       "      <th>32124</th>\n",
       "      <td>20170502</td>\n",
       "      <td>2</td>\n",
       "    </tr>\n",
       "    <tr>\n",
       "      <th>3789</th>\n",
       "      <td>20170118</td>\n",
       "      <td>1</td>\n",
       "    </tr>\n",
       "    <tr>\n",
       "      <th>13089</th>\n",
       "      <td>20170228</td>\n",
       "      <td>1</td>\n",
       "    </tr>\n",
       "    <tr>\n",
       "      <th>68288</th>\n",
       "      <td>20170818</td>\n",
       "      <td>2</td>\n",
       "    </tr>\n",
       "    <tr>\n",
       "      <th>43652</th>\n",
       "      <td>20170606</td>\n",
       "      <td>2</td>\n",
       "    </tr>\n",
       "    <tr>\n",
       "      <th>62680</th>\n",
       "      <td>20170731</td>\n",
       "      <td>2</td>\n",
       "    </tr>\n",
       "    <tr>\n",
       "      <th>73778</th>\n",
       "      <td>20170906</td>\n",
       "      <td>3</td>\n",
       "    </tr>\n",
       "    <tr>\n",
       "      <th>33669</th>\n",
       "      <td>20170505</td>\n",
       "      <td>2</td>\n",
       "    </tr>\n",
       "    <tr>\n",
       "      <th>40792</th>\n",
       "      <td>20170526</td>\n",
       "      <td>2</td>\n",
       "    </tr>\n",
       "    <tr>\n",
       "      <th>46836</th>\n",
       "      <td>20170615</td>\n",
       "      <td>2</td>\n",
       "    </tr>\n",
       "    <tr>\n",
       "      <th>36250</th>\n",
       "      <td>20170515</td>\n",
       "      <td>2</td>\n",
       "    </tr>\n",
       "    <tr>\n",
       "      <th>51042</th>\n",
       "      <td>20170627</td>\n",
       "      <td>2</td>\n",
       "    </tr>\n",
       "    <tr>\n",
       "      <th>29039</th>\n",
       "      <td>20170424</td>\n",
       "      <td>1</td>\n",
       "    </tr>\n",
       "    <tr>\n",
       "      <th>27358</th>\n",
       "      <td>20170418</td>\n",
       "      <td>1</td>\n",
       "    </tr>\n",
       "    <tr>\n",
       "      <th>29612</th>\n",
       "      <td>20170425</td>\n",
       "      <td>1</td>\n",
       "    </tr>\n",
       "    <tr>\n",
       "      <th>63813</th>\n",
       "      <td>20170804</td>\n",
       "      <td>2</td>\n",
       "    </tr>\n",
       "    <tr>\n",
       "      <th>9099</th>\n",
       "      <td>20170210</td>\n",
       "      <td>1</td>\n",
       "    </tr>\n",
       "    <tr>\n",
       "      <th>37103</th>\n",
       "      <td>20170517</td>\n",
       "      <td>2</td>\n",
       "    </tr>\n",
       "    <tr>\n",
       "      <th>63141</th>\n",
       "      <td>20170801</td>\n",
       "      <td>2</td>\n",
       "    </tr>\n",
       "    <tr>\n",
       "      <th>15953</th>\n",
       "      <td>20170309</td>\n",
       "      <td>1</td>\n",
       "    </tr>\n",
       "    <tr>\n",
       "      <th>60089</th>\n",
       "      <td>20170724</td>\n",
       "      <td>2</td>\n",
       "    </tr>\n",
       "    <tr>\n",
       "      <th>38255</th>\n",
       "      <td>20170522</td>\n",
       "      <td>2</td>\n",
       "    </tr>\n",
       "    <tr>\n",
       "      <th>66760</th>\n",
       "      <td>20170815</td>\n",
       "      <td>2</td>\n",
       "    </tr>\n",
       "    <tr>\n",
       "      <th>18480</th>\n",
       "      <td>20170320</td>\n",
       "      <td>1</td>\n",
       "    </tr>\n",
       "    <tr>\n",
       "      <th>32590</th>\n",
       "      <td>20170503</td>\n",
       "      <td>2</td>\n",
       "    </tr>\n",
       "  </tbody>\n",
       "</table>\n",
       "</div>"
      ],
      "text/plain": [
       "       transactiondate quadrimester\n",
       "25069         20170410            1\n",
       "31931         20170501            2\n",
       "67502         20170817            2\n",
       "36875         20170517            2\n",
       "7204          20170201            1\n",
       "32124         20170502            2\n",
       "3789          20170118            1\n",
       "13089         20170228            1\n",
       "68288         20170818            2\n",
       "43652         20170606            2\n",
       "62680         20170731            2\n",
       "73778         20170906            3\n",
       "33669         20170505            2\n",
       "40792         20170526            2\n",
       "46836         20170615            2\n",
       "36250         20170515            2\n",
       "51042         20170627            2\n",
       "29039         20170424            1\n",
       "27358         20170418            1\n",
       "29612         20170425            1\n",
       "63813         20170804            2\n",
       "9099          20170210            1\n",
       "37103         20170517            2\n",
       "63141         20170801            2\n",
       "15953         20170309            1\n",
       "60089         20170724            2\n",
       "38255         20170522            2\n",
       "66760         20170815            2\n",
       "18480         20170320            1\n",
       "32590         20170503            2"
      ]
     },
     "execution_count": 60,
     "metadata": {},
     "output_type": "execute_result"
    }
   ],
   "source": [
    "df_single[['transactiondate', 'quadrimester']].sample(30)"
   ]
  },
  {
   "cell_type": "code",
   "execution_count": 48,
   "metadata": {
    "scrolled": true
   },
   "outputs": [
    {
     "name": "stdout",
     "output_type": "stream",
     "text": [
      "<class 'pandas.core.frame.DataFrame'>\n",
      "Int64Index: 50819 entries, 0 to 77578\n",
      "Data columns (total 23 columns):\n",
      " #   Column                        Non-Null Count  Dtype  \n",
      "---  ------                        --------------  -----  \n",
      " 0   parcelid                      50819 non-null  int64  \n",
      " 1   bathroomcnt                   50819 non-null  float64\n",
      " 2   bedroomcnt                    50819 non-null  float64\n",
      " 3   calculatedfinishedsquarefeet  50819 non-null  float64\n",
      " 4   fips                          50819 non-null  float64\n",
      " 5   latitude                      50819 non-null  float64\n",
      " 6   longitude                     50819 non-null  float64\n",
      " 7   lotsizesquarefeet             50819 non-null  float64\n",
      " 8   yearbuilt                     50819 non-null  float64\n",
      " 9   propertylandusetypeid         50819 non-null  float64\n",
      " 10  propertylandusedesc           50819 non-null  object \n",
      " 11  regionidcity                  50819 non-null  float64\n",
      " 12  regionidcounty                50819 non-null  float64\n",
      " 13  regionidzip                   50819 non-null  float64\n",
      " 14  structuretaxvaluedollarcnt    50819 non-null  float64\n",
      " 15  landtaxvaluedollarcnt         50819 non-null  float64\n",
      " 16  taxvaluedollarcnt             50819 non-null  float64\n",
      " 17  taxamount                     50819 non-null  float64\n",
      " 18  logerror                      50819 non-null  float64\n",
      " 19  transactiondate               50819 non-null  int64  \n",
      " 20  county_name                   50819 non-null  object \n",
      " 21  age                           50819 non-null  float64\n",
      " 22  taxrate                       50819 non-null  float64\n",
      "dtypes: float64(19), int64(2), object(2)\n",
      "memory usage: 9.3+ MB\n"
     ]
    }
   ],
   "source": [
    "df_single.info()"
   ]
  },
  {
   "cell_type": "code",
   "execution_count": null,
   "metadata": {},
   "outputs": [],
   "source": [
    "df_single['lotsize_acres'] = df_single.lotsizesquarefeet/43560\n",
    "df_single = df_single.drop(columns = ['yearbuilt', 'taxamount', 'taxvaluedollarcnt', 'lotsizesquarefeet'  ])"
   ]
  },
  {
   "cell_type": "code",
   "execution_count": null,
   "metadata": {},
   "outputs": [],
   "source": [
    "def create_features (df) :\n",
    "    '''\n",
    "    takes in a df and create age , taxrate, lotsize_acres columns and convert transactiondate to int\n",
    "    drops 'yearbuilt', 'taxamount', 'taxvaluedollarcnt', lotsizesquarefeet columns\n",
    "    '''\n",
    "    #create a new colum with age\n",
    "    df['age'] = 2017 - df.yearbuilt\n",
    "    \n",
    "    #taxrate\n",
    "    df['taxrate'] = df.taxamount/df.taxvaluedollarcnt*100\n",
    "    \n",
    "  #transactiondate\n",
    "    df['transactiondate']=(df['transactiondate'].str.replace(' ','').str.replace('-',''))\n",
    "    df['transactiondate'] = df['transactiondate'].astype('int')\n",
    "    #try to bin transaction date\n",
    "    df['quadrimester'] = pd.cut(df.transactiondate, bins = [ 20170100, 20170500, 20170900, 20171230],\n",
    "                                 labels = [1,2,3])\n",
    "     # create acres variable\n",
    "    df['lotsize_acres'] = df.lotsizesquarefeet/43560\n",
    "    \n",
    "    #drop columns\n",
    "    df = df.drop(columns = ['yearbuilt', 'taxamount', 'taxvaluedollarcnt', 'lotsizesquarefeet'  ])\n",
    "    \n",
    "    return df"
   ]
  },
  {
   "cell_type": "code",
   "execution_count": null,
   "metadata": {
    "scrolled": true
   },
   "outputs": [],
   "source": [
    "p.distribution_boxplot(df_single)"
   ]
  },
  {
   "cell_type": "code",
   "execution_count": null,
   "metadata": {},
   "outputs": [],
   "source": [
    "df_single.columns"
   ]
  },
  {
   "cell_type": "code",
   "execution_count": null,
   "metadata": {},
   "outputs": [],
   "source": [
    "# I will handle outliers for : 'bathroomcnt', 'bedroomcnt', 'calculatedfinishedsquarefeet', 'regionidzip', \n",
    "#'structuretaxvaluedollarcnt', 'landtaxvaluedollarcnt', 'taxrate', 'lotsize_acres', 'age'"
   ]
  },
  {
   "cell_type": "code",
   "execution_count": null,
   "metadata": {},
   "outputs": [],
   "source": [
    "col = ['bathroomcnt', 'bedroomcnt', 'calculatedfinishedsquarefeet', 'regionidzip', 'structuretaxvaluedollarcnt', 'landtaxvaluedollarcnt', 'taxrate', 'lotsize_acres', 'age']"
   ]
  },
  {
   "cell_type": "code",
   "execution_count": null,
   "metadata": {},
   "outputs": [],
   "source": [
    "df_final= p.remove_outliers(df_single, col)"
   ]
  },
  {
   "cell_type": "code",
   "execution_count": null,
   "metadata": {},
   "outputs": [],
   "source": [
    "p.distribution_boxplot(df_final)"
   ]
  },
  {
   "cell_type": "code",
   "execution_count": null,
   "metadata": {},
   "outputs": [],
   "source": [
    "df_final.shape, df_single.shape"
   ]
  },
  {
   "cell_type": "code",
   "execution_count": null,
   "metadata": {},
   "outputs": [],
   "source": [
    "df_final['regionidcity'].value_counts()"
   ]
  },
  {
   "cell_type": "code",
   "execution_count": null,
   "metadata": {},
   "outputs": [],
   "source": [
    "df_final.info()"
   ]
  },
  {
   "cell_type": "code",
   "execution_count": null,
   "metadata": {},
   "outputs": [],
   "source": [
    "# here I can drop\n",
    "# propertylandusedesc "
   ]
  },
  {
   "cell_type": "code",
   "execution_count": 2,
   "metadata": {},
   "outputs": [
    {
     "name": "stdout",
     "output_type": "stream",
     "text": [
      "before outliers (50819, 21)\n",
      "df shape --> (34126, 20)\n",
      "train -> (19110, 20)\n",
      "validate -> (8190, 20)\n",
      "test -> (6826, 20)\n"
     ]
    }
   ],
   "source": [
    "#checking wrangle_zillow function\n",
    "train, validate, test= w.wrangle_zillow()"
   ]
  },
  {
   "cell_type": "code",
   "execution_count": 3,
   "metadata": {},
   "outputs": [
    {
     "data": {
      "text/plain": [
       "32.847950569668825"
      ]
     },
     "execution_count": 3,
     "metadata": {},
     "output_type": "execute_result"
    }
   ],
   "source": [
    "((50819-34126)*100) / 50819"
   ]
  },
  {
   "cell_type": "code",
   "execution_count": 4,
   "metadata": {
    "scrolled": true
   },
   "outputs": [
    {
     "name": "stdout",
     "output_type": "stream",
     "text": [
      "X_train -> (19110, 19)               y_train->(19110,)\n",
      "X_validate -> (8190, 19)         y_validate->(8190,) \n",
      "X_test -> (6826, 19)                  y_test>(6826,)\n"
     ]
    }
   ],
   "source": [
    "X_train, y_train, X_validate, y_validate, X_test, y_test = p.split_Xy(train, validate, test, 'logerror') "
   ]
  },
  {
   "cell_type": "code",
   "execution_count": 5,
   "metadata": {
    "scrolled": false
   },
   "outputs": [
    {
     "name": "stdout",
     "output_type": "stream",
     "text": [
      "<class 'pandas.core.frame.DataFrame'>\n",
      "Int64Index: 19110 entries, 54155 to 12794\n",
      "Data columns (total 19 columns):\n",
      " #   Column                        Non-Null Count  Dtype   \n",
      "---  ------                        --------------  -----   \n",
      " 0   parcelid                      19110 non-null  object  \n",
      " 1   bathroomcnt                   19110 non-null  float64 \n",
      " 2   bedroomcnt                    19110 non-null  float64 \n",
      " 3   calculatedfinishedsquarefeet  19110 non-null  float64 \n",
      " 4   fips                          19110 non-null  float64 \n",
      " 5   latitude                      19110 non-null  float64 \n",
      " 6   longitude                     19110 non-null  float64 \n",
      " 7   propertylandusetypeid         19110 non-null  float64 \n",
      " 8   regionidcity                  19110 non-null  float64 \n",
      " 9   regionidcounty                19110 non-null  float64 \n",
      " 10  regionidzip                   19110 non-null  float64 \n",
      " 11  structuretaxvaluedollarcnt    19110 non-null  float64 \n",
      " 12  landtaxvaluedollarcnt         19110 non-null  float64 \n",
      " 13  transactiondate               19110 non-null  object  \n",
      " 14  county_name                   19110 non-null  object  \n",
      " 15  age                           19110 non-null  float64 \n",
      " 16  taxrate                       19110 non-null  float64 \n",
      " 17  quadrimester                  19110 non-null  category\n",
      " 18  lotsize_acres                 19110 non-null  float64 \n",
      "dtypes: category(1), float64(15), object(3)\n",
      "memory usage: 2.8+ MB\n"
     ]
    }
   ],
   "source": [
    "X_train.info()"
   ]
  },
  {
   "cell_type": "code",
   "execution_count": null,
   "metadata": {},
   "outputs": [],
   "source": [
    "train.head()"
   ]
  },
  {
   "cell_type": "code",
   "execution_count": null,
   "metadata": {},
   "outputs": [],
   "source": [
    "scal_var = ['bathroomcnt', 'bedroomcnt', 'calculatedfinishedsquarefeet','latitude', 'longitude', \n",
    "            'structuretaxvaluedollarcnt', 'age', 'taxrate', 'lotsize_acres']"
   ]
  },
  {
   "cell_type": "code",
   "execution_count": null,
   "metadata": {
    "scrolled": false
   },
   "outputs": [],
   "source": [
    "train_scaled_df, validate_scaled_df, test_scaled_df = p.scaled_df( train , validate, test, scal_var, MinMaxScaler())"
   ]
  },
  {
   "cell_type": "code",
   "execution_count": null,
   "metadata": {},
   "outputs": [],
   "source": [
    "train_scaled_df"
   ]
  },
  {
   "cell_type": "code",
   "execution_count": null,
   "metadata": {
    "scrolled": true
   },
   "outputs": [],
   "source": [
    "train"
   ]
  },
  {
   "cell_type": "markdown",
   "metadata": {},
   "source": [
    "# Explore "
   ]
  },
  {
   "cell_type": "code",
   "execution_count": null,
   "metadata": {},
   "outputs": [],
   "source": [
    "explore target"
   ]
  },
  {
   "cell_type": "code",
   "execution_count": null,
   "metadata": {},
   "outputs": [],
   "source": [
    "plt.figure(figsize=(13, 8))\n",
    "train['logerror'].hist(grid=False, color = 'teal')\n",
    "plt.xlabel(\"logerror\")\n",
    "plt.ylabel(\"Number of properties\")                               \n",
    "plt.xlim(-2 ,3)\n",
    "plt.show()"
   ]
  },
  {
   "cell_type": "code",
   "execution_count": null,
   "metadata": {},
   "outputs": [],
   "source": [
    "plt.figure(figsize=(16, 8))\n",
    "sns.boxplot(train['logerror'])\n",
    "plt.xlim(-.25 ,.25)\n",
    "plt.show()"
   ]
  },
  {
   "cell_type": "code",
   "execution_count": null,
   "metadata": {},
   "outputs": [],
   "source": [
    "train['logerror'].describe()"
   ]
  },
  {
   "cell_type": "code",
   "execution_count": null,
   "metadata": {},
   "outputs": [],
   "source": [
    "p."
   ]
  },
  {
   "cell_type": "code",
   "execution_count": null,
   "metadata": {},
   "outputs": [],
   "source": [
    "train['logerror_bins']= pd.cut(train.logerror, [-5, -.2, -.05, .05, .2, 4])"
   ]
  },
  {
   "cell_type": "code",
   "execution_count": null,
   "metadata": {
    "scrolled": true
   },
   "outputs": [],
   "source": [
    "train.logerror_bins.value_counts()"
   ]
  },
  {
   "cell_type": "code",
   "execution_count": null,
   "metadata": {},
   "outputs": [],
   "source": [
    "train.columns"
   ]
  },
  {
   "cell_type": "raw",
   "metadata": {},
   "source": []
  },
  {
   "cell_type": "code",
   "execution_count": null,
   "metadata": {
    "scrolled": false
   },
   "outputs": [],
   "source": [
    "sns.pairplot(data = train, hue = 'logerror_bins',\n",
    "             x_vars = ['logerror', 'structuretaxvaluedollarcnt', 'quadrimester', 'taxrate', \n",
    "                       'bedroomcnt'],\n",
    "             y_vars = ['logerror', 'bathroomcnt', 'calculatedfinishedsquarefeet', 'lotsize_acres', 'age'])"
   ]
  },
  {
   "cell_type": "markdown",
   "metadata": {},
   "source": [
    "takeaways \n",
    "- the log error is low for the houses less than 20 years old  that were sold in the 2nd and 3rd quadrimester\n",
    "- the range of log error is higher for the houses  that are 50 -70 years old\n",
    "- the range of logerror is low for the lower and higher lot sizes\n",
    "- the range of logerror is low for the lower and higher calculatedfinishedsqrefeet\n",
    "- the logerror is low for the calculatedfihishedsquarefeet >1500 and with 4 bedrooms\n",
    "- the logerror is low for 2.5 -3 bathrooms and were sold jan -dic\n",
    "- the log error for a 5bedrooms is low with 1 -4 bathrooms except 2 bathrooms\n",
    "- the range of log error in 3.5 baths is low"
   ]
  },
  {
   "cell_type": "code",
   "execution_count": null,
   "metadata": {
    "scrolled": true
   },
   "outputs": [],
   "source": [
    "print('Relationship between Age  and logerror)')\n",
    "sns.jointplot(x='age', y='lotsize_acres', data=train, hue='logerror_bins')\n",
    "plt.xlabel('Age')\n",
    "plt.ylabel('lot size')\n",
    "plt.legend()\n",
    "plt.show()"
   ]
  },
  {
   "cell_type": "code",
   "execution_count": null,
   "metadata": {
    "scrolled": true
   },
   "outputs": [],
   "source": [
    "train.head()"
   ]
  },
  {
   "cell_type": "code",
   "execution_count": null,
   "metadata": {},
   "outputs": [],
   "source": []
  },
  {
   "cell_type": "code",
   "execution_count": null,
   "metadata": {},
   "outputs": [],
   "source": [
    "print('Relationship between Age  and logerror)')\n",
    "sns.jointplot(x='los_angeles', y='logerror', data=train)\n",
    "plt.xlabel('Age')\n",
    "plt.ylabel('lot size')\n",
    "plt.legend('center')\n",
    "plt.show()"
   ]
  },
  {
   "cell_type": "code",
   "execution_count": null,
   "metadata": {},
   "outputs": [],
   "source": [
    "sns.boxplot(train.age_bin, train.spending_score)\n",
    "plt.title('Spending Score across age bins')\n",
    "plt.show()"
   ]
  },
  {
   "cell_type": "code",
   "execution_count": null,
   "metadata": {},
   "outputs": [],
   "source": [
    "def create_cluster(df, X, k):\n",
    "    \n",
    "    \"\"\" Takes in df, X (dataframe with variables you want to cluster on) and k\n",
    "    # It scales the X, calcuates the clusters and return train (with clusters), the Scaled dataframe,\n",
    "    #the scaler and kmeans object and unscaled centroids as a dataframe\"\"\"\n",
    "    \n",
    "    scaler = StandardScaler(copy=True).fit(X)\n",
    "    X_scaled = pd.DataFrame(scaler.transform(X), columns=X.columns.values).set_index([X.index.values])\n",
    "    kmeans = KMeans(n_clusters = k, random_state = 42)\n",
    "    kmeans.fit(X_scaled)\n",
    "    kmeans.predict(X_scaled)\n",
    "    df['cluster'] = kmeans.predict(X_scaled)\n",
    "    df['cluster'] = 'cluster_' + df.cluster.astype(str)\n",
    "    centroids = pd.DataFrame(scaler.inverse_transform(kmeans.cluster_centers_), columns=X_scaled.columns)\n",
    "    return df, X_scaled, scaler, kmeans, centroids"
   ]
  },
  {
   "cell_type": "code",
   "execution_count": null,
   "metadata": {},
   "outputs": [],
   "source": [
    "def create_scatter_plot(x,y,df,kmeans, X_scaled, scaler):\n",
    "    \n",
    "    \"\"\" Takes in x and y (variable names as strings, along with returned objects from previous\n",
    "    function create_cluster and creates a plot\"\"\"\n",
    "    \n",
    "    plt.figure(figsize=(10, 6))\n",
    "    sns.scatterplot(x = x, y = y, data = df, hue = 'cluster')\n",
    "    centroids = pd.DataFrame(scaler.inverse_transform(kmeans.cluster_centers_), columns=X_scaled.columns)\n",
    "    centroids.plot.scatter(y=y, x= x, ax=plt.gca(), alpha=.30, s=500, c='black')"
   ]
  }
 ],
 "metadata": {
  "kernelspec": {
   "display_name": "Python 3",
   "language": "python",
   "name": "python3"
  },
  "language_info": {
   "codemirror_mode": {
    "name": "ipython",
    "version": 3
   },
   "file_extension": ".py",
   "mimetype": "text/x-python",
   "name": "python",
   "nbconvert_exporter": "python",
   "pygments_lexer": "ipython3",
   "version": "3.8.5"
  }
 },
 "nbformat": 4,
 "nbformat_minor": 4
}
