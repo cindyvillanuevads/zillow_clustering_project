{
 "cells": [
  {
   "cell_type": "code",
   "execution_count": 1,
   "metadata": {},
   "outputs": [],
   "source": [
    "import seaborn as sns\n",
    "import pandas as pd\n",
    "import scipy.stats as stats\n",
    "import matplotlib.pyplot as plt\n",
    "from sklearn.linear_model import LinearRegression, LassoLars, TweedieRegressor\n",
    "from sklearn.preprocessing import PolynomialFeatures\n",
    "from IPython.display import display, HTML\n",
    "\n",
    "#import my modules\n",
    "import acquire as a\n",
    "import prepare as p\n",
    "import wrangle_zillow as w\n",
    "import explore as ex\n",
    "\n",
    "from sklearn.preprocessing import MinMaxScaler, RobustScaler"
   ]
  },
  {
   "cell_type": "markdown",
   "metadata": {},
   "source": [
    "# Acquire"
   ]
  },
  {
   "cell_type": "code",
   "execution_count": null,
   "metadata": {},
   "outputs": [],
   "source": [
    "df = a.get_zillow()"
   ]
  },
  {
   "cell_type": "code",
   "execution_count": null,
   "metadata": {
    "scrolled": true
   },
   "outputs": [],
   "source": [
    "df.head()"
   ]
  },
  {
   "cell_type": "code",
   "execution_count": null,
   "metadata": {},
   "outputs": [],
   "source": [
    "df.shape"
   ]
  },
  {
   "cell_type": "code",
   "execution_count": null,
   "metadata": {},
   "outputs": [],
   "source": [
    "#getting the latest transactions \n",
    "df = df.sort_values(by ='transactiondate', ascending=True).drop_duplicates( subset = 'parcelid' ,keep= 'last')\n",
    "  "
   ]
  },
  {
   "cell_type": "code",
   "execution_count": null,
   "metadata": {},
   "outputs": [],
   "source": [
    "df.shape"
   ]
  },
  {
   "cell_type": "code",
   "execution_count": null,
   "metadata": {},
   "outputs": [],
   "source": [
    "#this list has all types of single unit properties\n",
    "single= ['Single Family Residential',' Mobile Home' , 'Townhouse ', 'Manufactured, Modular, Prefabricated Homes'  ]"
   ]
  },
  {
   "cell_type": "code",
   "execution_count": null,
   "metadata": {},
   "outputs": [],
   "source": [
    "#create a mask\n",
    "single_mask = df['propertylandusedesc'].isin(single)"
   ]
  },
  {
   "cell_type": "code",
   "execution_count": null,
   "metadata": {},
   "outputs": [],
   "source": [
    "#if unitcnt == that's means is is a single property but if it is null we can compare with our list of single"
   ]
  },
  {
   "cell_type": "code",
   "execution_count": null,
   "metadata": {},
   "outputs": [],
   "source": [
    "#using that mask and also add  a condition\n",
    "df_single = df[single_mask & ((df['unitcnt'] == 1) | (df['unitcnt'].isnull()))]\n",
    "    "
   ]
  },
  {
   "cell_type": "code",
   "execution_count": null,
   "metadata": {},
   "outputs": [],
   "source": [
    "#this df contains all single unit homes of 2017 with the latest transaction\n",
    "df_single.shape"
   ]
  },
  {
   "cell_type": "code",
   "execution_count": null,
   "metadata": {
    "scrolled": false
   },
   "outputs": [],
   "source": [
    "a.summarize(df_single)"
   ]
  },
  {
   "cell_type": "markdown",
   "metadata": {},
   "source": [
    "**takeaways**\n",
    "- numberofstories there is one property with 6 stories , I would drop it!\n",
    "- unitcnt is not needed any more. I would drop it\n",
    "- there are a lot of nulls so in preparation step I will handle them"
   ]
  },
  {
   "cell_type": "markdown",
   "metadata": {},
   "source": [
    "# Preparation"
   ]
  },
  {
   "cell_type": "code",
   "execution_count": null,
   "metadata": {
    "scrolled": true
   },
   "outputs": [],
   "source": [
    "p.miss_dup_values(df_single)"
   ]
  },
  {
   "cell_type": "code",
   "execution_count": null,
   "metadata": {},
   "outputs": [],
   "source": [
    "df_single.shape"
   ]
  },
  {
   "cell_type": "code",
   "execution_count": null,
   "metadata": {},
   "outputs": [],
   "source": [
    "# I will drop columns and rows with a lot of null values \n",
    "#here I will include unitcnt because the value is 1 for all the properties . as it is the next to 65.6% \n",
    "#I can include it in my function\n",
    "df_single= p.handle_missing_values(df_single, prop_required_columns=0.75, prop_required_row=0.75)"
   ]
  },
  {
   "cell_type": "code",
   "execution_count": null,
   "metadata": {},
   "outputs": [],
   "source": [
    "df_single.shape"
   ]
  },
  {
   "cell_type": "code",
   "execution_count": null,
   "metadata": {
    "scrolled": false
   },
   "outputs": [],
   "source": [
    "p.miss_dup_values(df_single)"
   ]
  },
  {
   "cell_type": "code",
   "execution_count": null,
   "metadata": {},
   "outputs": [],
   "source": [
    "\n",
    "#all these  columns represent a minimun amount so I can drop them \n",
    "df_single= p.drop_low_missing_values(df_single, per= 3 )"
   ]
  },
  {
   "cell_type": "code",
   "execution_count": null,
   "metadata": {},
   "outputs": [],
   "source": [
    "df_single.shape"
   ]
  },
  {
   "cell_type": "code",
   "execution_count": null,
   "metadata": {
    "scrolled": true
   },
   "outputs": [],
   "source": [
    "p.miss_dup_values(df_single)"
   ]
  },
  {
   "cell_type": "code",
   "execution_count": null,
   "metadata": {
    "scrolled": false
   },
   "outputs": [],
   "source": [
    "a.summarize(df_single)"
   ]
  },
  {
   "cell_type": "code",
   "execution_count": null,
   "metadata": {
    "scrolled": true
   },
   "outputs": [],
   "source": [
    "p.distribution(df_single)"
   ]
  },
  {
   "cell_type": "markdown",
   "metadata": {},
   "source": [
    "### get county names and create dummy variables with those"
   ]
  },
  {
   "cell_type": "code",
   "execution_count": null,
   "metadata": {},
   "outputs": [],
   "source": [
    "# create dummy vars of fips id\n",
    "county_df = pd.get_dummies(df_single.fips)"
   ]
  },
  {
   "cell_type": "code",
   "execution_count": null,
   "metadata": {
    "scrolled": true
   },
   "outputs": [],
   "source": [
    "county_df.head()"
   ]
  },
  {
   "cell_type": "markdown",
   "metadata": {},
   "source": [
    "- county # 6037 -----> Los Angeles\n",
    "- county # 6059 -----> Orange\n",
    "- county # 6111 -----> Ventura"
   ]
  },
  {
   "cell_type": "code",
   "execution_count": null,
   "metadata": {},
   "outputs": [],
   "source": [
    "#df_single = p.get_counties(df_single)"
   ]
  },
  {
   "cell_type": "code",
   "execution_count": null,
   "metadata": {},
   "outputs": [],
   "source": [
    "# print(\"LA County Verified: \", df_single[df_single.fips==6037]['fips'].count() == df_single.los_angeles.sum())\n",
    "# print(\"Orange County Verified: \", df_single[df_single.fips==6059]['fips'].count() == df_single.orange.sum())\n",
    "# print(\"Ventura County Verified: \", df_single[df_single.fips==6111]['fips'].count() == df_single.ventura.sum())"
   ]
  },
  {
   "cell_type": "code",
   "execution_count": null,
   "metadata": {},
   "outputs": [],
   "source": [
    "#now in my function I can drop fips"
   ]
  },
  {
   "cell_type": "markdown",
   "metadata": {},
   "source": [
    "###  Compute new features out of existing features in order to reduce noise, capture signals, and reduce collinearity, or dependence between independent variables."
   ]
  },
  {
   "cell_type": "markdown",
   "metadata": {},
   "source": [
    "**- age**"
   ]
  },
  {
   "cell_type": "code",
   "execution_count": null,
   "metadata": {},
   "outputs": [],
   "source": [
    "df_single['age'] = 2017 - df.yearbuilt"
   ]
  },
  {
   "cell_type": "code",
   "execution_count": null,
   "metadata": {
    "scrolled": true
   },
   "outputs": [],
   "source": [
    "df_single.head()"
   ]
  },
  {
   "cell_type": "code",
   "execution_count": null,
   "metadata": {
    "scrolled": true
   },
   "outputs": [],
   "source": [
    "df_single[['age']].describe()"
   ]
  },
  {
   "cell_type": "code",
   "execution_count": null,
   "metadata": {},
   "outputs": [],
   "source": [
    "# I can drop yearbuilt"
   ]
  },
  {
   "cell_type": "markdown",
   "metadata": {},
   "source": [
    "**- taxrate**\n"
   ]
  },
  {
   "cell_type": "code",
   "execution_count": null,
   "metadata": {},
   "outputs": [],
   "source": [
    "df_single['taxrate'] = df_single.taxamount/df_single.taxvaluedollarcnt*100"
   ]
  },
  {
   "cell_type": "code",
   "execution_count": null,
   "metadata": {
    "scrolled": true
   },
   "outputs": [],
   "source": [
    "df_single[['taxrate']].describe()"
   ]
  },
  {
   "cell_type": "code",
   "execution_count": null,
   "metadata": {},
   "outputs": [],
   "source": [
    "# I will drop taxamount and taxvaluedollarcnt"
   ]
  },
  {
   "cell_type": "markdown",
   "metadata": {},
   "source": [
    "**- transactiondate**\n"
   ]
  },
  {
   "cell_type": "code",
   "execution_count": null,
   "metadata": {
    "scrolled": false
   },
   "outputs": [],
   "source": [
    "df_single[['transactiondate']].head()"
   ]
  },
  {
   "cell_type": "code",
   "execution_count": null,
   "metadata": {},
   "outputs": [],
   "source": [
    "#I decided to convert transaction date to int so in the future can make groups"
   ]
  },
  {
   "cell_type": "code",
   "execution_count": null,
   "metadata": {},
   "outputs": [],
   "source": [
    "df_single['transactiondate']=(df_single['transactiondate'].str.replace(' ','').str.replace('-',''))"
   ]
  },
  {
   "cell_type": "code",
   "execution_count": null,
   "metadata": {},
   "outputs": [],
   "source": [
    "df_single['transactiondate'] = df_single['transactiondate'].astype('int')"
   ]
  },
  {
   "cell_type": "code",
   "execution_count": null,
   "metadata": {},
   "outputs": [],
   "source": [
    "#df_single[(df_single.transactiondate >= 20170101) &  (df_single.transactiondate < 20170501)]"
   ]
  },
  {
   "cell_type": "code",
   "execution_count": null,
   "metadata": {},
   "outputs": [],
   "source": [
    "#try to bin transaction date\n",
    "df_single['quadrimester'] = pd.cut(df_single.transactiondate, bins = [ 20170100, 20170500, 20170900, 20171230])"
   ]
  },
  {
   "cell_type": "code",
   "execution_count": null,
   "metadata": {},
   "outputs": [],
   "source": [
    "df_single['quadrimester'].value_counts()"
   ]
  },
  {
   "cell_type": "code",
   "execution_count": null,
   "metadata": {},
   "outputs": [],
   "source": [
    "#this is just to check if bins are correct\n",
    "#this is the fist quadrimester\n",
    "(df_single['transactiondate']<20170501).sum()"
   ]
  },
  {
   "cell_type": "code",
   "execution_count": null,
   "metadata": {},
   "outputs": [],
   "source": [
    "#this is the second quadrimester\n",
    "((df_single['transactiondate']>= 20170501)  & (df_single['transactiondate']<20170901)).sum()"
   ]
  },
  {
   "cell_type": "code",
   "execution_count": null,
   "metadata": {},
   "outputs": [],
   "source": [
    "#this is the third quadrimester\n",
    "((df_single['transactiondate']>= 20170901)  & (df_single['transactiondate']<20171232)).sum()"
   ]
  },
  {
   "cell_type": "code",
   "execution_count": null,
   "metadata": {},
   "outputs": [],
   "source": [
    "#try to bin transaction date\n",
    "df_single['quadrimester'] = pd.cut(df_single.transactiondate, bins = [ 20170100, 20170500, 20170900, 20171230],\n",
    "                                 labels = [1,2,3])"
   ]
  },
  {
   "cell_type": "code",
   "execution_count": null,
   "metadata": {},
   "outputs": [],
   "source": [
    "df_single['quadrimester'].value_counts()"
   ]
  },
  {
   "cell_type": "code",
   "execution_count": null,
   "metadata": {},
   "outputs": [],
   "source": [
    "df_single[['transactiondate', 'quadrimester']].sample(30)"
   ]
  },
  {
   "cell_type": "code",
   "execution_count": null,
   "metadata": {
    "scrolled": true
   },
   "outputs": [],
   "source": [
    "df_single.info()"
   ]
  },
  {
   "cell_type": "code",
   "execution_count": null,
   "metadata": {},
   "outputs": [],
   "source": [
    "df_single['lotsize_acres'] = df_single.lotsizesquarefeet/43560\n",
    "df_single = df_single.drop(columns = ['yearbuilt', 'taxamount', 'taxvaluedollarcnt', 'lotsizesquarefeet'  ])"
   ]
  },
  {
   "cell_type": "code",
   "execution_count": null,
   "metadata": {},
   "outputs": [],
   "source": [
    "def create_features (df) :\n",
    "    '''\n",
    "    takes in a df and create age , taxrate, lotsize_acres columns and convert transactiondate to int\n",
    "    drops 'yearbuilt', 'taxamount', 'taxvaluedollarcnt', lotsizesquarefeet columns\n",
    "    '''\n",
    "    #create a new colum with age\n",
    "    df['age'] = 2017 - df.yearbuilt\n",
    "    \n",
    "    #taxrate\n",
    "    df['taxrate'] = df.taxamount/df.taxvaluedollarcnt*100\n",
    "    \n",
    "  #transactiondate\n",
    "    df['transactiondate']=(df['transactiondate'].str.replace(' ','').str.replace('-',''))\n",
    "    df['transactiondate'] = df['transactiondate'].astype('int')\n",
    "    #try to bin transaction date\n",
    "    df['quadrimester'] = pd.cut(df.transactiondate, bins = [ 20170100, 20170500, 20170900, 20171230],\n",
    "                                 labels = [1,2,3])\n",
    "     # create acres variable\n",
    "    df['lotsize_acres'] = df.lotsizesquarefeet/43560\n",
    "    \n",
    "    #drop columns\n",
    "    df = df.drop(columns = ['yearbuilt', 'taxamount', 'taxvaluedollarcnt', 'lotsizesquarefeet'  ])\n",
    "    \n",
    "    return df"
   ]
  },
  {
   "cell_type": "code",
   "execution_count": null,
   "metadata": {
    "scrolled": true
   },
   "outputs": [],
   "source": [
    "p.distribution_boxplot(df_single)"
   ]
  },
  {
   "cell_type": "code",
   "execution_count": null,
   "metadata": {},
   "outputs": [],
   "source": [
    "df_single.columns"
   ]
  },
  {
   "cell_type": "code",
   "execution_count": null,
   "metadata": {},
   "outputs": [],
   "source": [
    "# I will handle outliers for : 'bathroomcnt', 'bedroomcnt', 'calculatedfinishedsquarefeet', 'regionidzip', \n",
    "#'structuretaxvaluedollarcnt', 'landtaxvaluedollarcnt', 'taxrate', 'lotsize_acres', 'age'"
   ]
  },
  {
   "cell_type": "code",
   "execution_count": null,
   "metadata": {},
   "outputs": [],
   "source": [
    "col = ['bathroomcnt', 'bedroomcnt', 'calculatedfinishedsquarefeet', 'regionidzip', 'structuretaxvaluedollarcnt', 'landtaxvaluedollarcnt', 'taxrate', 'lotsize_acres', 'age']"
   ]
  },
  {
   "cell_type": "code",
   "execution_count": null,
   "metadata": {},
   "outputs": [],
   "source": [
    "df_final= p.remove_outliers(df_single, col)"
   ]
  },
  {
   "cell_type": "code",
   "execution_count": null,
   "metadata": {},
   "outputs": [],
   "source": [
    "p.distribution_boxplot(df_final)"
   ]
  },
  {
   "cell_type": "code",
   "execution_count": null,
   "metadata": {},
   "outputs": [],
   "source": [
    "df_final.shape, df_single.shape"
   ]
  },
  {
   "cell_type": "code",
   "execution_count": null,
   "metadata": {},
   "outputs": [],
   "source": [
    "df_final['regionidcity'].value_counts()"
   ]
  },
  {
   "cell_type": "code",
   "execution_count": null,
   "metadata": {},
   "outputs": [],
   "source": [
    "df_final.info()"
   ]
  },
  {
   "cell_type": "code",
   "execution_count": null,
   "metadata": {},
   "outputs": [],
   "source": [
    "# here I can drop\n",
    "# propertylandusedesc "
   ]
  },
  {
   "cell_type": "code",
   "execution_count": 2,
   "metadata": {},
   "outputs": [
    {
     "name": "stdout",
     "output_type": "stream",
     "text": [
      "before outliers (50819, 24)\n",
      "df shape --> (34126, 23)\n",
      "train -> (19110, 23)\n",
      "validate -> (8190, 23)\n",
      "test -> (6826, 23)\n"
     ]
    }
   ],
   "source": [
    "#checking wrangle_zillow function\n",
    "train, validate, test= w.wrangle_zillow()"
   ]
  },
  {
   "cell_type": "code",
   "execution_count": 3,
   "metadata": {},
   "outputs": [
    {
     "data": {
      "text/plain": [
       "32.847950569668825"
      ]
     },
     "execution_count": 3,
     "metadata": {},
     "output_type": "execute_result"
    }
   ],
   "source": [
    "((50819-34126)*100) / 50819"
   ]
  },
  {
   "cell_type": "code",
   "execution_count": 4,
   "metadata": {
    "scrolled": true
   },
   "outputs": [
    {
     "name": "stdout",
     "output_type": "stream",
     "text": [
      "X_train -> (19110, 22)               y_train->(19110,)\n",
      "X_validate -> (8190, 22)         y_validate->(8190,) \n",
      "X_test -> (6826, 22)                  y_test>(6826,)\n"
     ]
    }
   ],
   "source": [
    "X_train, y_train, X_validate, y_validate, X_test, y_test = p.split_Xy(train, validate, test, 'logerror') "
   ]
  },
  {
   "cell_type": "code",
   "execution_count": 5,
   "metadata": {
    "scrolled": false
   },
   "outputs": [
    {
     "name": "stdout",
     "output_type": "stream",
     "text": [
      "<class 'pandas.core.frame.DataFrame'>\n",
      "Int64Index: 19110 entries, 54155 to 12794\n",
      "Data columns (total 22 columns):\n",
      " #   Column                        Non-Null Count  Dtype   \n",
      "---  ------                        --------------  -----   \n",
      " 0   parcelid                      19110 non-null  object  \n",
      " 1   bathroomcnt                   19110 non-null  float64 \n",
      " 2   bedroomcnt                    19110 non-null  float64 \n",
      " 3   calculatedfinishedsquarefeet  19110 non-null  float64 \n",
      " 4   latitude                      19110 non-null  float64 \n",
      " 5   longitude                     19110 non-null  float64 \n",
      " 6   propertylandusetypeid         19110 non-null  float64 \n",
      " 7   regionidcity                  19110 non-null  float64 \n",
      " 8   regionidcounty                19110 non-null  float64 \n",
      " 9   regionidzip                   19110 non-null  float64 \n",
      " 10  structuretaxvaluedollarcnt    19110 non-null  float64 \n",
      " 11  landtaxvaluedollarcnt         19110 non-null  float64 \n",
      " 12  transactiondate               19110 non-null  object  \n",
      " 13  county_name                   19110 non-null  object  \n",
      " 14  la_cnty                       19110 non-null  uint8   \n",
      " 15  orange_cnty                   19110 non-null  uint8   \n",
      " 16  ventura_cnty                  19110 non-null  uint8   \n",
      " 17  age                           19110 non-null  float64 \n",
      " 18  taxrate                       19110 non-null  float64 \n",
      " 19  quadrimester                  19110 non-null  category\n",
      " 20  lotsize_acres                 19110 non-null  float64 \n",
      " 21  logerror_bins                 19110 non-null  category\n",
      "dtypes: category(2), float64(14), object(3), uint8(3)\n",
      "memory usage: 2.7+ MB\n"
     ]
    }
   ],
   "source": [
    "X_train.info()"
   ]
  },
  {
   "cell_type": "code",
   "execution_count": 6,
   "metadata": {},
   "outputs": [
    {
     "data": {
      "text/html": [
       "<div>\n",
       "<style scoped>\n",
       "    .dataframe tbody tr th:only-of-type {\n",
       "        vertical-align: middle;\n",
       "    }\n",
       "\n",
       "    .dataframe tbody tr th {\n",
       "        vertical-align: top;\n",
       "    }\n",
       "\n",
       "    .dataframe thead th {\n",
       "        text-align: right;\n",
       "    }\n",
       "</style>\n",
       "<table border=\"1\" class=\"dataframe\">\n",
       "  <thead>\n",
       "    <tr style=\"text-align: right;\">\n",
       "      <th></th>\n",
       "      <th>parcelid</th>\n",
       "      <th>bathroomcnt</th>\n",
       "      <th>bedroomcnt</th>\n",
       "      <th>calculatedfinishedsquarefeet</th>\n",
       "      <th>latitude</th>\n",
       "      <th>longitude</th>\n",
       "      <th>propertylandusetypeid</th>\n",
       "      <th>regionidcity</th>\n",
       "      <th>regionidcounty</th>\n",
       "      <th>regionidzip</th>\n",
       "      <th>...</th>\n",
       "      <th>transactiondate</th>\n",
       "      <th>county_name</th>\n",
       "      <th>la_cnty</th>\n",
       "      <th>orange_cnty</th>\n",
       "      <th>ventura_cnty</th>\n",
       "      <th>age</th>\n",
       "      <th>taxrate</th>\n",
       "      <th>quadrimester</th>\n",
       "      <th>lotsize_acres</th>\n",
       "      <th>logerror_bins</th>\n",
       "    </tr>\n",
       "  </thead>\n",
       "  <tbody>\n",
       "    <tr>\n",
       "      <th>54155</th>\n",
       "      <td>10820004</td>\n",
       "      <td>2.0</td>\n",
       "      <td>3.0</td>\n",
       "      <td>1433.0</td>\n",
       "      <td>34209445.0</td>\n",
       "      <td>-118505975.0</td>\n",
       "      <td>261.0</td>\n",
       "      <td>12447.0</td>\n",
       "      <td>3101.0</td>\n",
       "      <td>96415.0</td>\n",
       "      <td>...</td>\n",
       "      <td>20170705</td>\n",
       "      <td>Los Angeles</td>\n",
       "      <td>1</td>\n",
       "      <td>0</td>\n",
       "      <td>0</td>\n",
       "      <td>67.0</td>\n",
       "      <td>1.208093</td>\n",
       "      <td>2</td>\n",
       "      <td>0.182484</td>\n",
       "      <td>(-0.05, 0.05]</td>\n",
       "    </tr>\n",
       "    <tr>\n",
       "      <th>44501</th>\n",
       "      <td>14204400</td>\n",
       "      <td>3.0</td>\n",
       "      <td>3.0</td>\n",
       "      <td>3126.0</td>\n",
       "      <td>33860307.0</td>\n",
       "      <td>-117732319.0</td>\n",
       "      <td>261.0</td>\n",
       "      <td>16764.0</td>\n",
       "      <td>1286.0</td>\n",
       "      <td>97027.0</td>\n",
       "      <td>...</td>\n",
       "      <td>20170608</td>\n",
       "      <td>Orange</td>\n",
       "      <td>0</td>\n",
       "      <td>1</td>\n",
       "      <td>0</td>\n",
       "      <td>25.0</td>\n",
       "      <td>1.063828</td>\n",
       "      <td>2</td>\n",
       "      <td>0.151515</td>\n",
       "      <td>(-0.05, 0.05]</td>\n",
       "    </tr>\n",
       "    <tr>\n",
       "      <th>77435</th>\n",
       "      <td>11468343</td>\n",
       "      <td>1.0</td>\n",
       "      <td>2.0</td>\n",
       "      <td>806.0</td>\n",
       "      <td>33957244.0</td>\n",
       "      <td>-118391943.0</td>\n",
       "      <td>261.0</td>\n",
       "      <td>12447.0</td>\n",
       "      <td>3101.0</td>\n",
       "      <td>96026.0</td>\n",
       "      <td>...</td>\n",
       "      <td>20170919</td>\n",
       "      <td>Los Angeles</td>\n",
       "      <td>1</td>\n",
       "      <td>0</td>\n",
       "      <td>0</td>\n",
       "      <td>75.0</td>\n",
       "      <td>1.215730</td>\n",
       "      <td>3</td>\n",
       "      <td>0.135560</td>\n",
       "      <td>(0.05, 0.2]</td>\n",
       "    </tr>\n",
       "    <tr>\n",
       "      <th>43382</th>\n",
       "      <td>13934312</td>\n",
       "      <td>2.0</td>\n",
       "      <td>4.0</td>\n",
       "      <td>1806.0</td>\n",
       "      <td>33790993.0</td>\n",
       "      <td>-117926578.0</td>\n",
       "      <td>261.0</td>\n",
       "      <td>24832.0</td>\n",
       "      <td>1286.0</td>\n",
       "      <td>97047.0</td>\n",
       "      <td>...</td>\n",
       "      <td>20170605</td>\n",
       "      <td>Orange</td>\n",
       "      <td>0</td>\n",
       "      <td>1</td>\n",
       "      <td>0</td>\n",
       "      <td>64.0</td>\n",
       "      <td>1.461827</td>\n",
       "      <td>2</td>\n",
       "      <td>0.167126</td>\n",
       "      <td>(-0.05, 0.05]</td>\n",
       "    </tr>\n",
       "    <tr>\n",
       "      <th>34022</th>\n",
       "      <td>12837858</td>\n",
       "      <td>2.0</td>\n",
       "      <td>3.0</td>\n",
       "      <td>1851.0</td>\n",
       "      <td>34031627.0</td>\n",
       "      <td>-117917417.0</td>\n",
       "      <td>261.0</td>\n",
       "      <td>118694.0</td>\n",
       "      <td>3101.0</td>\n",
       "      <td>96488.0</td>\n",
       "      <td>...</td>\n",
       "      <td>20170508</td>\n",
       "      <td>Los Angeles</td>\n",
       "      <td>1</td>\n",
       "      <td>0</td>\n",
       "      <td>0</td>\n",
       "      <td>59.0</td>\n",
       "      <td>1.285648</td>\n",
       "      <td>2</td>\n",
       "      <td>0.153926</td>\n",
       "      <td>(-0.05, 0.05]</td>\n",
       "    </tr>\n",
       "  </tbody>\n",
       "</table>\n",
       "<p>5 rows × 23 columns</p>\n",
       "</div>"
      ],
      "text/plain": [
       "       parcelid  bathroomcnt  bedroomcnt  calculatedfinishedsquarefeet  \\\n",
       "54155  10820004          2.0         3.0                        1433.0   \n",
       "44501  14204400          3.0         3.0                        3126.0   \n",
       "77435  11468343          1.0         2.0                         806.0   \n",
       "43382  13934312          2.0         4.0                        1806.0   \n",
       "34022  12837858          2.0         3.0                        1851.0   \n",
       "\n",
       "         latitude    longitude  propertylandusetypeid  regionidcity  \\\n",
       "54155  34209445.0 -118505975.0                  261.0       12447.0   \n",
       "44501  33860307.0 -117732319.0                  261.0       16764.0   \n",
       "77435  33957244.0 -118391943.0                  261.0       12447.0   \n",
       "43382  33790993.0 -117926578.0                  261.0       24832.0   \n",
       "34022  34031627.0 -117917417.0                  261.0      118694.0   \n",
       "\n",
       "       regionidcounty  regionidzip  ...  transactiondate  county_name  \\\n",
       "54155          3101.0      96415.0  ...         20170705  Los Angeles   \n",
       "44501          1286.0      97027.0  ...         20170608       Orange   \n",
       "77435          3101.0      96026.0  ...         20170919  Los Angeles   \n",
       "43382          1286.0      97047.0  ...         20170605       Orange   \n",
       "34022          3101.0      96488.0  ...         20170508  Los Angeles   \n",
       "\n",
       "       la_cnty orange_cnty ventura_cnty   age   taxrate  quadrimester  \\\n",
       "54155        1           0            0  67.0  1.208093             2   \n",
       "44501        0           1            0  25.0  1.063828             2   \n",
       "77435        1           0            0  75.0  1.215730             3   \n",
       "43382        0           1            0  64.0  1.461827             2   \n",
       "34022        1           0            0  59.0  1.285648             2   \n",
       "\n",
       "       lotsize_acres  logerror_bins  \n",
       "54155       0.182484  (-0.05, 0.05]  \n",
       "44501       0.151515  (-0.05, 0.05]  \n",
       "77435       0.135560    (0.05, 0.2]  \n",
       "43382       0.167126  (-0.05, 0.05]  \n",
       "34022       0.153926  (-0.05, 0.05]  \n",
       "\n",
       "[5 rows x 23 columns]"
      ]
     },
     "execution_count": 6,
     "metadata": {},
     "output_type": "execute_result"
    }
   ],
   "source": [
    "train.head()"
   ]
  },
  {
   "cell_type": "code",
   "execution_count": 7,
   "metadata": {},
   "outputs": [],
   "source": [
    "scal_var = ['bathroomcnt', 'bedroomcnt', 'calculatedfinishedsquarefeet','latitude', 'longitude', \n",
    "            'structuretaxvaluedollarcnt', 'age', 'taxrate', 'lotsize_acres']"
   ]
  },
  {
   "cell_type": "code",
   "execution_count": 8,
   "metadata": {
    "scrolled": false
   },
   "outputs": [
    {
     "data": {
      "image/png": "[encoded data removed]",
      "text/plain": [
       "<Figure size 936x432 with 2 Axes>"
      ]
     },
     "metadata": {
      "needs_background": "light"
     },
     "output_type": "display_data"
    },
    {
     "data": {
      "image/png": "[encoded data removed]",
      "text/plain": [
       "<Figure size 936x432 with 2 Axes>"
      ]
     },
     "metadata": {
      "needs_background": "light"
     },
     "output_type": "display_data"
    },
    {
     "data": {
      "image/png": "[encoded data removed]",
      "text/plain": [
       "<Figure size 936x432 with 2 Axes>"
      ]
     },
     "metadata": {
      "needs_background": "light"
     },
     "output_type": "display_data"
    },
    {
     "data": {
      "image/png": "[encoded data removed]",
      "text/plain": [
       "<Figure size 936x432 with 2 Axes>"
      ]
     },
     "metadata": {
      "needs_background": "light"
     },
     "output_type": "display_data"
    },
    {
     "data": {
      "image/png": "[encoded data removed]",
      "text/plain": [
       "<Figure size 936x432 with 2 Axes>"
      ]
     },
     "metadata": {
      "needs_background": "light"
     },
     "output_type": "display_data"
    },
    {
     "data": {
      "image/png": "[encoded data removed]",
      "text/plain": [
       "<Figure size 936x432 with 2 Axes>"
      ]
     },
     "metadata": {
      "needs_background": "light"
     },
     "output_type": "display_data"
    },
    {
     "data": {
      "image/png": "[encoded data removed]",
      "text/plain": [
       "<Figure size 936x432 with 2 Axes>"
      ]
     },
     "metadata": {
      "needs_background": "light"
     },
     "output_type": "display_data"
    },
    {
     "data": {
      "image/png": "[encoded data removed]",
      "text/plain": [
       "<Figure size 936x432 with 2 Axes>"
      ]
     },
     "metadata": {
      "needs_background": "light"
     },
     "output_type": "display_data"
    },
    {
     "data": {
      "image/png": "[encoded data removed]",
      "text/plain": [
       "<Figure size 936x432 with 2 Axes>"
      ]
     },
     "metadata": {
      "needs_background": "light"
     },
     "output_type": "display_data"
    }
   ],
   "source": [
    "train_scaled_df, validate_scaled_df, test_scaled_df = p.scaled_df( train , validate, test, scal_var, MinMaxScaler())"
   ]
  },
  {
   "cell_type": "code",
   "execution_count": 9,
   "metadata": {},
   "outputs": [
    {
     "data": {
      "text/html": [
       "<div>\n",
       "<style scoped>\n",
       "    .dataframe tbody tr th:only-of-type {\n",
       "        vertical-align: middle;\n",
       "    }\n",
       "\n",
       "    .dataframe tbody tr th {\n",
       "        vertical-align: top;\n",
       "    }\n",
       "\n",
       "    .dataframe thead th {\n",
       "        text-align: right;\n",
       "    }\n",
       "</style>\n",
       "<table border=\"1\" class=\"dataframe\">\n",
       "  <thead>\n",
       "    <tr style=\"text-align: right;\">\n",
       "      <th></th>\n",
       "      <th>bathroomcnt</th>\n",
       "      <th>bedroomcnt</th>\n",
       "      <th>calculatedfinishedsquarefeet</th>\n",
       "      <th>latitude</th>\n",
       "      <th>longitude</th>\n",
       "      <th>structuretaxvaluedollarcnt</th>\n",
       "      <th>age</th>\n",
       "      <th>taxrate</th>\n",
       "      <th>lotsize_acres</th>\n",
       "      <th>parcelid</th>\n",
       "      <th>...</th>\n",
       "      <th>regionidzip</th>\n",
       "      <th>landtaxvaluedollarcnt</th>\n",
       "      <th>logerror</th>\n",
       "      <th>transactiondate</th>\n",
       "      <th>county_name</th>\n",
       "      <th>la_cnty</th>\n",
       "      <th>orange_cnty</th>\n",
       "      <th>ventura_cnty</th>\n",
       "      <th>quadrimester</th>\n",
       "      <th>logerror_bins</th>\n",
       "    </tr>\n",
       "  </thead>\n",
       "  <tbody>\n",
       "    <tr>\n",
       "      <th>54155</th>\n",
       "      <td>0.333333</td>\n",
       "      <td>0.333333</td>\n",
       "      <td>0.313487</td>\n",
       "      <td>0.613317</td>\n",
       "      <td>0.502362</td>\n",
       "      <td>0.241588</td>\n",
       "      <td>0.627660</td>\n",
       "      <td>0.399570</td>\n",
       "      <td>0.603730</td>\n",
       "      <td>10820004</td>\n",
       "      <td>...</td>\n",
       "      <td>96415.0</td>\n",
       "      <td>368100.0</td>\n",
       "      <td>-0.028796</td>\n",
       "      <td>20170705</td>\n",
       "      <td>Los Angeles</td>\n",
       "      <td>1</td>\n",
       "      <td>0</td>\n",
       "      <td>0</td>\n",
       "      <td>2</td>\n",
       "      <td>(-0.05, 0.05]</td>\n",
       "    </tr>\n",
       "    <tr>\n",
       "      <th>44501</th>\n",
       "      <td>0.666667</td>\n",
       "      <td>0.333333</td>\n",
       "      <td>0.870395</td>\n",
       "      <td>0.348033</td>\n",
       "      <td>0.914765</td>\n",
       "      <td>0.819619</td>\n",
       "      <td>0.180851</td>\n",
       "      <td>0.228981</td>\n",
       "      <td>0.479180</td>\n",
       "      <td>14204400</td>\n",
       "      <td>...</td>\n",
       "      <td>97027.0</td>\n",
       "      <td>582701.0</td>\n",
       "      <td>0.003204</td>\n",
       "      <td>20170608</td>\n",
       "      <td>Orange</td>\n",
       "      <td>0</td>\n",
       "      <td>1</td>\n",
       "      <td>0</td>\n",
       "      <td>2</td>\n",
       "      <td>(-0.05, 0.05]</td>\n",
       "    </tr>\n",
       "    <tr>\n",
       "      <th>77435</th>\n",
       "      <td>0.000000</td>\n",
       "      <td>0.000000</td>\n",
       "      <td>0.107237</td>\n",
       "      <td>0.421688</td>\n",
       "      <td>0.563148</td>\n",
       "      <td>0.176536</td>\n",
       "      <td>0.712766</td>\n",
       "      <td>0.408601</td>\n",
       "      <td>0.415012</td>\n",
       "      <td>11468343</td>\n",
       "      <td>...</td>\n",
       "      <td>96026.0</td>\n",
       "      <td>65798.0</td>\n",
       "      <td>0.093275</td>\n",
       "      <td>20170919</td>\n",
       "      <td>Los Angeles</td>\n",
       "      <td>1</td>\n",
       "      <td>0</td>\n",
       "      <td>0</td>\n",
       "      <td>3</td>\n",
       "      <td>(0.05, 0.2]</td>\n",
       "    </tr>\n",
       "    <tr>\n",
       "      <th>43382</th>\n",
       "      <td>0.333333</td>\n",
       "      <td>0.666667</td>\n",
       "      <td>0.436184</td>\n",
       "      <td>0.295367</td>\n",
       "      <td>0.811214</td>\n",
       "      <td>0.178186</td>\n",
       "      <td>0.595745</td>\n",
       "      <td>0.699603</td>\n",
       "      <td>0.541963</td>\n",
       "      <td>13934312</td>\n",
       "      <td>...</td>\n",
       "      <td>97047.0</td>\n",
       "      <td>35498.0</td>\n",
       "      <td>-0.010305</td>\n",
       "      <td>20170605</td>\n",
       "      <td>Orange</td>\n",
       "      <td>0</td>\n",
       "      <td>1</td>\n",
       "      <td>0</td>\n",
       "      <td>2</td>\n",
       "      <td>(-0.05, 0.05]</td>\n",
       "    </tr>\n",
       "    <tr>\n",
       "      <th>34022</th>\n",
       "      <td>0.333333</td>\n",
       "      <td>0.333333</td>\n",
       "      <td>0.450987</td>\n",
       "      <td>0.478206</td>\n",
       "      <td>0.816097</td>\n",
       "      <td>0.370804</td>\n",
       "      <td>0.542553</td>\n",
       "      <td>0.491276</td>\n",
       "      <td>0.488875</td>\n",
       "      <td>12837858</td>\n",
       "      <td>...</td>\n",
       "      <td>96488.0</td>\n",
       "      <td>51930.0</td>\n",
       "      <td>-0.027473</td>\n",
       "      <td>20170508</td>\n",
       "      <td>Los Angeles</td>\n",
       "      <td>1</td>\n",
       "      <td>0</td>\n",
       "      <td>0</td>\n",
       "      <td>2</td>\n",
       "      <td>(-0.05, 0.05]</td>\n",
       "    </tr>\n",
       "    <tr>\n",
       "      <th>...</th>\n",
       "      <td>...</td>\n",
       "      <td>...</td>\n",
       "      <td>...</td>\n",
       "      <td>...</td>\n",
       "      <td>...</td>\n",
       "      <td>...</td>\n",
       "      <td>...</td>\n",
       "      <td>...</td>\n",
       "      <td>...</td>\n",
       "      <td>...</td>\n",
       "      <td>...</td>\n",
       "      <td>...</td>\n",
       "      <td>...</td>\n",
       "      <td>...</td>\n",
       "      <td>...</td>\n",
       "      <td>...</td>\n",
       "      <td>...</td>\n",
       "      <td>...</td>\n",
       "      <td>...</td>\n",
       "      <td>...</td>\n",
       "      <td>...</td>\n",
       "    </tr>\n",
       "    <tr>\n",
       "      <th>10252</th>\n",
       "      <td>0.500000</td>\n",
       "      <td>0.666667</td>\n",
       "      <td>0.656908</td>\n",
       "      <td>0.211511</td>\n",
       "      <td>0.865907</td>\n",
       "      <td>0.661785</td>\n",
       "      <td>0.212766</td>\n",
       "      <td>0.349691</td>\n",
       "      <td>0.215123</td>\n",
       "      <td>14299852</td>\n",
       "      <td>...</td>\n",
       "      <td>96948.0</td>\n",
       "      <td>285302.0</td>\n",
       "      <td>0.015275</td>\n",
       "      <td>20170216</td>\n",
       "      <td>Orange</td>\n",
       "      <td>0</td>\n",
       "      <td>1</td>\n",
       "      <td>0</td>\n",
       "      <td>1</td>\n",
       "      <td>(-0.05, 0.05]</td>\n",
       "    </tr>\n",
       "    <tr>\n",
       "      <th>21197</th>\n",
       "      <td>0.333333</td>\n",
       "      <td>0.333333</td>\n",
       "      <td>0.266447</td>\n",
       "      <td>0.373502</td>\n",
       "      <td>0.693616</td>\n",
       "      <td>0.303242</td>\n",
       "      <td>0.234043</td>\n",
       "      <td>0.554420</td>\n",
       "      <td>0.185763</td>\n",
       "      <td>12341742</td>\n",
       "      <td>...</td>\n",
       "      <td>96220.0</td>\n",
       "      <td>77600.0</td>\n",
       "      <td>-0.089673</td>\n",
       "      <td>20170329</td>\n",
       "      <td>Los Angeles</td>\n",
       "      <td>1</td>\n",
       "      <td>0</td>\n",
       "      <td>0</td>\n",
       "      <td>1</td>\n",
       "      <td>(-0.2, -0.05]</td>\n",
       "    </tr>\n",
       "    <tr>\n",
       "      <th>26708</th>\n",
       "      <td>0.333333</td>\n",
       "      <td>0.333333</td>\n",
       "      <td>0.423026</td>\n",
       "      <td>0.586753</td>\n",
       "      <td>0.545401</td>\n",
       "      <td>0.198320</td>\n",
       "      <td>0.489362</td>\n",
       "      <td>0.497725</td>\n",
       "      <td>0.354630</td>\n",
       "      <td>10894280</td>\n",
       "      <td>...</td>\n",
       "      <td>96410.0</td>\n",
       "      <td>36634.0</td>\n",
       "      <td>-0.049205</td>\n",
       "      <td>20170414</td>\n",
       "      <td>Los Angeles</td>\n",
       "      <td>1</td>\n",
       "      <td>0</td>\n",
       "      <td>0</td>\n",
       "      <td>1</td>\n",
       "      <td>(-0.05, 0.05]</td>\n",
       "    </tr>\n",
       "    <tr>\n",
       "      <th>17123</th>\n",
       "      <td>0.333333</td>\n",
       "      <td>0.333333</td>\n",
       "      <td>0.297368</td>\n",
       "      <td>0.601415</td>\n",
       "      <td>0.127564</td>\n",
       "      <td>0.377636</td>\n",
       "      <td>0.340426</td>\n",
       "      <td>0.393215</td>\n",
       "      <td>0.424892</td>\n",
       "      <td>17149321</td>\n",
       "      <td>...</td>\n",
       "      <td>97106.0</td>\n",
       "      <td>77820.0</td>\n",
       "      <td>0.207205</td>\n",
       "      <td>20170315</td>\n",
       "      <td>Ventura</td>\n",
       "      <td>0</td>\n",
       "      <td>0</td>\n",
       "      <td>1</td>\n",
       "      <td>1</td>\n",
       "      <td>(0.2, 4.0]</td>\n",
       "    </tr>\n",
       "    <tr>\n",
       "      <th>12794</th>\n",
       "      <td>0.333333</td>\n",
       "      <td>0.000000</td>\n",
       "      <td>0.383224</td>\n",
       "      <td>0.156967</td>\n",
       "      <td>0.946354</td>\n",
       "      <td>0.593966</td>\n",
       "      <td>0.042553</td>\n",
       "      <td>0.172840</td>\n",
       "      <td>0.423784</td>\n",
       "      <td>14474464</td>\n",
       "      <td>...</td>\n",
       "      <td>96995.0</td>\n",
       "      <td>153511.0</td>\n",
       "      <td>-0.104012</td>\n",
       "      <td>20170227</td>\n",
       "      <td>Orange</td>\n",
       "      <td>0</td>\n",
       "      <td>1</td>\n",
       "      <td>0</td>\n",
       "      <td>1</td>\n",
       "      <td>(-0.2, -0.05]</td>\n",
       "    </tr>\n",
       "  </tbody>\n",
       "</table>\n",
       "<p>19110 rows × 23 columns</p>\n",
       "</div>"
      ],
      "text/plain": [
       "       bathroomcnt  bedroomcnt  calculatedfinishedsquarefeet  latitude  \\\n",
       "54155     0.333333    0.333333                      0.313487  0.613317   \n",
       "44501     0.666667    0.333333                      0.870395  0.348033   \n",
       "77435     0.000000    0.000000                      0.107237  0.421688   \n",
       "43382     0.333333    0.666667                      0.436184  0.295367   \n",
       "34022     0.333333    0.333333                      0.450987  0.478206   \n",
       "...            ...         ...                           ...       ...   \n",
       "10252     0.500000    0.666667                      0.656908  0.211511   \n",
       "21197     0.333333    0.333333                      0.266447  0.373502   \n",
       "26708     0.333333    0.333333                      0.423026  0.586753   \n",
       "17123     0.333333    0.333333                      0.297368  0.601415   \n",
       "12794     0.333333    0.000000                      0.383224  0.156967   \n",
       "\n",
       "       longitude  structuretaxvaluedollarcnt       age   taxrate  \\\n",
       "54155   0.502362                    0.241588  0.627660  0.399570   \n",
       "44501   0.914765                    0.819619  0.180851  0.228981   \n",
       "77435   0.563148                    0.176536  0.712766  0.408601   \n",
       "43382   0.811214                    0.178186  0.595745  0.699603   \n",
       "34022   0.816097                    0.370804  0.542553  0.491276   \n",
       "...          ...                         ...       ...       ...   \n",
       "10252   0.865907                    0.661785  0.212766  0.349691   \n",
       "21197   0.693616                    0.303242  0.234043  0.554420   \n",
       "26708   0.545401                    0.198320  0.489362  0.497725   \n",
       "17123   0.127564                    0.377636  0.340426  0.393215   \n",
       "12794   0.946354                    0.593966  0.042553  0.172840   \n",
       "\n",
       "       lotsize_acres  parcelid  ...  regionidzip  landtaxvaluedollarcnt  \\\n",
       "54155       0.603730  10820004  ...      96415.0               368100.0   \n",
       "44501       0.479180  14204400  ...      97027.0               582701.0   \n",
       "77435       0.415012  11468343  ...      96026.0                65798.0   \n",
       "43382       0.541963  13934312  ...      97047.0                35498.0   \n",
       "34022       0.488875  12837858  ...      96488.0                51930.0   \n",
       "...              ...       ...  ...          ...                    ...   \n",
       "10252       0.215123  14299852  ...      96948.0               285302.0   \n",
       "21197       0.185763  12341742  ...      96220.0                77600.0   \n",
       "26708       0.354630  10894280  ...      96410.0                36634.0   \n",
       "17123       0.424892  17149321  ...      97106.0                77820.0   \n",
       "12794       0.423784  14474464  ...      96995.0               153511.0   \n",
       "\n",
       "       logerror  transactiondate  county_name  la_cnty orange_cnty  \\\n",
       "54155 -0.028796         20170705  Los Angeles        1           0   \n",
       "44501  0.003204         20170608       Orange        0           1   \n",
       "77435  0.093275         20170919  Los Angeles        1           0   \n",
       "43382 -0.010305         20170605       Orange        0           1   \n",
       "34022 -0.027473         20170508  Los Angeles        1           0   \n",
       "...         ...              ...          ...      ...         ...   \n",
       "10252  0.015275         20170216       Orange        0           1   \n",
       "21197 -0.089673         20170329  Los Angeles        1           0   \n",
       "26708 -0.049205         20170414  Los Angeles        1           0   \n",
       "17123  0.207205         20170315      Ventura        0           0   \n",
       "12794 -0.104012         20170227       Orange        0           1   \n",
       "\n",
       "      ventura_cnty  quadrimester  logerror_bins  \n",
       "54155            0             2  (-0.05, 0.05]  \n",
       "44501            0             2  (-0.05, 0.05]  \n",
       "77435            0             3    (0.05, 0.2]  \n",
       "43382            0             2  (-0.05, 0.05]  \n",
       "34022            0             2  (-0.05, 0.05]  \n",
       "...            ...           ...            ...  \n",
       "10252            0             1  (-0.05, 0.05]  \n",
       "21197            0             1  (-0.2, -0.05]  \n",
       "26708            0             1  (-0.05, 0.05]  \n",
       "17123            1             1     (0.2, 4.0]  \n",
       "12794            0             1  (-0.2, -0.05]  \n",
       "\n",
       "[19110 rows x 23 columns]"
      ]
     },
     "execution_count": 9,
     "metadata": {},
     "output_type": "execute_result"
    }
   ],
   "source": [
    "train_scaled_df.head()"
   ]
  },
  {
   "cell_type": "code",
   "execution_count": 10,
   "metadata": {
    "scrolled": true
   },
   "outputs": [
    {
     "data": {
      "text/html": [
       "<div>\n",
       "<style scoped>\n",
       "    .dataframe tbody tr th:only-of-type {\n",
       "        vertical-align: middle;\n",
       "    }\n",
       "\n",
       "    .dataframe tbody tr th {\n",
       "        vertical-align: top;\n",
       "    }\n",
       "\n",
       "    .dataframe thead th {\n",
       "        text-align: right;\n",
       "    }\n",
       "</style>\n",
       "<table border=\"1\" class=\"dataframe\">\n",
       "  <thead>\n",
       "    <tr style=\"text-align: right;\">\n",
       "      <th></th>\n",
       "      <th>parcelid</th>\n",
       "      <th>bathroomcnt</th>\n",
       "      <th>bedroomcnt</th>\n",
       "      <th>calculatedfinishedsquarefeet</th>\n",
       "      <th>latitude</th>\n",
       "      <th>longitude</th>\n",
       "      <th>propertylandusetypeid</th>\n",
       "      <th>regionidcity</th>\n",
       "      <th>regionidcounty</th>\n",
       "      <th>regionidzip</th>\n",
       "      <th>...</th>\n",
       "      <th>transactiondate</th>\n",
       "      <th>county_name</th>\n",
       "      <th>la_cnty</th>\n",
       "      <th>orange_cnty</th>\n",
       "      <th>ventura_cnty</th>\n",
       "      <th>age</th>\n",
       "      <th>taxrate</th>\n",
       "      <th>quadrimester</th>\n",
       "      <th>lotsize_acres</th>\n",
       "      <th>logerror_bins</th>\n",
       "    </tr>\n",
       "  </thead>\n",
       "  <tbody>\n",
       "    <tr>\n",
       "      <th>60337</th>\n",
       "      <td>17124366</td>\n",
       "      <td>2.0</td>\n",
       "      <td>4.0</td>\n",
       "      <td>2436.0</td>\n",
       "      <td>34242629.0</td>\n",
       "      <td>-119039511.0</td>\n",
       "      <td>261.0</td>\n",
       "      <td>51239.0</td>\n",
       "      <td>2061.0</td>\n",
       "      <td>97089.0</td>\n",
       "      <td>...</td>\n",
       "      <td>20170725</td>\n",
       "      <td>Ventura</td>\n",
       "      <td>0</td>\n",
       "      <td>0</td>\n",
       "      <td>1</td>\n",
       "      <td>36.0</td>\n",
       "      <td>1.066761</td>\n",
       "      <td>2</td>\n",
       "      <td>0.211915</td>\n",
       "      <td>(-0.05, 0.05]</td>\n",
       "    </tr>\n",
       "    <tr>\n",
       "      <th>28178</th>\n",
       "      <td>12668934</td>\n",
       "      <td>2.0</td>\n",
       "      <td>4.0</td>\n",
       "      <td>1521.0</td>\n",
       "      <td>33808478.0</td>\n",
       "      <td>-118388703.0</td>\n",
       "      <td>261.0</td>\n",
       "      <td>33612.0</td>\n",
       "      <td>3101.0</td>\n",
       "      <td>96123.0</td>\n",
       "      <td>...</td>\n",
       "      <td>20170420</td>\n",
       "      <td>Los Angeles</td>\n",
       "      <td>1</td>\n",
       "      <td>0</td>\n",
       "      <td>0</td>\n",
       "      <td>62.0</td>\n",
       "      <td>1.134637</td>\n",
       "      <td>1</td>\n",
       "      <td>0.146602</td>\n",
       "      <td>(-0.2, -0.05]</td>\n",
       "    </tr>\n",
       "    <tr>\n",
       "      <th>47587</th>\n",
       "      <td>17248766</td>\n",
       "      <td>2.0</td>\n",
       "      <td>4.0</td>\n",
       "      <td>1835.0</td>\n",
       "      <td>34252233.0</td>\n",
       "      <td>-118766999.0</td>\n",
       "      <td>261.0</td>\n",
       "      <td>27110.0</td>\n",
       "      <td>2061.0</td>\n",
       "      <td>97118.0</td>\n",
       "      <td>...</td>\n",
       "      <td>20170616</td>\n",
       "      <td>Ventura</td>\n",
       "      <td>0</td>\n",
       "      <td>0</td>\n",
       "      <td>1</td>\n",
       "      <td>52.0</td>\n",
       "      <td>1.155815</td>\n",
       "      <td>2</td>\n",
       "      <td>0.202479</td>\n",
       "      <td>(-0.05, 0.05]</td>\n",
       "    </tr>\n",
       "    <tr>\n",
       "      <th>42004</th>\n",
       "      <td>11430808</td>\n",
       "      <td>3.0</td>\n",
       "      <td>3.0</td>\n",
       "      <td>1136.0</td>\n",
       "      <td>33897642.0</td>\n",
       "      <td>-118311162.0</td>\n",
       "      <td>261.0</td>\n",
       "      <td>45398.0</td>\n",
       "      <td>3101.0</td>\n",
       "      <td>96106.0</td>\n",
       "      <td>...</td>\n",
       "      <td>20170531</td>\n",
       "      <td>Los Angeles</td>\n",
       "      <td>1</td>\n",
       "      <td>0</td>\n",
       "      <td>0</td>\n",
       "      <td>70.0</td>\n",
       "      <td>1.254580</td>\n",
       "      <td>2</td>\n",
       "      <td>0.110193</td>\n",
       "      <td>(-0.05, 0.05]</td>\n",
       "    </tr>\n",
       "    <tr>\n",
       "      <th>76659</th>\n",
       "      <td>17280763</td>\n",
       "      <td>1.0</td>\n",
       "      <td>3.0</td>\n",
       "      <td>932.0</td>\n",
       "      <td>34207657.0</td>\n",
       "      <td>-118851620.0</td>\n",
       "      <td>261.0</td>\n",
       "      <td>34278.0</td>\n",
       "      <td>2061.0</td>\n",
       "      <td>96383.0</td>\n",
       "      <td>...</td>\n",
       "      <td>20170914</td>\n",
       "      <td>Ventura</td>\n",
       "      <td>0</td>\n",
       "      <td>0</td>\n",
       "      <td>1</td>\n",
       "      <td>57.0</td>\n",
       "      <td>1.647027</td>\n",
       "      <td>3</td>\n",
       "      <td>0.280739</td>\n",
       "      <td>(-0.05, 0.05]</td>\n",
       "    </tr>\n",
       "    <tr>\n",
       "      <th>46984</th>\n",
       "      <td>12252152</td>\n",
       "      <td>2.0</td>\n",
       "      <td>4.0</td>\n",
       "      <td>1640.0</td>\n",
       "      <td>33903547.0</td>\n",
       "      <td>-118295735.0</td>\n",
       "      <td>261.0</td>\n",
       "      <td>45398.0</td>\n",
       "      <td>3101.0</td>\n",
       "      <td>96104.0</td>\n",
       "      <td>...</td>\n",
       "      <td>20170615</td>\n",
       "      <td>Los Angeles</td>\n",
       "      <td>1</td>\n",
       "      <td>0</td>\n",
       "      <td>0</td>\n",
       "      <td>30.0</td>\n",
       "      <td>1.257682</td>\n",
       "      <td>2</td>\n",
       "      <td>0.114210</td>\n",
       "      <td>(-0.05, 0.05]</td>\n",
       "    </tr>\n",
       "    <tr>\n",
       "      <th>52288</th>\n",
       "      <td>10860050</td>\n",
       "      <td>1.0</td>\n",
       "      <td>3.0</td>\n",
       "      <td>1108.0</td>\n",
       "      <td>34158315.0</td>\n",
       "      <td>-118438305.0</td>\n",
       "      <td>261.0</td>\n",
       "      <td>12447.0</td>\n",
       "      <td>3101.0</td>\n",
       "      <td>96424.0</td>\n",
       "      <td>...</td>\n",
       "      <td>20170629</td>\n",
       "      <td>Los Angeles</td>\n",
       "      <td>1</td>\n",
       "      <td>0</td>\n",
       "      <td>0</td>\n",
       "      <td>69.0</td>\n",
       "      <td>1.242713</td>\n",
       "      <td>2</td>\n",
       "      <td>0.138200</td>\n",
       "      <td>(0.05, 0.2]</td>\n",
       "    </tr>\n",
       "    <tr>\n",
       "      <th>26089</th>\n",
       "      <td>10829225</td>\n",
       "      <td>2.0</td>\n",
       "      <td>3.0</td>\n",
       "      <td>1316.0</td>\n",
       "      <td>34199897.0</td>\n",
       "      <td>-118453570.0</td>\n",
       "      <td>261.0</td>\n",
       "      <td>12447.0</td>\n",
       "      <td>3101.0</td>\n",
       "      <td>96414.0</td>\n",
       "      <td>...</td>\n",
       "      <td>20170413</td>\n",
       "      <td>Los Angeles</td>\n",
       "      <td>1</td>\n",
       "      <td>0</td>\n",
       "      <td>0</td>\n",
       "      <td>68.0</td>\n",
       "      <td>1.205986</td>\n",
       "      <td>1</td>\n",
       "      <td>0.140702</td>\n",
       "      <td>(-0.05, 0.05]</td>\n",
       "    </tr>\n",
       "    <tr>\n",
       "      <th>48226</th>\n",
       "      <td>12268960</td>\n",
       "      <td>1.0</td>\n",
       "      <td>3.0</td>\n",
       "      <td>1011.0</td>\n",
       "      <td>33921848.0</td>\n",
       "      <td>-118247414.0</td>\n",
       "      <td>261.0</td>\n",
       "      <td>118994.0</td>\n",
       "      <td>3101.0</td>\n",
       "      <td>96040.0</td>\n",
       "      <td>...</td>\n",
       "      <td>20170620</td>\n",
       "      <td>Los Angeles</td>\n",
       "      <td>1</td>\n",
       "      <td>0</td>\n",
       "      <td>0</td>\n",
       "      <td>71.0</td>\n",
       "      <td>1.541571</td>\n",
       "      <td>2</td>\n",
       "      <td>0.137052</td>\n",
       "      <td>(-0.05, 0.05]</td>\n",
       "    </tr>\n",
       "    <tr>\n",
       "      <th>38343</th>\n",
       "      <td>12166629</td>\n",
       "      <td>1.0</td>\n",
       "      <td>3.0</td>\n",
       "      <td>1400.0</td>\n",
       "      <td>34186531.0</td>\n",
       "      <td>-118134713.0</td>\n",
       "      <td>261.0</td>\n",
       "      <td>30187.0</td>\n",
       "      <td>3101.0</td>\n",
       "      <td>96265.0</td>\n",
       "      <td>...</td>\n",
       "      <td>20170522</td>\n",
       "      <td>Los Angeles</td>\n",
       "      <td>1</td>\n",
       "      <td>0</td>\n",
       "      <td>0</td>\n",
       "      <td>90.0</td>\n",
       "      <td>1.203363</td>\n",
       "      <td>2</td>\n",
       "      <td>0.164899</td>\n",
       "      <td>(-5.0, -0.2]</td>\n",
       "    </tr>\n",
       "    <tr>\n",
       "      <th>64593</th>\n",
       "      <td>12174321</td>\n",
       "      <td>1.0</td>\n",
       "      <td>2.0</td>\n",
       "      <td>1279.0</td>\n",
       "      <td>34178133.0</td>\n",
       "      <td>-118103892.0</td>\n",
       "      <td>261.0</td>\n",
       "      <td>30187.0</td>\n",
       "      <td>3101.0</td>\n",
       "      <td>96265.0</td>\n",
       "      <td>...</td>\n",
       "      <td>20170808</td>\n",
       "      <td>Los Angeles</td>\n",
       "      <td>1</td>\n",
       "      <td>0</td>\n",
       "      <td>0</td>\n",
       "      <td>78.0</td>\n",
       "      <td>1.148705</td>\n",
       "      <td>2</td>\n",
       "      <td>0.220638</td>\n",
       "      <td>(-0.05, 0.05]</td>\n",
       "    </tr>\n",
       "    <tr>\n",
       "      <th>17065</th>\n",
       "      <td>12533355</td>\n",
       "      <td>2.0</td>\n",
       "      <td>2.0</td>\n",
       "      <td>1639.0</td>\n",
       "      <td>33764631.0</td>\n",
       "      <td>-118135660.0</td>\n",
       "      <td>261.0</td>\n",
       "      <td>46298.0</td>\n",
       "      <td>3101.0</td>\n",
       "      <td>96237.0</td>\n",
       "      <td>...</td>\n",
       "      <td>20170315</td>\n",
       "      <td>Los Angeles</td>\n",
       "      <td>1</td>\n",
       "      <td>0</td>\n",
       "      <td>0</td>\n",
       "      <td>94.0</td>\n",
       "      <td>1.179549</td>\n",
       "      <td>1</td>\n",
       "      <td>0.082208</td>\n",
       "      <td>(-0.05, 0.05]</td>\n",
       "    </tr>\n",
       "    <tr>\n",
       "      <th>42336</th>\n",
       "      <td>12480894</td>\n",
       "      <td>4.0</td>\n",
       "      <td>4.0</td>\n",
       "      <td>2837.0</td>\n",
       "      <td>33862630.0</td>\n",
       "      <td>-118125609.0</td>\n",
       "      <td>261.0</td>\n",
       "      <td>12292.0</td>\n",
       "      <td>3101.0</td>\n",
       "      <td>96212.0</td>\n",
       "      <td>...</td>\n",
       "      <td>20170601</td>\n",
       "      <td>Los Angeles</td>\n",
       "      <td>1</td>\n",
       "      <td>0</td>\n",
       "      <td>0</td>\n",
       "      <td>75.0</td>\n",
       "      <td>1.188372</td>\n",
       "      <td>2</td>\n",
       "      <td>0.132048</td>\n",
       "      <td>(-0.05, 0.05]</td>\n",
       "    </tr>\n",
       "    <tr>\n",
       "      <th>5569</th>\n",
       "      <td>13036580</td>\n",
       "      <td>2.0</td>\n",
       "      <td>3.0</td>\n",
       "      <td>1244.0</td>\n",
       "      <td>34107655.0</td>\n",
       "      <td>-117857978.0</td>\n",
       "      <td>261.0</td>\n",
       "      <td>11626.0</td>\n",
       "      <td>3101.0</td>\n",
       "      <td>96485.0</td>\n",
       "      <td>...</td>\n",
       "      <td>20170126</td>\n",
       "      <td>Los Angeles</td>\n",
       "      <td>1</td>\n",
       "      <td>0</td>\n",
       "      <td>0</td>\n",
       "      <td>42.0</td>\n",
       "      <td>1.228576</td>\n",
       "      <td>1</td>\n",
       "      <td>0.119559</td>\n",
       "      <td>(-0.05, 0.05]</td>\n",
       "    </tr>\n",
       "    <tr>\n",
       "      <th>14467</th>\n",
       "      <td>13076040</td>\n",
       "      <td>2.0</td>\n",
       "      <td>3.0</td>\n",
       "      <td>1554.0</td>\n",
       "      <td>34008244.0</td>\n",
       "      <td>-117809976.0</td>\n",
       "      <td>261.0</td>\n",
       "      <td>24384.0</td>\n",
       "      <td>3101.0</td>\n",
       "      <td>96505.0</td>\n",
       "      <td>...</td>\n",
       "      <td>20170303</td>\n",
       "      <td>Los Angeles</td>\n",
       "      <td>1</td>\n",
       "      <td>0</td>\n",
       "      <td>0</td>\n",
       "      <td>44.0</td>\n",
       "      <td>1.321805</td>\n",
       "      <td>1</td>\n",
       "      <td>0.181680</td>\n",
       "      <td>(-0.05, 0.05]</td>\n",
       "    </tr>\n",
       "    <tr>\n",
       "      <th>55865</th>\n",
       "      <td>12215714</td>\n",
       "      <td>1.0</td>\n",
       "      <td>3.0</td>\n",
       "      <td>817.0</td>\n",
       "      <td>33949534.0</td>\n",
       "      <td>-118235709.0</td>\n",
       "      <td>261.0</td>\n",
       "      <td>12447.0</td>\n",
       "      <td>3101.0</td>\n",
       "      <td>95983.0</td>\n",
       "      <td>...</td>\n",
       "      <td>20170711</td>\n",
       "      <td>Los Angeles</td>\n",
       "      <td>1</td>\n",
       "      <td>0</td>\n",
       "      <td>0</td>\n",
       "      <td>60.0</td>\n",
       "      <td>1.272144</td>\n",
       "      <td>2</td>\n",
       "      <td>0.077479</td>\n",
       "      <td>(-0.05, 0.05]</td>\n",
       "    </tr>\n",
       "    <tr>\n",
       "      <th>49249</th>\n",
       "      <td>12960014</td>\n",
       "      <td>2.0</td>\n",
       "      <td>3.0</td>\n",
       "      <td>1202.0</td>\n",
       "      <td>34136212.0</td>\n",
       "      <td>-118014378.0</td>\n",
       "      <td>261.0</td>\n",
       "      <td>32923.0</td>\n",
       "      <td>3101.0</td>\n",
       "      <td>96273.0</td>\n",
       "      <td>...</td>\n",
       "      <td>20170622</td>\n",
       "      <td>Los Angeles</td>\n",
       "      <td>1</td>\n",
       "      <td>0</td>\n",
       "      <td>0</td>\n",
       "      <td>59.0</td>\n",
       "      <td>1.308163</td>\n",
       "      <td>2</td>\n",
       "      <td>0.185491</td>\n",
       "      <td>(-0.05, 0.05]</td>\n",
       "    </tr>\n",
       "    <tr>\n",
       "      <th>44181</th>\n",
       "      <td>13883867</td>\n",
       "      <td>1.0</td>\n",
       "      <td>2.0</td>\n",
       "      <td>956.0</td>\n",
       "      <td>33793966.0</td>\n",
       "      <td>-117862347.0</td>\n",
       "      <td>261.0</td>\n",
       "      <td>33252.0</td>\n",
       "      <td>1286.0</td>\n",
       "      <td>97066.0</td>\n",
       "      <td>...</td>\n",
       "      <td>20170607</td>\n",
       "      <td>Orange</td>\n",
       "      <td>0</td>\n",
       "      <td>1</td>\n",
       "      <td>0</td>\n",
       "      <td>67.0</td>\n",
       "      <td>1.113269</td>\n",
       "      <td>2</td>\n",
       "      <td>0.152663</td>\n",
       "      <td>(0.2, 4.0]</td>\n",
       "    </tr>\n",
       "    <tr>\n",
       "      <th>30104</th>\n",
       "      <td>11533229</td>\n",
       "      <td>3.0</td>\n",
       "      <td>3.0</td>\n",
       "      <td>1462.0</td>\n",
       "      <td>33986241.0</td>\n",
       "      <td>-118426168.0</td>\n",
       "      <td>261.0</td>\n",
       "      <td>12447.0</td>\n",
       "      <td>3101.0</td>\n",
       "      <td>96047.0</td>\n",
       "      <td>...</td>\n",
       "      <td>20170426</td>\n",
       "      <td>Los Angeles</td>\n",
       "      <td>1</td>\n",
       "      <td>0</td>\n",
       "      <td>0</td>\n",
       "      <td>67.0</td>\n",
       "      <td>1.212972</td>\n",
       "      <td>1</td>\n",
       "      <td>0.129155</td>\n",
       "      <td>(-0.2, -0.05]</td>\n",
       "    </tr>\n",
       "    <tr>\n",
       "      <th>20326</th>\n",
       "      <td>11819720</td>\n",
       "      <td>2.0</td>\n",
       "      <td>3.0</td>\n",
       "      <td>1269.0</td>\n",
       "      <td>34067254.0</td>\n",
       "      <td>-118170750.0</td>\n",
       "      <td>261.0</td>\n",
       "      <td>12447.0</td>\n",
       "      <td>3101.0</td>\n",
       "      <td>96013.0</td>\n",
       "      <td>...</td>\n",
       "      <td>20170324</td>\n",
       "      <td>Los Angeles</td>\n",
       "      <td>1</td>\n",
       "      <td>0</td>\n",
       "      <td>0</td>\n",
       "      <td>63.0</td>\n",
       "      <td>1.245610</td>\n",
       "      <td>1</td>\n",
       "      <td>0.157484</td>\n",
       "      <td>(-0.05, 0.05]</td>\n",
       "    </tr>\n",
       "  </tbody>\n",
       "</table>\n",
       "<p>20 rows × 23 columns</p>\n",
       "</div>"
      ],
      "text/plain": [
       "       parcelid  bathroomcnt  bedroomcnt  calculatedfinishedsquarefeet  \\\n",
       "60337  17124366          2.0         4.0                        2436.0   \n",
       "28178  12668934          2.0         4.0                        1521.0   \n",
       "47587  17248766          2.0         4.0                        1835.0   \n",
       "42004  11430808          3.0         3.0                        1136.0   \n",
       "76659  17280763          1.0         3.0                         932.0   \n",
       "46984  12252152          2.0         4.0                        1640.0   \n",
       "52288  10860050          1.0         3.0                        1108.0   \n",
       "26089  10829225          2.0         3.0                        1316.0   \n",
       "48226  12268960          1.0         3.0                        1011.0   \n",
       "38343  12166629          1.0         3.0                        1400.0   \n",
       "64593  12174321          1.0         2.0                        1279.0   \n",
       "17065  12533355          2.0         2.0                        1639.0   \n",
       "42336  12480894          4.0         4.0                        2837.0   \n",
       "5569   13036580          2.0         3.0                        1244.0   \n",
       "14467  13076040          2.0         3.0                        1554.0   \n",
       "55865  12215714          1.0         3.0                         817.0   \n",
       "49249  12960014          2.0         3.0                        1202.0   \n",
       "44181  13883867          1.0         2.0                         956.0   \n",
       "30104  11533229          3.0         3.0                        1462.0   \n",
       "20326  11819720          2.0         3.0                        1269.0   \n",
       "\n",
       "         latitude    longitude  propertylandusetypeid  regionidcity  \\\n",
       "60337  34242629.0 -119039511.0                  261.0       51239.0   \n",
       "28178  33808478.0 -118388703.0                  261.0       33612.0   \n",
       "47587  34252233.0 -118766999.0                  261.0       27110.0   \n",
       "42004  33897642.0 -118311162.0                  261.0       45398.0   \n",
       "76659  34207657.0 -118851620.0                  261.0       34278.0   \n",
       "46984  33903547.0 -118295735.0                  261.0       45398.0   \n",
       "52288  34158315.0 -118438305.0                  261.0       12447.0   \n",
       "26089  34199897.0 -118453570.0                  261.0       12447.0   \n",
       "48226  33921848.0 -118247414.0                  261.0      118994.0   \n",
       "38343  34186531.0 -118134713.0                  261.0       30187.0   \n",
       "64593  34178133.0 -118103892.0                  261.0       30187.0   \n",
       "17065  33764631.0 -118135660.0                  261.0       46298.0   \n",
       "42336  33862630.0 -118125609.0                  261.0       12292.0   \n",
       "5569   34107655.0 -117857978.0                  261.0       11626.0   \n",
       "14467  34008244.0 -117809976.0                  261.0       24384.0   \n",
       "55865  33949534.0 -118235709.0                  261.0       12447.0   \n",
       "49249  34136212.0 -118014378.0                  261.0       32923.0   \n",
       "44181  33793966.0 -117862347.0                  261.0       33252.0   \n",
       "30104  33986241.0 -118426168.0                  261.0       12447.0   \n",
       "20326  34067254.0 -118170750.0                  261.0       12447.0   \n",
       "\n",
       "       regionidcounty  regionidzip  ...  transactiondate  county_name  \\\n",
       "60337          2061.0      97089.0  ...         20170725      Ventura   \n",
       "28178          3101.0      96123.0  ...         20170420  Los Angeles   \n",
       "47587          2061.0      97118.0  ...         20170616      Ventura   \n",
       "42004          3101.0      96106.0  ...         20170531  Los Angeles   \n",
       "76659          2061.0      96383.0  ...         20170914      Ventura   \n",
       "46984          3101.0      96104.0  ...         20170615  Los Angeles   \n",
       "52288          3101.0      96424.0  ...         20170629  Los Angeles   \n",
       "26089          3101.0      96414.0  ...         20170413  Los Angeles   \n",
       "48226          3101.0      96040.0  ...         20170620  Los Angeles   \n",
       "38343          3101.0      96265.0  ...         20170522  Los Angeles   \n",
       "64593          3101.0      96265.0  ...         20170808  Los Angeles   \n",
       "17065          3101.0      96237.0  ...         20170315  Los Angeles   \n",
       "42336          3101.0      96212.0  ...         20170601  Los Angeles   \n",
       "5569           3101.0      96485.0  ...         20170126  Los Angeles   \n",
       "14467          3101.0      96505.0  ...         20170303  Los Angeles   \n",
       "55865          3101.0      95983.0  ...         20170711  Los Angeles   \n",
       "49249          3101.0      96273.0  ...         20170622  Los Angeles   \n",
       "44181          1286.0      97066.0  ...         20170607       Orange   \n",
       "30104          3101.0      96047.0  ...         20170426  Los Angeles   \n",
       "20326          3101.0      96013.0  ...         20170324  Los Angeles   \n",
       "\n",
       "       la_cnty orange_cnty ventura_cnty   age   taxrate  quadrimester  \\\n",
       "60337        0           0            1  36.0  1.066761             2   \n",
       "28178        1           0            0  62.0  1.134637             1   \n",
       "47587        0           0            1  52.0  1.155815             2   \n",
       "42004        1           0            0  70.0  1.254580             2   \n",
       "76659        0           0            1  57.0  1.647027             3   \n",
       "46984        1           0            0  30.0  1.257682             2   \n",
       "52288        1           0            0  69.0  1.242713             2   \n",
       "26089        1           0            0  68.0  1.205986             1   \n",
       "48226        1           0            0  71.0  1.541571             2   \n",
       "38343        1           0            0  90.0  1.203363             2   \n",
       "64593        1           0            0  78.0  1.148705             2   \n",
       "17065        1           0            0  94.0  1.179549             1   \n",
       "42336        1           0            0  75.0  1.188372             2   \n",
       "5569         1           0            0  42.0  1.228576             1   \n",
       "14467        1           0            0  44.0  1.321805             1   \n",
       "55865        1           0            0  60.0  1.272144             2   \n",
       "49249        1           0            0  59.0  1.308163             2   \n",
       "44181        0           1            0  67.0  1.113269             2   \n",
       "30104        1           0            0  67.0  1.212972             1   \n",
       "20326        1           0            0  63.0  1.245610             1   \n",
       "\n",
       "       lotsize_acres  logerror_bins  \n",
       "60337       0.211915  (-0.05, 0.05]  \n",
       "28178       0.146602  (-0.2, -0.05]  \n",
       "47587       0.202479  (-0.05, 0.05]  \n",
       "42004       0.110193  (-0.05, 0.05]  \n",
       "76659       0.280739  (-0.05, 0.05]  \n",
       "46984       0.114210  (-0.05, 0.05]  \n",
       "52288       0.138200    (0.05, 0.2]  \n",
       "26089       0.140702  (-0.05, 0.05]  \n",
       "48226       0.137052  (-0.05, 0.05]  \n",
       "38343       0.164899   (-5.0, -0.2]  \n",
       "64593       0.220638  (-0.05, 0.05]  \n",
       "17065       0.082208  (-0.05, 0.05]  \n",
       "42336       0.132048  (-0.05, 0.05]  \n",
       "5569        0.119559  (-0.05, 0.05]  \n",
       "14467       0.181680  (-0.05, 0.05]  \n",
       "55865       0.077479  (-0.05, 0.05]  \n",
       "49249       0.185491  (-0.05, 0.05]  \n",
       "44181       0.152663     (0.2, 4.0]  \n",
       "30104       0.129155  (-0.2, -0.05]  \n",
       "20326       0.157484  (-0.05, 0.05]  \n",
       "\n",
       "[20 rows x 23 columns]"
      ]
     },
     "execution_count": 10,
     "metadata": {},
     "output_type": "execute_result"
    }
   ],
   "source": [
    "train_scaled_df.head()\n"
   ]
  },
  {
   "cell_type": "markdown",
   "metadata": {},
   "source": [
    "# Explore "
   ]
  },
  {
   "cell_type": "markdown",
   "metadata": {},
   "source": [
    "explore target"
   ]
  },
  {
   "cell_type": "code",
   "execution_count": null,
   "metadata": {},
   "outputs": [],
   "source": [
    "plt.figure(figsize=(13, 8))\n",
    "train['logerror'].hist(grid=False, color = 'teal')\n",
    "plt.xlabel(\"logerror\")\n",
    "plt.ylabel(\"Number of properties\")                               \n",
    "plt.xlim(-2 ,3)\n",
    "plt.show()"
   ]
  },
  {
   "cell_type": "code",
   "execution_count": null,
   "metadata": {},
   "outputs": [],
   "source": [
    "plt.figure(figsize=(16, 8))\n",
    "sns.boxplot(train['logerror'])\n",
    "plt.xlim(-.25 ,.25)\n",
    "plt.show()"
   ]
  },
  {
   "cell_type": "code",
   "execution_count": null,
   "metadata": {},
   "outputs": [],
   "source": [
    "train['logerror'].describe()"
   ]
  },
  {
   "cell_type": "code",
   "execution_count": null,
   "metadata": {},
   "outputs": [],
   "source": [
    "train['logerror_bins']= pd.cut(train.logerror, [-5, -.2, -.05, .05, .2, 4])"
   ]
  },
  {
   "cell_type": "code",
   "execution_count": null,
   "metadata": {
    "scrolled": true
   },
   "outputs": [],
   "source": [
    "train.logerror_bins.value_counts()"
   ]
  },
  {
   "cell_type": "code",
   "execution_count": null,
   "metadata": {
    "scrolled": true
   },
   "outputs": [],
   "source": [
    "ex.plot_variable_pairs(train, 'logerror')"
   ]
  },
  {
   "cell_type": "code",
   "execution_count": null,
   "metadata": {},
   "outputs": [],
   "source": [
    "def plot_variable_pairs(df, target):\n",
    "    '''\n",
    "    Takes in a dataframe and a target and returns  plots of all the pairwise relationships \n",
    "    along with the regression line for each pair.\n",
    "    '''\n",
    "    \n",
    "    # get the list of the columns  that are not object type\n",
    "    columns = list(df.select_dtypes(exclude= 'O').columns)\n",
    "    #remove target from columns\n",
    "    columns.remove(target)\n",
    "    \n",
    "    #plot\n",
    "    for col in columns:\n",
    "        sns.lmplot(x= col, y= target, data=df, line_kws={'color': 'red'}, hue = 'logerror_bins')\n",
    "        plt.title(col)\n",
    "        plt.show()\n",
    "    return"
   ]
  },
  {
   "cell_type": "code",
   "execution_count": null,
   "metadata": {},
   "outputs": [],
   "source": []
  },
  {
   "cell_type": "code",
   "execution_count": null,
   "metadata": {},
   "outputs": [],
   "source": [
    "train.columns"
   ]
  },
  {
   "cell_type": "raw",
   "metadata": {},
   "source": []
  },
  {
   "cell_type": "code",
   "execution_count": null,
   "metadata": {
    "scrolled": false
   },
   "outputs": [],
   "source": [
    "sns.pairplot(data = train, hue = 'logerror_bins',\n",
    "             x_vars = ['logerror', 'structuretaxvaluedollarcnt', 'quadrimester', 'taxrate', \n",
    "                       'bedroomcnt'],\n",
    "             y_vars = ['logerror', 'bathroomcnt', 'calculatedfinishedsquarefeet', 'lotsize_acres', 'age'])"
   ]
  },
  {
   "cell_type": "markdown",
   "metadata": {},
   "source": [
    "takeaways \n",
    "- the log error is low for the houses less than 20 years old  that were sold in the 2nd and 3rd quadrimester\n",
    "- the range of log error is higher for the houses  that are 50 -70 years old\n",
    "- the range of logerror is low for the lower and higher lot sizes\n",
    "- the range of logerror is low for the lower and higher calculatedfinishedsqrefeet\n",
    "- the logerror is low for the calculatedfihishedsquarefeet >1500 and with 4 bedrooms\n",
    "- the logerror is low for 2.5 -3 bathrooms and were sold jan -dic\n",
    "- the log error for a 5bedrooms is low with 1 -4 bathrooms except 2 bathrooms\n",
    "- the range of log error in 3.5 baths is low"
   ]
  },
  {
   "cell_type": "code",
   "execution_count": null,
   "metadata": {
    "scrolled": true
   },
   "outputs": [],
   "source": [
    "print('Relationship between Age  and logerror)')\n",
    "sns.jointplot(x='age', y='lotsize_acres', data=train, hue='logerror_bins')\n",
    "plt.xlabel('Age')\n",
    "plt.ylabel('lot size')\n",
    "plt.legend()\n",
    "plt.show()"
   ]
  },
  {
   "cell_type": "code",
   "execution_count": null,
   "metadata": {
    "scrolled": true
   },
   "outputs": [],
   "source": [
    "train.head()"
   ]
  },
  {
   "cell_type": "code",
   "execution_count": null,
   "metadata": {},
   "outputs": [],
   "source": []
  },
  {
   "cell_type": "code",
   "execution_count": null,
   "metadata": {},
   "outputs": [],
   "source": [
    "print('Relationship between Age  and logerror)')\n",
    "sns.jointplot(x='los_angeles', y='logerror', data=train)\n",
    "plt.xlabel('Age')\n",
    "plt.ylabel('lot size')\n",
    "plt.legend('center')\n",
    "plt.show()"
   ]
  },
  {
   "cell_type": "code",
   "execution_count": null,
   "metadata": {},
   "outputs": [],
   "source": [
    "sns.boxplot(train.age_bin, train.spending_score)\n",
    "plt.title('Spending Score across age bins')\n",
    "plt.show()"
   ]
  },
  {
   "cell_type": "code",
   "execution_count": null,
   "metadata": {},
   "outputs": [],
   "source": [
    "def create_cluster(df, X, k):\n",
    "    \n",
    "    \"\"\" Takes in df, X (dataframe with variables you want to cluster on) and k\n",
    "    # It scales the X, calcuates the clusters and return train (with clusters), the Scaled dataframe,\n",
    "    #the scaler and kmeans object and unscaled centroids as a dataframe\"\"\"\n",
    "    \n",
    "    scaler = StandardScaler(copy=True).fit(X)\n",
    "    X_scaled = pd.DataFrame(scaler.transform(X), columns=X.columns.values).set_index([X.index.values])\n",
    "    kmeans = KMeans(n_clusters = k, random_state = 42)\n",
    "    kmeans.fit(X_scaled)\n",
    "    kmeans.predict(X_scaled)\n",
    "    df['cluster'] = kmeans.predict(X_scaled)\n",
    "    df['cluster'] = 'cluster_' + df.cluster.astype(str)\n",
    "    centroids = pd.DataFrame(scaler.inverse_transform(kmeans.cluster_centers_), columns=X_scaled.columns)\n",
    "    return df, X_scaled, scaler, kmeans, centroids"
   ]
  },
  {
   "cell_type": "code",
   "execution_count": null,
   "metadata": {},
   "outputs": [],
   "source": [
    "def create_scatter_plot(x,y,df,kmeans, X_scaled, scaler):\n",
    "    \n",
    "    \"\"\" Takes in x and y (variable names as strings, along with returned objects from previous\n",
    "    function create_cluster and creates a plot\"\"\"\n",
    "    \n",
    "    plt.figure(figsize=(10, 6))\n",
    "    sns.scatterplot(x = x, y = y, data = df, hue = 'cluster')\n",
    "    centroids = pd.DataFrame(scaler.inverse_transform(kmeans.cluster_centers_), columns=X_scaled.columns)\n",
    "    centroids.plot.scatter(y=y, x= x, ax=plt.gca(), alpha=.30, s=500, c='black')"
   ]
  }
 ],
 "metadata": {
  "kernelspec": {
   "display_name": "Python 3",
   "language": "python",
   "name": "python3"
  },
  "language_info": {
   "codemirror_mode": {
    "name": "ipython",
    "version": 3
   },
   "file_extension": ".py",
   "mimetype": "text/x-python",
   "name": "python",
   "nbconvert_exporter": "python",
   "pygments_lexer": "ipython3",
   "version": "3.8.5"
  }
 },
 "nbformat": 4,
 "nbformat_minor": 4
}
